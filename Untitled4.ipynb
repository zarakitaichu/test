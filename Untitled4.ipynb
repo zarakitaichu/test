{
  "nbformat": 4,
  "nbformat_minor": 0,
  "metadata": {
    "colab": {
      "provenance": [],
      "collapsed_sections": [
        "erLMin9lNVoh"
      ]
    },
    "kernelspec": {
      "name": "python3",
      "display_name": "Python 3"
    },
    "language_info": {
      "name": "python"
    }
  },
  "cells": [
    {
      "cell_type": "code",
      "execution_count": 1,
      "metadata": {
        "colab": {
          "base_uri": "https://localhost:8080/"
        },
        "id": "00Crsc2sJHHu",
        "outputId": "88e500ba-eaa7-464c-dc4b-e8bccdaccf6c"
      },
      "outputs": [
        {
          "output_type": "stream",
          "name": "stdout",
          "text": [
            "Drive already mounted at /content/drive; to attempt to forcibly remount, call drive.mount(\"/content/drive\", force_remount=True).\n"
          ]
        }
      ],
      "source": [
        "from google.colab import drive\n",
        "drive.mount('/content/drive')"
      ]
    },
    {
      "cell_type": "code",
      "source": [
        "import pandas as pd\n",
        "import numpy as np"
      ],
      "metadata": {
        "id": "0wNnpjmhJIiD"
      },
      "execution_count": 2,
      "outputs": []
    },
    {
      "cell_type": "code",
      "source": [
        "path = '/content/drive/MyDrive/Shopee/'"
      ],
      "metadata": {
        "id": "IukxYN0QLBb0"
      },
      "execution_count": 3,
      "outputs": []
    },
    {
      "cell_type": "code",
      "source": [
        "train_df = pd.read_csv(path+'train.csv')\n",
        "test_df = pd.read_csv(path+'test.csv')\n",
        "# sample = pd.read_csv('sample_submission.csv')"
      ],
      "metadata": {
        "id": "rkVeUAfbJIjz"
      },
      "execution_count": 4,
      "outputs": []
    },
    {
      "cell_type": "code",
      "source": [
        "train_df.shape"
      ],
      "metadata": {
        "colab": {
          "base_uri": "https://localhost:8080/"
        },
        "id": "5jBmvmuNJIlx",
        "outputId": "9b92b0f1-bd08-46ff-e0d0-61d4083dd4da"
      },
      "execution_count": 5,
      "outputs": [
        {
          "output_type": "execute_result",
          "data": {
            "text/plain": [
              "(34250, 5)"
            ]
          },
          "metadata": {},
          "execution_count": 5
        }
      ]
    },
    {
      "cell_type": "code",
      "source": [
        "train_df.head()"
      ],
      "metadata": {
        "colab": {
          "base_uri": "https://localhost:8080/",
          "height": 206
        },
        "id": "AEi5OEy3JInu",
        "outputId": "760e916c-f711-4cf6-88b4-da444cdb3550"
      },
      "execution_count": 6,
      "outputs": [
        {
          "output_type": "execute_result",
          "data": {
            "text/plain": [
              "         posting_id                                 image       image_phash  \\\n",
              "0   train_129225211  0000a68812bc7e98c42888dfb1c07da0.jpg  94974f937d4c2433   \n",
              "1  train_3386243561  00039780dfc94d01db8676fe789ecd05.jpg  af3f9460c2838f0f   \n",
              "2  train_2288590299  000a190fdd715a2a36faed16e2c65df7.jpg  b94cb00ed3e50f78   \n",
              "3  train_2406599165  00117e4fc239b1b641ff08340b429633.jpg  8514fc58eafea283   \n",
              "4  train_3369186413  00136d1cf4edede0203f32f05f660588.jpg  a6f319f924ad708c   \n",
              "\n",
              "                                               title  label_group  \n",
              "0                          Paper Bag Victoria Secret    249114794  \n",
              "1  Double Tape 3M VHB 12 mm x 4,5 m ORIGINAL / DO...   2937985045  \n",
              "2        Maling TTS Canned Pork Luncheon Meat 397 gr   2395904891  \n",
              "3  Daster Batik Lengan pendek - Motif Acak / Camp...   4093212188  \n",
              "4                  Nescafe \\xc3\\x89clair Latte 220ml   3648931069  "
            ],
            "text/html": [
              "\n",
              "  <div id=\"df-918ee394-4b8c-41c1-ae5a-ee32e14cb8f0\">\n",
              "    <div class=\"colab-df-container\">\n",
              "      <div>\n",
              "<style scoped>\n",
              "    .dataframe tbody tr th:only-of-type {\n",
              "        vertical-align: middle;\n",
              "    }\n",
              "\n",
              "    .dataframe tbody tr th {\n",
              "        vertical-align: top;\n",
              "    }\n",
              "\n",
              "    .dataframe thead th {\n",
              "        text-align: right;\n",
              "    }\n",
              "</style>\n",
              "<table border=\"1\" class=\"dataframe\">\n",
              "  <thead>\n",
              "    <tr style=\"text-align: right;\">\n",
              "      <th></th>\n",
              "      <th>posting_id</th>\n",
              "      <th>image</th>\n",
              "      <th>image_phash</th>\n",
              "      <th>title</th>\n",
              "      <th>label_group</th>\n",
              "    </tr>\n",
              "  </thead>\n",
              "  <tbody>\n",
              "    <tr>\n",
              "      <th>0</th>\n",
              "      <td>train_129225211</td>\n",
              "      <td>0000a68812bc7e98c42888dfb1c07da0.jpg</td>\n",
              "      <td>94974f937d4c2433</td>\n",
              "      <td>Paper Bag Victoria Secret</td>\n",
              "      <td>249114794</td>\n",
              "    </tr>\n",
              "    <tr>\n",
              "      <th>1</th>\n",
              "      <td>train_3386243561</td>\n",
              "      <td>00039780dfc94d01db8676fe789ecd05.jpg</td>\n",
              "      <td>af3f9460c2838f0f</td>\n",
              "      <td>Double Tape 3M VHB 12 mm x 4,5 m ORIGINAL / DO...</td>\n",
              "      <td>2937985045</td>\n",
              "    </tr>\n",
              "    <tr>\n",
              "      <th>2</th>\n",
              "      <td>train_2288590299</td>\n",
              "      <td>000a190fdd715a2a36faed16e2c65df7.jpg</td>\n",
              "      <td>b94cb00ed3e50f78</td>\n",
              "      <td>Maling TTS Canned Pork Luncheon Meat 397 gr</td>\n",
              "      <td>2395904891</td>\n",
              "    </tr>\n",
              "    <tr>\n",
              "      <th>3</th>\n",
              "      <td>train_2406599165</td>\n",
              "      <td>00117e4fc239b1b641ff08340b429633.jpg</td>\n",
              "      <td>8514fc58eafea283</td>\n",
              "      <td>Daster Batik Lengan pendek - Motif Acak / Camp...</td>\n",
              "      <td>4093212188</td>\n",
              "    </tr>\n",
              "    <tr>\n",
              "      <th>4</th>\n",
              "      <td>train_3369186413</td>\n",
              "      <td>00136d1cf4edede0203f32f05f660588.jpg</td>\n",
              "      <td>a6f319f924ad708c</td>\n",
              "      <td>Nescafe \\xc3\\x89clair Latte 220ml</td>\n",
              "      <td>3648931069</td>\n",
              "    </tr>\n",
              "  </tbody>\n",
              "</table>\n",
              "</div>\n",
              "      <button class=\"colab-df-convert\" onclick=\"convertToInteractive('df-918ee394-4b8c-41c1-ae5a-ee32e14cb8f0')\"\n",
              "              title=\"Convert this dataframe to an interactive table.\"\n",
              "              style=\"display:none;\">\n",
              "        \n",
              "  <svg xmlns=\"http://www.w3.org/2000/svg\" height=\"24px\"viewBox=\"0 0 24 24\"\n",
              "       width=\"24px\">\n",
              "    <path d=\"M0 0h24v24H0V0z\" fill=\"none\"/>\n",
              "    <path d=\"M18.56 5.44l.94 2.06.94-2.06 2.06-.94-2.06-.94-.94-2.06-.94 2.06-2.06.94zm-11 1L8.5 8.5l.94-2.06 2.06-.94-2.06-.94L8.5 2.5l-.94 2.06-2.06.94zm10 10l.94 2.06.94-2.06 2.06-.94-2.06-.94-.94-2.06-.94 2.06-2.06.94z\"/><path d=\"M17.41 7.96l-1.37-1.37c-.4-.4-.92-.59-1.43-.59-.52 0-1.04.2-1.43.59L10.3 9.45l-7.72 7.72c-.78.78-.78 2.05 0 2.83L4 21.41c.39.39.9.59 1.41.59.51 0 1.02-.2 1.41-.59l7.78-7.78 2.81-2.81c.8-.78.8-2.07 0-2.86zM5.41 20L4 18.59l7.72-7.72 1.47 1.35L5.41 20z\"/>\n",
              "  </svg>\n",
              "      </button>\n",
              "      \n",
              "  <style>\n",
              "    .colab-df-container {\n",
              "      display:flex;\n",
              "      flex-wrap:wrap;\n",
              "      gap: 12px;\n",
              "    }\n",
              "\n",
              "    .colab-df-convert {\n",
              "      background-color: #E8F0FE;\n",
              "      border: none;\n",
              "      border-radius: 50%;\n",
              "      cursor: pointer;\n",
              "      display: none;\n",
              "      fill: #1967D2;\n",
              "      height: 32px;\n",
              "      padding: 0 0 0 0;\n",
              "      width: 32px;\n",
              "    }\n",
              "\n",
              "    .colab-df-convert:hover {\n",
              "      background-color: #E2EBFA;\n",
              "      box-shadow: 0px 1px 2px rgba(60, 64, 67, 0.3), 0px 1px 3px 1px rgba(60, 64, 67, 0.15);\n",
              "      fill: #174EA6;\n",
              "    }\n",
              "\n",
              "    [theme=dark] .colab-df-convert {\n",
              "      background-color: #3B4455;\n",
              "      fill: #D2E3FC;\n",
              "    }\n",
              "\n",
              "    [theme=dark] .colab-df-convert:hover {\n",
              "      background-color: #434B5C;\n",
              "      box-shadow: 0px 1px 3px 1px rgba(0, 0, 0, 0.15);\n",
              "      filter: drop-shadow(0px 1px 2px rgba(0, 0, 0, 0.3));\n",
              "      fill: #FFFFFF;\n",
              "    }\n",
              "  </style>\n",
              "\n",
              "      <script>\n",
              "        const buttonEl =\n",
              "          document.querySelector('#df-918ee394-4b8c-41c1-ae5a-ee32e14cb8f0 button.colab-df-convert');\n",
              "        buttonEl.style.display =\n",
              "          google.colab.kernel.accessAllowed ? 'block' : 'none';\n",
              "\n",
              "        async function convertToInteractive(key) {\n",
              "          const element = document.querySelector('#df-918ee394-4b8c-41c1-ae5a-ee32e14cb8f0');\n",
              "          const dataTable =\n",
              "            await google.colab.kernel.invokeFunction('convertToInteractive',\n",
              "                                                     [key], {});\n",
              "          if (!dataTable) return;\n",
              "\n",
              "          const docLinkHtml = 'Like what you see? Visit the ' +\n",
              "            '<a target=\"_blank\" href=https://colab.research.google.com/notebooks/data_table.ipynb>data table notebook</a>'\n",
              "            + ' to learn more about interactive tables.';\n",
              "          element.innerHTML = '';\n",
              "          dataTable['output_type'] = 'display_data';\n",
              "          await google.colab.output.renderOutput(dataTable, element);\n",
              "          const docLink = document.createElement('div');\n",
              "          docLink.innerHTML = docLinkHtml;\n",
              "          element.appendChild(docLink);\n",
              "        }\n",
              "      </script>\n",
              "    </div>\n",
              "  </div>\n",
              "  "
            ]
          },
          "metadata": {},
          "execution_count": 6
        }
      ]
    },
    {
      "cell_type": "markdown",
      "source": [
        "## Compute baseline using perceptual hash\n",
        "\n",
        "A baseline is to predict all items with the same image_phash as being duplicate. Let's calcuate the CV score for this submission"
      ],
      "metadata": {
        "id": "yCxgBXNNuI7H"
      }
    },
    {
      "cell_type": "code",
      "source": [
        "tmp = train_df.groupby('label_group').posting_id.agg('unique').to_dict()\n",
        "train_df['target'] = train_df.label_group.map(tmp)\n",
        "print('train shape is', train_df.shape )\n",
        "train_df.head()"
      ],
      "metadata": {
        "colab": {
          "base_uri": "https://localhost:8080/",
          "height": 224
        },
        "id": "8QqYukYkHqkW",
        "outputId": "127d2227-fe1a-40e4-e337-237d2acfa89d"
      },
      "execution_count": 7,
      "outputs": [
        {
          "output_type": "stream",
          "name": "stdout",
          "text": [
            "train shape is (34250, 6)\n"
          ]
        },
        {
          "output_type": "execute_result",
          "data": {
            "text/plain": [
              "         posting_id                                 image       image_phash  \\\n",
              "0   train_129225211  0000a68812bc7e98c42888dfb1c07da0.jpg  94974f937d4c2433   \n",
              "1  train_3386243561  00039780dfc94d01db8676fe789ecd05.jpg  af3f9460c2838f0f   \n",
              "2  train_2288590299  000a190fdd715a2a36faed16e2c65df7.jpg  b94cb00ed3e50f78   \n",
              "3  train_2406599165  00117e4fc239b1b641ff08340b429633.jpg  8514fc58eafea283   \n",
              "4  train_3369186413  00136d1cf4edede0203f32f05f660588.jpg  a6f319f924ad708c   \n",
              "\n",
              "                                               title  label_group  \\\n",
              "0                          Paper Bag Victoria Secret    249114794   \n",
              "1  Double Tape 3M VHB 12 mm x 4,5 m ORIGINAL / DO...   2937985045   \n",
              "2        Maling TTS Canned Pork Luncheon Meat 397 gr   2395904891   \n",
              "3  Daster Batik Lengan pendek - Motif Acak / Camp...   4093212188   \n",
              "4                  Nescafe \\xc3\\x89clair Latte 220ml   3648931069   \n",
              "\n",
              "                                 target  \n",
              "0   [train_129225211, train_2278313361]  \n",
              "1  [train_3386243561, train_3423213080]  \n",
              "2  [train_2288590299, train_3803689425]  \n",
              "3  [train_2406599165, train_3342059966]  \n",
              "4   [train_3369186413, train_921438619]  "
            ],
            "text/html": [
              "\n",
              "  <div id=\"df-128fcd2f-ed00-436d-8d98-9d56e59707d6\">\n",
              "    <div class=\"colab-df-container\">\n",
              "      <div>\n",
              "<style scoped>\n",
              "    .dataframe tbody tr th:only-of-type {\n",
              "        vertical-align: middle;\n",
              "    }\n",
              "\n",
              "    .dataframe tbody tr th {\n",
              "        vertical-align: top;\n",
              "    }\n",
              "\n",
              "    .dataframe thead th {\n",
              "        text-align: right;\n",
              "    }\n",
              "</style>\n",
              "<table border=\"1\" class=\"dataframe\">\n",
              "  <thead>\n",
              "    <tr style=\"text-align: right;\">\n",
              "      <th></th>\n",
              "      <th>posting_id</th>\n",
              "      <th>image</th>\n",
              "      <th>image_phash</th>\n",
              "      <th>title</th>\n",
              "      <th>label_group</th>\n",
              "      <th>target</th>\n",
              "    </tr>\n",
              "  </thead>\n",
              "  <tbody>\n",
              "    <tr>\n",
              "      <th>0</th>\n",
              "      <td>train_129225211</td>\n",
              "      <td>0000a68812bc7e98c42888dfb1c07da0.jpg</td>\n",
              "      <td>94974f937d4c2433</td>\n",
              "      <td>Paper Bag Victoria Secret</td>\n",
              "      <td>249114794</td>\n",
              "      <td>[train_129225211, train_2278313361]</td>\n",
              "    </tr>\n",
              "    <tr>\n",
              "      <th>1</th>\n",
              "      <td>train_3386243561</td>\n",
              "      <td>00039780dfc94d01db8676fe789ecd05.jpg</td>\n",
              "      <td>af3f9460c2838f0f</td>\n",
              "      <td>Double Tape 3M VHB 12 mm x 4,5 m ORIGINAL / DO...</td>\n",
              "      <td>2937985045</td>\n",
              "      <td>[train_3386243561, train_3423213080]</td>\n",
              "    </tr>\n",
              "    <tr>\n",
              "      <th>2</th>\n",
              "      <td>train_2288590299</td>\n",
              "      <td>000a190fdd715a2a36faed16e2c65df7.jpg</td>\n",
              "      <td>b94cb00ed3e50f78</td>\n",
              "      <td>Maling TTS Canned Pork Luncheon Meat 397 gr</td>\n",
              "      <td>2395904891</td>\n",
              "      <td>[train_2288590299, train_3803689425]</td>\n",
              "    </tr>\n",
              "    <tr>\n",
              "      <th>3</th>\n",
              "      <td>train_2406599165</td>\n",
              "      <td>00117e4fc239b1b641ff08340b429633.jpg</td>\n",
              "      <td>8514fc58eafea283</td>\n",
              "      <td>Daster Batik Lengan pendek - Motif Acak / Camp...</td>\n",
              "      <td>4093212188</td>\n",
              "      <td>[train_2406599165, train_3342059966]</td>\n",
              "    </tr>\n",
              "    <tr>\n",
              "      <th>4</th>\n",
              "      <td>train_3369186413</td>\n",
              "      <td>00136d1cf4edede0203f32f05f660588.jpg</td>\n",
              "      <td>a6f319f924ad708c</td>\n",
              "      <td>Nescafe \\xc3\\x89clair Latte 220ml</td>\n",
              "      <td>3648931069</td>\n",
              "      <td>[train_3369186413, train_921438619]</td>\n",
              "    </tr>\n",
              "  </tbody>\n",
              "</table>\n",
              "</div>\n",
              "      <button class=\"colab-df-convert\" onclick=\"convertToInteractive('df-128fcd2f-ed00-436d-8d98-9d56e59707d6')\"\n",
              "              title=\"Convert this dataframe to an interactive table.\"\n",
              "              style=\"display:none;\">\n",
              "        \n",
              "  <svg xmlns=\"http://www.w3.org/2000/svg\" height=\"24px\"viewBox=\"0 0 24 24\"\n",
              "       width=\"24px\">\n",
              "    <path d=\"M0 0h24v24H0V0z\" fill=\"none\"/>\n",
              "    <path d=\"M18.56 5.44l.94 2.06.94-2.06 2.06-.94-2.06-.94-.94-2.06-.94 2.06-2.06.94zm-11 1L8.5 8.5l.94-2.06 2.06-.94-2.06-.94L8.5 2.5l-.94 2.06-2.06.94zm10 10l.94 2.06.94-2.06 2.06-.94-2.06-.94-.94-2.06-.94 2.06-2.06.94z\"/><path d=\"M17.41 7.96l-1.37-1.37c-.4-.4-.92-.59-1.43-.59-.52 0-1.04.2-1.43.59L10.3 9.45l-7.72 7.72c-.78.78-.78 2.05 0 2.83L4 21.41c.39.39.9.59 1.41.59.51 0 1.02-.2 1.41-.59l7.78-7.78 2.81-2.81c.8-.78.8-2.07 0-2.86zM5.41 20L4 18.59l7.72-7.72 1.47 1.35L5.41 20z\"/>\n",
              "  </svg>\n",
              "      </button>\n",
              "      \n",
              "  <style>\n",
              "    .colab-df-container {\n",
              "      display:flex;\n",
              "      flex-wrap:wrap;\n",
              "      gap: 12px;\n",
              "    }\n",
              "\n",
              "    .colab-df-convert {\n",
              "      background-color: #E8F0FE;\n",
              "      border: none;\n",
              "      border-radius: 50%;\n",
              "      cursor: pointer;\n",
              "      display: none;\n",
              "      fill: #1967D2;\n",
              "      height: 32px;\n",
              "      padding: 0 0 0 0;\n",
              "      width: 32px;\n",
              "    }\n",
              "\n",
              "    .colab-df-convert:hover {\n",
              "      background-color: #E2EBFA;\n",
              "      box-shadow: 0px 1px 2px rgba(60, 64, 67, 0.3), 0px 1px 3px 1px rgba(60, 64, 67, 0.15);\n",
              "      fill: #174EA6;\n",
              "    }\n",
              "\n",
              "    [theme=dark] .colab-df-convert {\n",
              "      background-color: #3B4455;\n",
              "      fill: #D2E3FC;\n",
              "    }\n",
              "\n",
              "    [theme=dark] .colab-df-convert:hover {\n",
              "      background-color: #434B5C;\n",
              "      box-shadow: 0px 1px 3px 1px rgba(0, 0, 0, 0.15);\n",
              "      filter: drop-shadow(0px 1px 2px rgba(0, 0, 0, 0.3));\n",
              "      fill: #FFFFFF;\n",
              "    }\n",
              "  </style>\n",
              "\n",
              "      <script>\n",
              "        const buttonEl =\n",
              "          document.querySelector('#df-128fcd2f-ed00-436d-8d98-9d56e59707d6 button.colab-df-convert');\n",
              "        buttonEl.style.display =\n",
              "          google.colab.kernel.accessAllowed ? 'block' : 'none';\n",
              "\n",
              "        async function convertToInteractive(key) {\n",
              "          const element = document.querySelector('#df-128fcd2f-ed00-436d-8d98-9d56e59707d6');\n",
              "          const dataTable =\n",
              "            await google.colab.kernel.invokeFunction('convertToInteractive',\n",
              "                                                     [key], {});\n",
              "          if (!dataTable) return;\n",
              "\n",
              "          const docLinkHtml = 'Like what you see? Visit the ' +\n",
              "            '<a target=\"_blank\" href=https://colab.research.google.com/notebooks/data_table.ipynb>data table notebook</a>'\n",
              "            + ' to learn more about interactive tables.';\n",
              "          element.innerHTML = '';\n",
              "          dataTable['output_type'] = 'display_data';\n",
              "          await google.colab.output.renderOutput(dataTable, element);\n",
              "          const docLink = document.createElement('div');\n",
              "          docLink.innerHTML = docLinkHtml;\n",
              "          element.appendChild(docLink);\n",
              "        }\n",
              "      </script>\n",
              "    </div>\n",
              "  </div>\n",
              "  "
            ]
          },
          "metadata": {},
          "execution_count": 7
        }
      ]
    },
    {
      "cell_type": "code",
      "source": [
        "tmp = train_df.groupby('image_phash').posting_id.agg('unique').to_dict()\n",
        "train_df['oof'] = train_df.image_phash.map(tmp)"
      ],
      "metadata": {
        "id": "xlDBHfkCuI80"
      },
      "execution_count": 8,
      "outputs": []
    },
    {
      "cell_type": "code",
      "source": [
        "def getMetric(col):\n",
        "    def f1score(row):\n",
        "        n = len( np.intersect1d(row.target,row[col]) )\n",
        "        return 2*n / (len(row.target)+len(row[col]))\n",
        "    return f1score"
      ],
      "metadata": {
        "id": "cdutHaxGu1Tu"
      },
      "execution_count": 9,
      "outputs": []
    },
    {
      "cell_type": "code",
      "source": [
        "train_df['f1'] = train_df.apply(getMetric('oof'),axis=1)\n",
        "print('CV score for baseline =',train_df.f1.mean())"
      ],
      "metadata": {
        "colab": {
          "base_uri": "https://localhost:8080/"
        },
        "id": "xJLExtWxu1YI",
        "outputId": "0e028e86-86f7-426c-df72-2f2fc9827e8a"
      },
      "execution_count": 10,
      "outputs": [
        {
          "output_type": "stream",
          "name": "stdout",
          "text": [
            "CV score for baseline = 0.5530933399168149\n"
          ]
        }
      ]
    },
    {
      "cell_type": "code",
      "source": [
        "train_df.head(10)"
      ],
      "metadata": {
        "colab": {
          "base_uri": "https://localhost:8080/",
          "height": 363
        },
        "id": "hC3wInleH_Zz",
        "outputId": "db37799d-cbc4-427f-93f2-379f7867d4c4"
      },
      "execution_count": 11,
      "outputs": [
        {
          "output_type": "execute_result",
          "data": {
            "text/plain": [
              "         posting_id                                 image       image_phash  \\\n",
              "0   train_129225211  0000a68812bc7e98c42888dfb1c07da0.jpg  94974f937d4c2433   \n",
              "1  train_3386243561  00039780dfc94d01db8676fe789ecd05.jpg  af3f9460c2838f0f   \n",
              "2  train_2288590299  000a190fdd715a2a36faed16e2c65df7.jpg  b94cb00ed3e50f78   \n",
              "3  train_2406599165  00117e4fc239b1b641ff08340b429633.jpg  8514fc58eafea283   \n",
              "4  train_3369186413  00136d1cf4edede0203f32f05f660588.jpg  a6f319f924ad708c   \n",
              "5  train_2464356923  0013e7355ffc5ff8fb1ccad3e42d92fe.jpg  bbd097a7870f4a50   \n",
              "6  train_1802986387  00144a49c56599d45354a1c28104c039.jpg  f815c9bb833ab4c8   \n",
              "7  train_1806152124  0014f61389cbaa687a58e38a97b6383d.jpg  eea7e1c0c04da33d   \n",
              "8    train_86570404  0019a3c6755a194cb2e2c12bfc63972e.jpg  ea9af4f483249972   \n",
              "9   train_831680791  001be52b2beec40ddc1d2d7fc7a68f08.jpg  e1ce953d1a70618f   \n",
              "\n",
              "                                               title  label_group  \\\n",
              "0                          Paper Bag Victoria Secret    249114794   \n",
              "1  Double Tape 3M VHB 12 mm x 4,5 m ORIGINAL / DO...   2937985045   \n",
              "2        Maling TTS Canned Pork Luncheon Meat 397 gr   2395904891   \n",
              "3  Daster Batik Lengan pendek - Motif Acak / Camp...   4093212188   \n",
              "4                  Nescafe \\xc3\\x89clair Latte 220ml   3648931069   \n",
              "5  CELANA WANITA  (BB 45-84 KG)Harem wanita (bisa...   2660605217   \n",
              "6                           Jubah anak size 1-12 thn   1835033137   \n",
              "7  KULOT PLISKET SALUR /CANDY PLISKET /WISH KULOT...   1565741687   \n",
              "8  [LOGU] Tempelan kulkas magnet angka, tempelan ...   2359912463   \n",
              "9  BIG SALE SEPATU PANTOFEL KULIT KEREN KERJA KAN...   2630990665   \n",
              "\n",
              "                                              target  \\\n",
              "0                [train_129225211, train_2278313361]   \n",
              "1               [train_3386243561, train_3423213080]   \n",
              "2               [train_2288590299, train_3803689425]   \n",
              "3               [train_2406599165, train_3342059966]   \n",
              "4                [train_3369186413, train_921438619]   \n",
              "5  [train_2464356923, train_2753295474, train_305...   \n",
              "6  [train_1802986387, train_1396161074, train_713...   \n",
              "7               [train_1806152124, train_3227306976]   \n",
              "8  [train_86570404, train_2837452969, train_77364...   \n",
              "9                [train_831680791, train_3031035861]   \n",
              "\n",
              "                                    oof        f1  \n",
              "0                     [train_129225211]  0.666667  \n",
              "1                    [train_3386243561]  0.666667  \n",
              "2                    [train_2288590299]  0.666667  \n",
              "3                    [train_2406599165]  0.666667  \n",
              "4                    [train_3369186413]  0.666667  \n",
              "5  [train_2464356923, train_2753295474]  0.800000  \n",
              "6                    [train_1802986387]  0.250000  \n",
              "7                    [train_1806152124]  0.666667  \n",
              "8                      [train_86570404]  0.500000  \n",
              "9                     [train_831680791]  0.666667  "
            ],
            "text/html": [
              "\n",
              "  <div id=\"df-79a17a1d-1f7d-4851-bd07-f3accf6fe8cf\">\n",
              "    <div class=\"colab-df-container\">\n",
              "      <div>\n",
              "<style scoped>\n",
              "    .dataframe tbody tr th:only-of-type {\n",
              "        vertical-align: middle;\n",
              "    }\n",
              "\n",
              "    .dataframe tbody tr th {\n",
              "        vertical-align: top;\n",
              "    }\n",
              "\n",
              "    .dataframe thead th {\n",
              "        text-align: right;\n",
              "    }\n",
              "</style>\n",
              "<table border=\"1\" class=\"dataframe\">\n",
              "  <thead>\n",
              "    <tr style=\"text-align: right;\">\n",
              "      <th></th>\n",
              "      <th>posting_id</th>\n",
              "      <th>image</th>\n",
              "      <th>image_phash</th>\n",
              "      <th>title</th>\n",
              "      <th>label_group</th>\n",
              "      <th>target</th>\n",
              "      <th>oof</th>\n",
              "      <th>f1</th>\n",
              "    </tr>\n",
              "  </thead>\n",
              "  <tbody>\n",
              "    <tr>\n",
              "      <th>0</th>\n",
              "      <td>train_129225211</td>\n",
              "      <td>0000a68812bc7e98c42888dfb1c07da0.jpg</td>\n",
              "      <td>94974f937d4c2433</td>\n",
              "      <td>Paper Bag Victoria Secret</td>\n",
              "      <td>249114794</td>\n",
              "      <td>[train_129225211, train_2278313361]</td>\n",
              "      <td>[train_129225211]</td>\n",
              "      <td>0.666667</td>\n",
              "    </tr>\n",
              "    <tr>\n",
              "      <th>1</th>\n",
              "      <td>train_3386243561</td>\n",
              "      <td>00039780dfc94d01db8676fe789ecd05.jpg</td>\n",
              "      <td>af3f9460c2838f0f</td>\n",
              "      <td>Double Tape 3M VHB 12 mm x 4,5 m ORIGINAL / DO...</td>\n",
              "      <td>2937985045</td>\n",
              "      <td>[train_3386243561, train_3423213080]</td>\n",
              "      <td>[train_3386243561]</td>\n",
              "      <td>0.666667</td>\n",
              "    </tr>\n",
              "    <tr>\n",
              "      <th>2</th>\n",
              "      <td>train_2288590299</td>\n",
              "      <td>000a190fdd715a2a36faed16e2c65df7.jpg</td>\n",
              "      <td>b94cb00ed3e50f78</td>\n",
              "      <td>Maling TTS Canned Pork Luncheon Meat 397 gr</td>\n",
              "      <td>2395904891</td>\n",
              "      <td>[train_2288590299, train_3803689425]</td>\n",
              "      <td>[train_2288590299]</td>\n",
              "      <td>0.666667</td>\n",
              "    </tr>\n",
              "    <tr>\n",
              "      <th>3</th>\n",
              "      <td>train_2406599165</td>\n",
              "      <td>00117e4fc239b1b641ff08340b429633.jpg</td>\n",
              "      <td>8514fc58eafea283</td>\n",
              "      <td>Daster Batik Lengan pendek - Motif Acak / Camp...</td>\n",
              "      <td>4093212188</td>\n",
              "      <td>[train_2406599165, train_3342059966]</td>\n",
              "      <td>[train_2406599165]</td>\n",
              "      <td>0.666667</td>\n",
              "    </tr>\n",
              "    <tr>\n",
              "      <th>4</th>\n",
              "      <td>train_3369186413</td>\n",
              "      <td>00136d1cf4edede0203f32f05f660588.jpg</td>\n",
              "      <td>a6f319f924ad708c</td>\n",
              "      <td>Nescafe \\xc3\\x89clair Latte 220ml</td>\n",
              "      <td>3648931069</td>\n",
              "      <td>[train_3369186413, train_921438619]</td>\n",
              "      <td>[train_3369186413]</td>\n",
              "      <td>0.666667</td>\n",
              "    </tr>\n",
              "    <tr>\n",
              "      <th>5</th>\n",
              "      <td>train_2464356923</td>\n",
              "      <td>0013e7355ffc5ff8fb1ccad3e42d92fe.jpg</td>\n",
              "      <td>bbd097a7870f4a50</td>\n",
              "      <td>CELANA WANITA  (BB 45-84 KG)Harem wanita (bisa...</td>\n",
              "      <td>2660605217</td>\n",
              "      <td>[train_2464356923, train_2753295474, train_305...</td>\n",
              "      <td>[train_2464356923, train_2753295474]</td>\n",
              "      <td>0.800000</td>\n",
              "    </tr>\n",
              "    <tr>\n",
              "      <th>6</th>\n",
              "      <td>train_1802986387</td>\n",
              "      <td>00144a49c56599d45354a1c28104c039.jpg</td>\n",
              "      <td>f815c9bb833ab4c8</td>\n",
              "      <td>Jubah anak size 1-12 thn</td>\n",
              "      <td>1835033137</td>\n",
              "      <td>[train_1802986387, train_1396161074, train_713...</td>\n",
              "      <td>[train_1802986387]</td>\n",
              "      <td>0.250000</td>\n",
              "    </tr>\n",
              "    <tr>\n",
              "      <th>7</th>\n",
              "      <td>train_1806152124</td>\n",
              "      <td>0014f61389cbaa687a58e38a97b6383d.jpg</td>\n",
              "      <td>eea7e1c0c04da33d</td>\n",
              "      <td>KULOT PLISKET SALUR /CANDY PLISKET /WISH KULOT...</td>\n",
              "      <td>1565741687</td>\n",
              "      <td>[train_1806152124, train_3227306976]</td>\n",
              "      <td>[train_1806152124]</td>\n",
              "      <td>0.666667</td>\n",
              "    </tr>\n",
              "    <tr>\n",
              "      <th>8</th>\n",
              "      <td>train_86570404</td>\n",
              "      <td>0019a3c6755a194cb2e2c12bfc63972e.jpg</td>\n",
              "      <td>ea9af4f483249972</td>\n",
              "      <td>[LOGU] Tempelan kulkas magnet angka, tempelan ...</td>\n",
              "      <td>2359912463</td>\n",
              "      <td>[train_86570404, train_2837452969, train_77364...</td>\n",
              "      <td>[train_86570404]</td>\n",
              "      <td>0.500000</td>\n",
              "    </tr>\n",
              "    <tr>\n",
              "      <th>9</th>\n",
              "      <td>train_831680791</td>\n",
              "      <td>001be52b2beec40ddc1d2d7fc7a68f08.jpg</td>\n",
              "      <td>e1ce953d1a70618f</td>\n",
              "      <td>BIG SALE SEPATU PANTOFEL KULIT KEREN KERJA KAN...</td>\n",
              "      <td>2630990665</td>\n",
              "      <td>[train_831680791, train_3031035861]</td>\n",
              "      <td>[train_831680791]</td>\n",
              "      <td>0.666667</td>\n",
              "    </tr>\n",
              "  </tbody>\n",
              "</table>\n",
              "</div>\n",
              "      <button class=\"colab-df-convert\" onclick=\"convertToInteractive('df-79a17a1d-1f7d-4851-bd07-f3accf6fe8cf')\"\n",
              "              title=\"Convert this dataframe to an interactive table.\"\n",
              "              style=\"display:none;\">\n",
              "        \n",
              "  <svg xmlns=\"http://www.w3.org/2000/svg\" height=\"24px\"viewBox=\"0 0 24 24\"\n",
              "       width=\"24px\">\n",
              "    <path d=\"M0 0h24v24H0V0z\" fill=\"none\"/>\n",
              "    <path d=\"M18.56 5.44l.94 2.06.94-2.06 2.06-.94-2.06-.94-.94-2.06-.94 2.06-2.06.94zm-11 1L8.5 8.5l.94-2.06 2.06-.94-2.06-.94L8.5 2.5l-.94 2.06-2.06.94zm10 10l.94 2.06.94-2.06 2.06-.94-2.06-.94-.94-2.06-.94 2.06-2.06.94z\"/><path d=\"M17.41 7.96l-1.37-1.37c-.4-.4-.92-.59-1.43-.59-.52 0-1.04.2-1.43.59L10.3 9.45l-7.72 7.72c-.78.78-.78 2.05 0 2.83L4 21.41c.39.39.9.59 1.41.59.51 0 1.02-.2 1.41-.59l7.78-7.78 2.81-2.81c.8-.78.8-2.07 0-2.86zM5.41 20L4 18.59l7.72-7.72 1.47 1.35L5.41 20z\"/>\n",
              "  </svg>\n",
              "      </button>\n",
              "      \n",
              "  <style>\n",
              "    .colab-df-container {\n",
              "      display:flex;\n",
              "      flex-wrap:wrap;\n",
              "      gap: 12px;\n",
              "    }\n",
              "\n",
              "    .colab-df-convert {\n",
              "      background-color: #E8F0FE;\n",
              "      border: none;\n",
              "      border-radius: 50%;\n",
              "      cursor: pointer;\n",
              "      display: none;\n",
              "      fill: #1967D2;\n",
              "      height: 32px;\n",
              "      padding: 0 0 0 0;\n",
              "      width: 32px;\n",
              "    }\n",
              "\n",
              "    .colab-df-convert:hover {\n",
              "      background-color: #E2EBFA;\n",
              "      box-shadow: 0px 1px 2px rgba(60, 64, 67, 0.3), 0px 1px 3px 1px rgba(60, 64, 67, 0.15);\n",
              "      fill: #174EA6;\n",
              "    }\n",
              "\n",
              "    [theme=dark] .colab-df-convert {\n",
              "      background-color: #3B4455;\n",
              "      fill: #D2E3FC;\n",
              "    }\n",
              "\n",
              "    [theme=dark] .colab-df-convert:hover {\n",
              "      background-color: #434B5C;\n",
              "      box-shadow: 0px 1px 3px 1px rgba(0, 0, 0, 0.15);\n",
              "      filter: drop-shadow(0px 1px 2px rgba(0, 0, 0, 0.3));\n",
              "      fill: #FFFFFF;\n",
              "    }\n",
              "  </style>\n",
              "\n",
              "      <script>\n",
              "        const buttonEl =\n",
              "          document.querySelector('#df-79a17a1d-1f7d-4851-bd07-f3accf6fe8cf button.colab-df-convert');\n",
              "        buttonEl.style.display =\n",
              "          google.colab.kernel.accessAllowed ? 'block' : 'none';\n",
              "\n",
              "        async function convertToInteractive(key) {\n",
              "          const element = document.querySelector('#df-79a17a1d-1f7d-4851-bd07-f3accf6fe8cf');\n",
              "          const dataTable =\n",
              "            await google.colab.kernel.invokeFunction('convertToInteractive',\n",
              "                                                     [key], {});\n",
              "          if (!dataTable) return;\n",
              "\n",
              "          const docLinkHtml = 'Like what you see? Visit the ' +\n",
              "            '<a target=\"_blank\" href=https://colab.research.google.com/notebooks/data_table.ipynb>data table notebook</a>'\n",
              "            + ' to learn more about interactive tables.';\n",
              "          element.innerHTML = '';\n",
              "          dataTable['output_type'] = 'display_data';\n",
              "          await google.colab.output.renderOutput(dataTable, element);\n",
              "          const docLink = document.createElement('div');\n",
              "          docLink.innerHTML = docLinkHtml;\n",
              "          element.appendChild(docLink);\n",
              "        }\n",
              "      </script>\n",
              "    </div>\n",
              "  </div>\n",
              "  "
            ]
          },
          "metadata": {},
          "execution_count": 11
        }
      ]
    },
    {
      "cell_type": "markdown",
      "source": [
        "## String Similarity using Word2Vec and CosineSimilarity - without model output\n",
        "\n",
        "https://www.kaggle.com/code/coder247/similarity-using-word2vec-text"
      ],
      "metadata": {
        "id": "erLMin9lNVoh"
      }
    },
    {
      "cell_type": "code",
      "source": [
        "train_df['image'] = path + 'train_images/' + train_df['image']\n",
        "tmp = train_df.groupby('label_group').posting_id.agg('unique').to_dict()\n",
        "train_df['target'] = train_df.label_group.map(tmp)\n",
        "train_df.tail()"
      ],
      "metadata": {
        "colab": {
          "base_uri": "https://localhost:8080/",
          "height": 206
        },
        "id": "5bxebRzwJItd",
        "outputId": "12439d43-a591-4771-9324-4a3654c20295"
      },
      "execution_count": null,
      "outputs": [
        {
          "output_type": "execute_result",
          "data": {
            "text/plain": [
              "             posting_id                                              image  \\\n",
              "34245  train_4028265689  /content/drive/MyDrive/Shopee/train_images/fff...   \n",
              "34246   train_769054909  /content/drive/MyDrive/Shopee/train_images/fff...   \n",
              "34247   train_614977732  /content/drive/MyDrive/Shopee/train_images/fff...   \n",
              "34248  train_3630949769  /content/drive/MyDrive/Shopee/train_images/fff...   \n",
              "34249  train_1792180725  /content/drive/MyDrive/Shopee/train_images/fff...   \n",
              "\n",
              "            image_phash                                              title  \\\n",
              "34245  e3cd72389f248f21  Masker Bahan Kain Spunbond Non Woven 75 gsm 3 ...   \n",
              "34246  be86851f72e2853c    MamyPoko Pants Royal Soft - S 70 - Popok Celana   \n",
              "34247  ad27f0d08c0fcbf0  KHANZAACC Robot RE101S 1.2mm Subwoofer Bass Me...   \n",
              "34248  e3b13bd1d896c05c  Kaldu NON MSG HALAL Mama Kamu Ayam Kampung , S...   \n",
              "34249  af8bc4b2d2cf9083  FLEX TAPE PELAPIS BOCOR / ISOLASI AJAIB / ANTI...   \n",
              "\n",
              "       label_group                                             target  \n",
              "34245   3776555725               [train_2829161572, train_4028265689]  \n",
              "34246   2736479533                [train_1463059254, train_769054909]  \n",
              "34247   4101248785  [train_4126022211, train_3926241003, train_232...  \n",
              "34248   1663538013  [train_3419392575, train_1431563868, train_363...  \n",
              "34249    459464107                [train_795128312, train_1792180725]  "
            ],
            "text/html": [
              "\n",
              "  <div id=\"df-d12f4774-34e9-4eb0-874b-eec4f4329c73\">\n",
              "    <div class=\"colab-df-container\">\n",
              "      <div>\n",
              "<style scoped>\n",
              "    .dataframe tbody tr th:only-of-type {\n",
              "        vertical-align: middle;\n",
              "    }\n",
              "\n",
              "    .dataframe tbody tr th {\n",
              "        vertical-align: top;\n",
              "    }\n",
              "\n",
              "    .dataframe thead th {\n",
              "        text-align: right;\n",
              "    }\n",
              "</style>\n",
              "<table border=\"1\" class=\"dataframe\">\n",
              "  <thead>\n",
              "    <tr style=\"text-align: right;\">\n",
              "      <th></th>\n",
              "      <th>posting_id</th>\n",
              "      <th>image</th>\n",
              "      <th>image_phash</th>\n",
              "      <th>title</th>\n",
              "      <th>label_group</th>\n",
              "      <th>target</th>\n",
              "    </tr>\n",
              "  </thead>\n",
              "  <tbody>\n",
              "    <tr>\n",
              "      <th>34245</th>\n",
              "      <td>train_4028265689</td>\n",
              "      <td>/content/drive/MyDrive/Shopee/train_images/fff...</td>\n",
              "      <td>e3cd72389f248f21</td>\n",
              "      <td>Masker Bahan Kain Spunbond Non Woven 75 gsm 3 ...</td>\n",
              "      <td>3776555725</td>\n",
              "      <td>[train_2829161572, train_4028265689]</td>\n",
              "    </tr>\n",
              "    <tr>\n",
              "      <th>34246</th>\n",
              "      <td>train_769054909</td>\n",
              "      <td>/content/drive/MyDrive/Shopee/train_images/fff...</td>\n",
              "      <td>be86851f72e2853c</td>\n",
              "      <td>MamyPoko Pants Royal Soft - S 70 - Popok Celana</td>\n",
              "      <td>2736479533</td>\n",
              "      <td>[train_1463059254, train_769054909]</td>\n",
              "    </tr>\n",
              "    <tr>\n",
              "      <th>34247</th>\n",
              "      <td>train_614977732</td>\n",
              "      <td>/content/drive/MyDrive/Shopee/train_images/fff...</td>\n",
              "      <td>ad27f0d08c0fcbf0</td>\n",
              "      <td>KHANZAACC Robot RE101S 1.2mm Subwoofer Bass Me...</td>\n",
              "      <td>4101248785</td>\n",
              "      <td>[train_4126022211, train_3926241003, train_232...</td>\n",
              "    </tr>\n",
              "    <tr>\n",
              "      <th>34248</th>\n",
              "      <td>train_3630949769</td>\n",
              "      <td>/content/drive/MyDrive/Shopee/train_images/fff...</td>\n",
              "      <td>e3b13bd1d896c05c</td>\n",
              "      <td>Kaldu NON MSG HALAL Mama Kamu Ayam Kampung , S...</td>\n",
              "      <td>1663538013</td>\n",
              "      <td>[train_3419392575, train_1431563868, train_363...</td>\n",
              "    </tr>\n",
              "    <tr>\n",
              "      <th>34249</th>\n",
              "      <td>train_1792180725</td>\n",
              "      <td>/content/drive/MyDrive/Shopee/train_images/fff...</td>\n",
              "      <td>af8bc4b2d2cf9083</td>\n",
              "      <td>FLEX TAPE PELAPIS BOCOR / ISOLASI AJAIB / ANTI...</td>\n",
              "      <td>459464107</td>\n",
              "      <td>[train_795128312, train_1792180725]</td>\n",
              "    </tr>\n",
              "  </tbody>\n",
              "</table>\n",
              "</div>\n",
              "      <button class=\"colab-df-convert\" onclick=\"convertToInteractive('df-d12f4774-34e9-4eb0-874b-eec4f4329c73')\"\n",
              "              title=\"Convert this dataframe to an interactive table.\"\n",
              "              style=\"display:none;\">\n",
              "        \n",
              "  <svg xmlns=\"http://www.w3.org/2000/svg\" height=\"24px\"viewBox=\"0 0 24 24\"\n",
              "       width=\"24px\">\n",
              "    <path d=\"M0 0h24v24H0V0z\" fill=\"none\"/>\n",
              "    <path d=\"M18.56 5.44l.94 2.06.94-2.06 2.06-.94-2.06-.94-.94-2.06-.94 2.06-2.06.94zm-11 1L8.5 8.5l.94-2.06 2.06-.94-2.06-.94L8.5 2.5l-.94 2.06-2.06.94zm10 10l.94 2.06.94-2.06 2.06-.94-2.06-.94-.94-2.06-.94 2.06-2.06.94z\"/><path d=\"M17.41 7.96l-1.37-1.37c-.4-.4-.92-.59-1.43-.59-.52 0-1.04.2-1.43.59L10.3 9.45l-7.72 7.72c-.78.78-.78 2.05 0 2.83L4 21.41c.39.39.9.59 1.41.59.51 0 1.02-.2 1.41-.59l7.78-7.78 2.81-2.81c.8-.78.8-2.07 0-2.86zM5.41 20L4 18.59l7.72-7.72 1.47 1.35L5.41 20z\"/>\n",
              "  </svg>\n",
              "      </button>\n",
              "      \n",
              "  <style>\n",
              "    .colab-df-container {\n",
              "      display:flex;\n",
              "      flex-wrap:wrap;\n",
              "      gap: 12px;\n",
              "    }\n",
              "\n",
              "    .colab-df-convert {\n",
              "      background-color: #E8F0FE;\n",
              "      border: none;\n",
              "      border-radius: 50%;\n",
              "      cursor: pointer;\n",
              "      display: none;\n",
              "      fill: #1967D2;\n",
              "      height: 32px;\n",
              "      padding: 0 0 0 0;\n",
              "      width: 32px;\n",
              "    }\n",
              "\n",
              "    .colab-df-convert:hover {\n",
              "      background-color: #E2EBFA;\n",
              "      box-shadow: 0px 1px 2px rgba(60, 64, 67, 0.3), 0px 1px 3px 1px rgba(60, 64, 67, 0.15);\n",
              "      fill: #174EA6;\n",
              "    }\n",
              "\n",
              "    [theme=dark] .colab-df-convert {\n",
              "      background-color: #3B4455;\n",
              "      fill: #D2E3FC;\n",
              "    }\n",
              "\n",
              "    [theme=dark] .colab-df-convert:hover {\n",
              "      background-color: #434B5C;\n",
              "      box-shadow: 0px 1px 3px 1px rgba(0, 0, 0, 0.15);\n",
              "      filter: drop-shadow(0px 1px 2px rgba(0, 0, 0, 0.3));\n",
              "      fill: #FFFFFF;\n",
              "    }\n",
              "  </style>\n",
              "\n",
              "      <script>\n",
              "        const buttonEl =\n",
              "          document.querySelector('#df-d12f4774-34e9-4eb0-874b-eec4f4329c73 button.colab-df-convert');\n",
              "        buttonEl.style.display =\n",
              "          google.colab.kernel.accessAllowed ? 'block' : 'none';\n",
              "\n",
              "        async function convertToInteractive(key) {\n",
              "          const element = document.querySelector('#df-d12f4774-34e9-4eb0-874b-eec4f4329c73');\n",
              "          const dataTable =\n",
              "            await google.colab.kernel.invokeFunction('convertToInteractive',\n",
              "                                                     [key], {});\n",
              "          if (!dataTable) return;\n",
              "\n",
              "          const docLinkHtml = 'Like what you see? Visit the ' +\n",
              "            '<a target=\"_blank\" href=https://colab.research.google.com/notebooks/data_table.ipynb>data table notebook</a>'\n",
              "            + ' to learn more about interactive tables.';\n",
              "          element.innerHTML = '';\n",
              "          dataTable['output_type'] = 'display_data';\n",
              "          await google.colab.output.renderOutput(dataTable, element);\n",
              "          const docLink = document.createElement('div');\n",
              "          docLink.innerHTML = docLinkHtml;\n",
              "          element.appendChild(docLink);\n",
              "        }\n",
              "      </script>\n",
              "    </div>\n",
              "  </div>\n",
              "  "
            ]
          },
          "metadata": {},
          "execution_count": 7
        }
      ]
    },
    {
      "cell_type": "code",
      "source": [
        "import gensim\n",
        "from gensim.utils import simple_preprocess\n",
        "from gensim.parsing.preprocessing import STOPWORDS\n",
        "from nltk.stem import WordNetLemmatizer, SnowballStemmer\n",
        "\n",
        "np.random.seed(2018)\n",
        "stemmer = SnowballStemmer('english')\n",
        "\n",
        "def lemmatize_stemming(text):\n",
        "    return stemmer.stem(WordNetLemmatizer().lemmatize(text, pos='v'))\n",
        "\n",
        "def preprocess(text):\n",
        "    result = []\n",
        "    for token in gensim.utils.simple_preprocess(text):\n",
        "        if token not in gensim.parsing.preprocessing.STOPWORDS and len(token) > 3:\n",
        "            if token == 'xxxx':\n",
        "                continue\n",
        "            result.append(lemmatize_stemming(token))\n",
        "    \n",
        "    return result"
      ],
      "metadata": {
        "id": "cNsX12ubJIvJ"
      },
      "execution_count": null,
      "outputs": []
    },
    {
      "cell_type": "code",
      "source": [
        "# import os\n",
        "# import gensim\n",
        "# from gensim.utils import simple_preprocess\n",
        "# from gensim.parsing.preprocessing import STOPWORDS\n",
        "# from nltk.stem import WordNetLemmatizer, SnowballStemmer\n",
        "# from nltk.stem.porter import *\n",
        "\n",
        "# np.random.seed(2018)\n",
        "# from gensim.models import Word2Vec\n",
        "# import nltk\n",
        "# nltk.download('wordnet')\n",
        "# stemmer = SnowballStemmer('english')"
      ],
      "metadata": {
        "id": "MCkjn-LvMpCE"
      },
      "execution_count": null,
      "outputs": []
    },
    {
      "cell_type": "code",
      "source": [
        "processed_docs = train_df['title'].map(preprocess)\n",
        "processed_docs = list(processed_docs)"
      ],
      "metadata": {
        "id": "YbTsNUZvMpEA"
      },
      "execution_count": null,
      "outputs": []
    },
    {
      "cell_type": "code",
      "source": [
        "processed_docs[:10]"
      ],
      "metadata": {
        "colab": {
          "base_uri": "https://localhost:8080/"
        },
        "id": "RMGtwQSZMpGR",
        "outputId": "ae1a723e-2e64-419c-bd59-585208466235"
      },
      "execution_count": null,
      "outputs": [
        {
          "output_type": "execute_result",
          "data": {
            "text/plain": [
              "[['paper', 'victoria', 'secret'],\n",
              " ['doubl', 'tape', 'origin', 'doubl', 'foam', 'tape'],\n",
              " ['male', 'can', 'pork', 'luncheon', 'meat'],\n",
              " ['daster',\n",
              "  'batik',\n",
              "  'lengan',\n",
              "  'pendek',\n",
              "  'motif',\n",
              "  'acak',\n",
              "  'campur',\n",
              "  'leher',\n",
              "  'kanc',\n",
              "  'batik',\n",
              "  'karakt',\n",
              "  'alhadi'],\n",
              " ['nescaf', 'clair', 'latt'],\n",
              " ['celana', 'wanita', 'harem', 'wanita', 'bisa'],\n",
              " ['jubah', 'anak', 'size'],\n",
              " ['kulot',\n",
              "  'plisket',\n",
              "  'salur',\n",
              "  'candi',\n",
              "  'plisket',\n",
              "  'wish',\n",
              "  'kulot',\n",
              "  'premium',\n",
              "  'kulot',\n",
              "  'pelangi',\n",
              "  'premium',\n",
              "  'hieka',\n",
              "  'kulot'],\n",
              " ['logu',\n",
              "  'tempelan',\n",
              "  'kulka',\n",
              "  'magnet',\n",
              "  'angka',\n",
              "  'tempelan',\n",
              "  'angka',\n",
              "  'magnet'],\n",
              " ['sale',\n",
              "  'sepatu',\n",
              "  'pantofel',\n",
              "  'kulit',\n",
              "  'keren',\n",
              "  'kerja',\n",
              "  'kantor',\n",
              "  'laki',\n",
              "  'pria',\n",
              "  'cowok',\n",
              "  'dina',\n",
              "  'resmi',\n",
              "  'formal',\n",
              "  'pesta',\n",
              "  'kicker']]"
            ]
          },
          "metadata": {},
          "execution_count": 12
        }
      ]
    },
    {
      "cell_type": "code",
      "source": [
        "from gensim.models import Word2Vec\n",
        "\n",
        "def word2vec_model():\n",
        "    w2v_model = Word2Vec(min_count=1,\n",
        "                     window=3,\n",
        "                     vector_size=50,\n",
        "                     sample=6e-5, \n",
        "                     alpha=0.03, \n",
        "                     min_alpha=0.0007, \n",
        "                     negative=20)\n",
        "    \n",
        "    w2v_model.build_vocab(processed_docs)\n",
        "    w2v_model.train(processed_docs, total_examples=w2v_model.corpus_count, epochs=300, report_delay=1)\n",
        "    \n",
        "    return w2v_model"
      ],
      "metadata": {
        "id": "pDjqYyoZNmbl"
      },
      "execution_count": null,
      "outputs": []
    },
    {
      "cell_type": "code",
      "source": [
        "w2v_model = word2vec_model()\n",
        "w2v_model.save('word2vec_model_v1')"
      ],
      "metadata": {
        "id": "YMlVOLZoNmd3"
      },
      "execution_count": null,
      "outputs": []
    },
    {
      "cell_type": "code",
      "source": [
        "emb_vec = w2v_model.wv"
      ],
      "metadata": {
        "id": "XMxQsm8ONmk5"
      },
      "execution_count": null,
      "outputs": []
    },
    {
      "cell_type": "code",
      "source": [
        "from numpy import dot\n",
        "from numpy.linalg import norm\n",
        "\n",
        "def find_similarity(sen1, sen2, model):\n",
        "    p_sen1 = preprocess(sen1)\n",
        "    p_sen2 = preprocess(sen2)\n",
        "    \n",
        "    sen_vec1 = np.zeros(50)\n",
        "    sen_vec2 = np.zeros(50)\n",
        "    for val in p_sen1:\n",
        "        sen_vec1 = np.add(sen_vec1, model[val])\n",
        "\n",
        "    for val in p_sen2:\n",
        "        sen_vec2 = np.add(sen_vec2, model[val])\n",
        "    \n",
        "    return dot(sen_vec1,sen_vec2)/(norm(sen_vec1)*norm(sen_vec2))"
      ],
      "metadata": {
        "id": "J6nyuuz1NmnR"
      },
      "execution_count": null,
      "outputs": []
    },
    {
      "cell_type": "code",
      "source": [
        "find_similarity('Atasan Rajut Wanita LISDIA SWEATER', 'Atasan Rajut Wanita LISDIA',emb_vec )"
      ],
      "metadata": {
        "colab": {
          "base_uri": "https://localhost:8080/"
        },
        "id": "nVI8MtTANmwv",
        "outputId": "a75057e4-19ad-4c77-ba5f-19dda6db8c67"
      },
      "execution_count": null,
      "outputs": [
        {
          "output_type": "execute_result",
          "data": {
            "text/plain": [
              "0.9823063179818976"
            ]
          },
          "metadata": {},
          "execution_count": 23
        }
      ]
    },
    {
      "cell_type": "markdown",
      "source": [
        "## Only Word2Vec\n",
        "\n",
        "https://www.kaggle.com/code/medvedew/shopee-only-w2v-cpu/notebook\n",
        "\n",
        "Also bringing the perceptual hash ID and appending at the beginning and end of title and then performing the match"
      ],
      "metadata": {
        "id": "7naVGlnINmza"
      }
    },
    {
      "cell_type": "code",
      "source": [
        "import pandas as pd\n",
        "import numpy as np\n",
        "import plotly.express as px\n",
        "import matplotlib.pyplot as plt\n",
        "%matplotlib inline\n",
        "\n",
        "def len_seq(data):\n",
        "  return len(data.split())\n",
        "\n",
        "train_df[\"number_tokens\"] = train_df[\"title\"].apply(lambda x: len_seq(x))\n",
        "fig = px.histogram(\n",
        "    train_df,\n",
        "    x = \"number_tokens\",\n",
        "    width = 800,\n",
        "    height = 500,\n",
        "    title = 'Number of tokens distribution: Distribution helps to set parameters: window, negative<br>in W2V model'\n",
        "\n",
        ")\n",
        "fig.show()"
      ],
      "metadata": {
        "colab": {
          "base_uri": "https://localhost:8080/",
          "height": 517
        },
        "id": "8N_U8RhjNm3q",
        "outputId": "3aaeb24e-ed4c-495a-e03b-9be219824c34"
      },
      "execution_count": null,
      "outputs": [
        {
          "output_type": "display_data",
          "data": {
            "text/html": [
              "<html>\n",
              "<head><meta charset=\"utf-8\" /></head>\n",
              "<body>\n",
              "    <div>            <script src=\"https://cdnjs.cloudflare.com/ajax/libs/mathjax/2.7.5/MathJax.js?config=TeX-AMS-MML_SVG\"></script><script type=\"text/javascript\">if (window.MathJax && window.MathJax.Hub && window.MathJax.Hub.Config) {window.MathJax.Hub.Config({SVG: {font: \"STIX-Web\"}});}</script>                <script type=\"text/javascript\">window.PlotlyConfig = {MathJaxConfig: 'local'};</script>\n",
              "        <script src=\"https://cdn.plot.ly/plotly-2.18.2.min.js\"></script>                <div id=\"5c142170-21fe-4bd9-9adb-154b92c9241d\" class=\"plotly-graph-div\" style=\"height:500px; width:800px;\"></div>            <script type=\"text/javascript\">                                    window.PLOTLYENV=window.PLOTLYENV || {};                                    if (document.getElementById(\"5c142170-21fe-4bd9-9adb-154b92c9241d\")) {                    Plotly.newPlot(                        \"5c142170-21fe-4bd9-9adb-154b92c9241d\",                        [{\"alignmentgroup\":\"True\",\"bingroup\":\"x\",\"hovertemplate\":\"number_tokens=%{x}<br>count=%{y}<extra></extra>\",\"legendgroup\":\"\",\"marker\":{\"color\":\"#636efa\",\"pattern\":{\"shape\":\"\"}},\"name\":\"\",\"offsetgroup\":\"\",\"orientation\":\"v\",\"showlegend\":false,\"x\":[4,14,8,16,4,8,5,12,8,16,5,8,10,10,11,8,11,11,9,7,6,10,15,6,11,12,15,16,14,18,13,15,15,11,9,5,13,5,4,10,10,9,11,12,6,6,4,20,9,14,10,13,14,9,6,12,5,7,13,5,8,7,12,4,18,14,18,10,14,7,6,9,13,8,10,2,4,12,15,4,10,10,10,6,12,13,6,2,7,13,9,11,10,7,9,5,10,6,11,3,12,6,12,8,11,9,10,9,10,12,5,14,4,14,4,8,15,22,11,13,13,11,6,3,15,12,6,8,5,10,7,15,11,8,8,12,3,11,8,14,6,9,5,11,6,8,6,7,10,3,4,12,8,18,16,4,8,12,18,7,10,10,3,5,5,8,9,12,7,13,10,7,4,12,10,5,6,11,6,15,4,5,7,12,8,5,6,17,3,8,14,9,5,9,18,6,4,10,11,5,11,7,15,16,4,4,18,6,12,5,10,6,5,6,5,19,19,12,9,6,18,8,16,11,11,16,2,10,6,7,17,15,14,11,5,11,10,11,14,9,6,3,5,14,8,15,5,3,9,11,7,11,2,10,5,9,17,5,8,8,6,19,12,14,14,10,6,14,9,5,12,6,8,11,12,10,6,16,13,10,5,7,8,9,5,15,5,5,16,13,6,7,2,11,7,5,7,8,5,10,6,10,8,17,12,10,10,15,6,7,14,10,13,9,6,4,16,4,4,4,4,7,7,4,6,5,2,11,13,6,11,3,10,4,10,18,5,12,10,9,10,10,6,5,23,11,12,16,7,15,12,18,10,12,4,7,17,5,4,5,11,6,15,11,18,18,22,9,9,5,8,7,8,5,8,3,6,17,13,13,11,16,17,12,14,6,13,4,4,14,5,4,10,6,19,10,8,8,10,11,11,16,3,14,3,7,6,8,2,5,10,14,5,5,11,2,21,11,8,19,9,6,9,3,14,7,14,6,14,14,7,11,11,3,3,9,6,5,6,4,14,16,5,12,7,8,16,16,4,14,2,13,2,6,5,11,13,5,4,5,14,7,11,4,11,11,1,8,7,18,15,9,10,4,15,15,11,20,14,3,11,22,6,8,7,19,3,8,7,12,13,7,16,7,4,6,6,8,2,5,7,4,7,11,7,6,3,11,12,3,7,11,12,4,16,5,5,8,10,11,8,18,10,19,8,10,18,13,8,8,4,5,2,8,10,10,8,13,4,13,9,5,13,4,13,11,8,10,11,7,12,10,5,4,7,15,11,5,5,11,4,12,8,10,6,10,7,20,7,12,10,14,14,14,16,6,14,11,7,8,12,17,4,9,6,10,15,8,20,3,10,23,17,17,9,3,6,6,10,9,9,10,9,7,6,5,10,15,10,6,16,10,7,12,9,21,3,8,12,13,4,18,13,13,7,9,16,8,9,11,8,6,5,4,13,9,5,6,10,3,13,13,10,15,5,6,14,8,5,2,9,10,7,7,8,19,21,15,13,14,5,5,6,5,7,12,7,11,14,12,7,12,7,9,11,8,4,17,4,10,11,16,10,13,6,5,7,17,11,6,5,11,12,17,3,10,8,7,7,11,10,6,9,9,14,10,8,16,6,6,7,6,9,10,7,10,13,11,3,9,11,12,13,7,4,7,12,7,10,6,8,4,4,16,5,10,10,8,11,7,11,7,6,17,4,16,9,3,10,6,10,6,10,10,3,9,12,9,7,10,5,5,12,6,5,9,5,13,5,10,12,4,12,10,4,16,16,12,6,7,8,4,19,13,12,9,10,8,9,15,15,4,8,6,9,6,5,15,4,14,7,11,9,4,17,20,5,4,14,9,12,12,3,8,5,10,12,12,10,19,9,24,36,7,15,11,7,6,18,12,12,13,4,9,15,11,4,4,9,12,8,9,13,3,5,4,15,9,9,7,12,5,10,11,34,3,11,13,8,8,15,10,7,10,7,12,3,14,5,10,6,4,4,11,13,12,5,6,5,17,15,12,22,21,14,7,5,9,18,11,14,11,7,11,7,8,7,14,3,8,10,14,10,8,7,4,6,4,13,6,9,4,9,18,14,13,5,5,11,4,22,9,7,8,4,10,9,13,10,10,4,3,12,6,11,9,8,6,9,5,7,18,5,16,11,13,14,3,9,7,12,11,4,11,10,2,14,16,11,10,5,5,13,7,5,7,13,9,8,9,3,7,3,8,20,6,12,14,11,9,6,16,5,15,8,12,5,19,10,15,8,5,12,3,4,11,7,6,16,14,16,13,9,17,5,15,16,4,8,6,8,8,8,16,7,13,10,17,12,6,9,4,11,6,6,6,9,6,8,5,9,17,5,9,3,11,8,8,6,12,14,10,18,24,10,15,6,8,11,12,6,12,10,18,15,8,10,14,6,7,14,10,5,17,6,14,5,12,7,7,10,12,7,13,14,8,9,13,15,12,11,16,20,8,3,5,15,3,5,10,7,13,1,10,2,8,4,8,10,7,7,4,8,6,9,16,18,6,6,4,20,18,14,6,8,6,5,5,6,5,12,11,15,14,17,6,16,7,7,9,18,15,11,10,10,4,10,7,6,7,11,14,11,3,3,9,11,5,13,5,2,7,14,9,16,8,14,8,5,12,4,3,5,13,5,17,13,16,18,7,5,11,7,14,6,18,2,7,7,10,9,5,13,8,9,4,15,18,9,6,6,10,15,6,5,14,6,3,17,5,7,8,13,14,4,3,19,18,6,9,2,10,15,12,13,8,14,15,10,6,7,13,12,10,14,7,13,6,15,9,5,11,8,17,12,16,4,5,9,10,4,3,14,9,6,15,6,9,12,9,11,13,14,11,10,11,8,7,7,5,6,14,6,10,8,11,5,11,7,18,11,14,6,11,10,12,17,3,7,7,11,13,15,7,9,9,7,6,16,7,16,4,14,14,12,3,5,6,11,8,8,7,6,21,8,4,4,9,11,7,11,7,9,3,6,5,9,7,7,5,8,14,12,12,6,13,12,11,7,12,8,8,9,10,8,6,10,6,2,16,11,5,8,10,5,18,5,12,17,9,4,10,8,11,7,9,8,9,6,15,7,3,6,4,10,4,10,4,11,5,7,8,14,8,10,17,14,11,4,7,16,6,13,16,8,6,8,10,8,10,6,13,6,10,8,10,7,7,13,7,8,9,8,5,8,6,5,7,11,9,16,10,5,2,13,15,10,4,14,9,13,13,16,9,3,17,12,11,8,9,20,12,5,13,4,6,8,12,14,12,5,8,14,9,21,10,7,4,5,7,9,10,11,15,8,13,3,10,7,16,4,9,9,10,9,8,13,10,8,9,2,9,7,6,8,4,15,15,6,7,14,6,7,6,5,6,7,9,8,17,17,16,7,8,3,11,11,19,12,7,7,12,9,8,13,15,8,13,15,16,3,7,17,7,25,8,9,13,11,14,15,4,8,10,10,6,5,11,12,11,8,13,13,13,2,14,15,8,12,3,8,7,13,12,5,17,13,10,8,4,5,5,14,14,9,2,20,3,11,7,5,4,7,5,10,6,7,10,6,6,9,6,4,10,4,6,6,12,8,3,9,5,5,8,11,7,11,13,17,9,4,19,9,4,19,15,14,7,18,9,7,5,9,12,4,13,11,12,9,12,11,4,16,4,6,5,14,17,16,18,9,9,5,13,9,13,16,4,9,9,8,7,6,16,5,16,13,12,7,2,10,4,13,14,6,10,2,6,18,15,5,8,2,8,4,2,5,2,5,3,5,4,3,8,6,5,8,13,6,10,6,4,18,16,5,6,12,19,7,10,9,17,4,16,17,15,8,8,11,5,5,3,6,5,8,6,10,15,11,16,10,15,14,11,4,12,9,11,15,9,17,6,11,5,8,11,5,9,4,12,10,7,15,8,12,3,14,7,5,8,6,3,16,5,8,13,7,7,7,10,6,8,13,8,18,14,13,6,9,5,16,10,8,11,7,18,5,16,8,11,9,11,15,13,9,7,10,18,8,8,11,9,13,15,13,15,4,19,9,14,5,4,15,15,13,17,8,9,15,6,13,12,9,14,6,7,3,4,17,6,12,15,10,10,5,16,11,13,6,9,13,8,4,5,5,7,10,6,15,11,7,6,14,5,14,9,2,13,8,7,12,11,14,4,9,7,11,9,16,5,8,7,7,6,8,4,17,8,17,5,11,17,8,10,7,5,10,6,5,9,10,7,5,10,8,17,6,6,13,6,9,14,6,8,7,14,12,7,6,2,13,10,7,8,6,14,6,12,4,10,12,20,19,5,10,10,19,5,5,5,12,14,15,8,7,10,20,6,10,8,11,10,9,6,6,14,2,15,11,6,9,8,8,6,9,14,4,7,6,11,12,11,6,9,5,7,15,12,4,2,2,12,19,10,14,11,8,2,11,9,7,6,5,20,6,7,6,4,5,16,10,7,17,10,16,11,9,11,5,4,14,13,11,10,8,17,8,8,15,15,11,7,19,10,13,9,8,6,5,5,16,11,9,12,4,12,14,15,7,5,16,6,8,7,7,7,10,7,6,6,10,7,9,7,8,10,8,9,4,8,5,7,5,3,10,11,10,7,7,7,14,10,7,8,5,4,8,9,14,12,3,5,8,3,14,6,15,12,11,7,18,15,10,19,7,16,9,3,7,17,9,13,13,5,25,5,7,5,13,6,11,5,5,7,10,12,7,10,4,9,11,8,11,2,2,11,8,9,5,4,6,11,4,15,5,5,14,14,5,12,14,10,7,7,8,5,14,4,11,12,9,8,6,11,9,7,5,6,8,11,9,6,4,4,15,8,15,9,11,14,12,13,7,4,9,14,8,9,6,7,6,5,10,9,17,6,4,5,8,11,11,12,4,15,12,9,8,10,6,7,19,12,7,7,10,11,12,8,9,9,7,11,16,8,7,14,9,12,14,8,5,6,8,14,14,12,2,3,11,8,4,24,5,14,12,4,14,14,21,6,11,17,15,8,11,7,15,6,6,7,7,8,8,11,6,7,15,7,9,10,7,4,12,4,14,10,7,3,16,8,13,12,10,15,8,5,14,12,14,6,14,9,3,3,8,14,8,6,10,5,5,20,6,6,16,5,9,8,11,9,3,6,8,3,10,10,4,12,11,6,6,22,11,11,9,20,5,11,6,12,5,17,12,6,10,8,15,9,12,4,5,5,11,8,3,7,9,4,6,9,13,8,5,8,10,17,5,6,7,16,6,7,18,4,10,6,12,8,4,5,8,7,8,3,4,10,11,3,3,3,16,9,5,10,5,5,5,5,12,15,17,8,6,7,7,13,8,7,4,17,4,5,9,5,6,3,4,9,13,9,4,4,9,5,4,17,14,6,11,14,6,10,18,9,6,10,3,12,9,10,14,10,13,4,10,11,17,3,4,7,6,12,7,6,9,15,17,8,5,2,9,7,10,6,19,8,6,4,7,4,7,16,8,12,5,5,12,6,3,13,7,5,5,15,12,10,6,13,11,7,4,16,15,5,14,15,3,2,13,4,7,7,11,7,14,13,11,11,9,8,8,8,12,14,14,7,11,3,5,7,12,16,11,8,10,15,6,13,16,13,8,6,9,8,8,5,6,3,20,9,13,6,9,5,13,16,10,21,3,15,9,7,15,7,7,7,8,12,10,12,15,14,10,9,9,9,17,9,10,11,11,14,5,10,13,14,10,13,9,7,10,8,16,9,12,5,12,9,9,13,9,10,15,12,4,10,3,11,8,3,8,7,9,11,7,8,17,5,5,13,8,11,6,7,2,12,16,5,7,6,2,4,4,4,5,7,9,2,11,13,10,8,6,7,10,8,8,13,16,14,3,19,14,14,9,11,5,5,12,19,5,14,11,9,8,4,9,14,6,15,10,12,12,5,10,8,13,4,11,6,12,12,9,6,7,6,16,4,6,5,6,12,5,8,6,7,15,14,10,4,9,9,7,11,14,10,7,5,18,4,10,11,11,11,12,6,13,16,5,5,8,8,12,16,5,6,14,4,13,4,9,12,8,14,11,5,15,10,5,5,9,10,3,9,17,12,7,12,15,13,5,4,6,6,7,12,3,11,13,7,9,9,15,9,5,5,14,11,7,5,4,7,3,12,14,14,15,21,8,8,16,12,7,7,16,6,11,16,2,8,7,6,18,9,9,9,10,9,9,5,5,9,9,7,14,2,15,9,6,3,5,18,3,6,12,12,9,7,10,5,7,6,6,14,13,12,11,9,5,10,5,8,9,9,11,5,10,2,13,5,10,5,4,12,16,4,8,3,4,5,8,5,7,4,9,13,5,7,8,10,6,11,17,7,9,10,12,5,5,7,4,11,5,15,15,12,7,8,8,8,7,8,8,14,4,6,12,13,8,6,14,15,9,15,14,8,6,3,5,12,8,9,7,12,13,13,13,5,7,3,8,3,4,11,5,12,6,17,14,14,15,9,9,15,12,3,12,6,8,3,12,12,15,19,9,3,5,7,15,9,16,5,14,16,11,4,7,16,12,12,2,11,16,2,9,4,11,5,9,8,8,13,11,8,9,7,8,9,10,9,4,8,9,8,4,13,6,7,10,6,11,7,4,3,4,14,11,14,4,11,7,9,4,18,8,9,15,14,9,12,12,11,10,18,10,3,10,3,10,12,7,6,12,13,9,6,10,12,16,5,7,23,4,10,16,6,15,28,8,7,13,3,11,4,6,10,4,12,12,6,3,6,16,3,11,15,12,11,14,9,19,8,19,7,12,13,13,5,2,11,15,11,3,17,5,10,7,13,10,10,3,2,8,10,11,10,5,6,8,11,14,3,12,6,7,5,9,5,3,7,7,9,14,7,12,13,10,3,13,4,10,8,15,14,5,10,14,4,14,6,23,9,6,6,14,11,11,5,3,3,42,17,4,20,7,15,7,14,17,10,8,7,5,6,5,10,10,7,6,7,13,13,14,11,8,8,7,5,16,15,4,13,17,3,3,7,10,16,4,5,5,4,4,32,10,10,3,4,16,9,19,16,9,13,9,7,13,16,4,13,8,8,11,10,7,14,5,6,12,9,4,16,8,9,16,13,6,7,4,5,7,6,12,7,9,7,8,13,14,6,7,8,13,15,8,16,4,9,15,12,7,7,9,12,7,8,11,21,7,7,8,14,7,11,5,6,13,7,12,9,2,8,5,15,8,13,12,9,8,7,4,5,7,12,11,12,6,16,16,6,11,3,13,8,10,9,5,15,5,7,8,5,8,8,8,10,8,9,10,3,10,12,3,7,13,13,3,13,11,17,11,3,11,15,7,17,26,23,11,10,8,13,11,13,12,11,7,8,13,7,2,10,5,9,5,5,11,7,14,3,7,12,19,14,7,5,16,9,11,10,9,11,5,2,12,5,5,10,16,11,7,2,4,15,9,6,7,35,10,5,15,8,8,8,11,11,8,11,6,7,10,6,14,15,7,18,6,14,6,10,10,15,10,13,10,11,7,7,15,10,7,7,16,18,23,38,24,14,12,6,5,16,9,10,6,12,12,7,7,12,19,8,7,6,6,3,9,8,7,8,4,9,2,5,11,13,11,12,14,15,14,15,4,11,9,8,5,8,8,4,14,6,7,4,5,13,5,20,14,8,3,12,11,12,5,6,2,4,9,20,5,6,5,6,14,10,8,8,5,15,9,10,10,9,13,10,13,7,11,9,13,7,6,7,8,6,6,10,14,15,11,9,14,4,20,7,8,8,6,14,6,6,3,9,9,9,7,7,5,7,14,11,5,6,3,14,19,12,7,7,12,4,12,7,6,10,7,8,8,14,9,9,6,13,6,6,16,11,7,5,9,10,5,5,7,19,12,14,14,5,14,8,5,7,7,14,13,14,17,6,20,15,6,13,2,8,5,3,7,15,5,15,4,6,6,4,15,14,9,16,6,7,4,11,17,10,14,7,8,6,7,14,13,5,10,14,12,5,6,11,4,20,15,11,57,6,12,5,1,6,16,7,6,6,15,3,13,9,9,10,12,17,5,8,10,11,9,5,11,4,12,14,3,6,10,4,8,9,15,7,24,19,17,19,22,12,10,8,9,12,2,7,6,9,8,8,15,6,10,3,12,8,5,2,5,11,9,10,7,9,18,10,6,6,16,13,13,10,1,12,5,31,15,5,5,7,6,8,11,7,15,14,4,14,11,15,10,10,7,12,9,4,9,7,3,9,6,11,9,8,7,15,6,12,3,15,10,7,5,5,8,11,8,8,7,5,8,6,15,10,4,11,11,18,5,6,13,3,19,2,6,9,8,17,6,9,8,9,13,4,7,11,5,13,14,6,13,10,20,16,6,8,14,12,9,8,6,15,12,7,8,8,12,13,6,11,13,8,4,12,6,9,13,8,12,16,16,16,16,15,6,6,12,5,8,4,5,2,2,17,7,2,4,15,8,18,15,10,6,14,8,14,13,13,3,9,2,5,6,3,16,14,8,11,3,16,5,10,14,10,13,12,7,14,7,19,6,8,7,7,11,12,7,12,11,11,10,17,6,4,14,11,8,8,6,13,11,6,9,8,10,10,5,12,12,4,7,10,5,10,14,10,5,11,5,3,10,3,7,8,15,3,6,6,6,15,13,13,12,4,6,12,8,15,14,12,3,8,8,13,8,9,13,17,4,7,8,10,10,10,45,34,24,22,20,4,14,17,13,5,14,5,10,13,12,11,10,3,11,10,3,6,9,7,9,6,4,4,5,8,11,12,5,3,11,11,6,2,4,17,7,11,5,5,12,5,8,4,9,7,3,5,4,13,16,7,6,7,5,6,8,12,3,3,7,5,3,14,6,12,7,6,19,8,8,8,7,6,13,9,11,15,5,15,10,7,14,9,18,13,6,5,4,6,7,9,11,6,3,14,9,12,6,15,16,13,4,5,5,11,14,5,5,11,7,10,2,4,15,6,6,7,8,12,12,8,13,6,12,11,8,8,5,7,10,13,15,16,8,6,12,7,4,12,9,10,16,9,6,11,9,5,16,4,7,11,9,9,9,13,6,8,13,7,7,12,17,5,8,15,7,6,9,9,12,4,10,8,6,1,12,7,4,11,7,15,9,14,12,11,13,8,4,8,6,11,8,9,5,13,7,13,12,7,10,17,14,11,9,4,12,9,10,21,4,10,8,6,15,8,6,10,12,5,7,5,16,3,11,19,2,17,15,9,21,12,17,20,10,4,14,14,3,5,4,3,4,4,4,6,6,7,9,6,7,5,8,8,12,16,10,12,14,4,9,6,7,2,8,4,12,11,6,14,2,5,6,14,14,11,4,10,7,10,14,15,13,13,12,10,14,12,5,7,16,22,8,13,9,13,11,4,2,6,2,5,5,6,8,9,6,6,11,3,9,10,6,9,12,5,12,9,7,9,13,5,8,3,10,14,11,13,13,8,6,8,18,8,8,14,9,9,10,16,11,14,12,12,13,9,8,17,4,10,5,8,8,15,8,6,11,12,14,4,14,7,10,3,7,7,6,9,9,13,4,10,4,6,7,12,8,12,7,10,11,23,16,12,7,9,5,17,7,12,7,16,4,6,10,7,11,15,14,7,7,12,5,7,4,7,16,7,7,3,9,6,10,5,4,21,4,5,9,16,3,8,3,6,4,12,17,7,9,9,8,8,5,21,10,6,6,7,19,12,11,4,9,7,22,5,11,32,8,11,13,6,21,12,7,14,4,5,5,6,16,6,12,7,17,6,7,23,5,9,12,6,8,10,7,11,8,15,5,7,5,15,7,9,5,5,5,13,10,4,6,10,2,12,11,10,12,5,8,19,10,3,3,11,11,7,4,16,6,6,4,10,7,6,5,14,3,14,12,6,18,6,10,4,10,4,6,11,5,14,12,9,8,13,17,6,3,6,8,7,2,12,6,9,12,2,12,4,7,10,5,3,13,9,6,10,9,5,10,10,10,11,10,15,10,11,7,8,8,17,6,5,6,14,10,20,5,11,3,11,16,6,7,5,5,8,3,8,10,4,12,11,5,20,11,6,11,13,4,17,16,15,13,8,12,8,14,10,10,6,9,4,11,8,6,9,9,6,7,6,6,20,12,8,10,20,6,7,9,4,15,14,11,6,6,15,12,10,11,6,33,6,23,13,6,16,6,4,11,15,9,2,8,4,6,10,10,12,9,10,15,6,11,6,10,10,13,8,13,17,4,15,11,16,5,15,12,6,12,5,6,5,9,10,9,8,5,9,7,4,8,12,4,14,8,14,8,7,10,6,14,12,9,9,8,10,8,10,11,6,8,5,7,6,12,4,7,9,11,16,13,5,5,5,6,6,11,10,8,10,8,16,4,2,12,11,12,23,5,9,5,13,8,8,10,10,6,8,7,17,7,15,8,4,13,15,4,10,7,10,11,8,13,5,9,11,8,12,8,9,10,7,10,14,7,6,11,6,9,5,12,14,15,5,15,8,10,4,5,15,14,4,8,3,12,6,9,17,14,13,4,8,6,5,6,18,10,7,4,2,4,9,5,9,15,11,11,15,10,5,9,12,10,3,4,17,5,12,12,11,14,2,12,9,9,13,10,12,8,15,7,5,15,9,4,12,12,9,15,6,9,8,13,3,8,12,2,6,3,11,15,4,6,8,9,6,14,8,12,5,8,23,10,15,4,5,12,6,11,6,9,8,18,8,8,8,8,17,3,11,12,8,6,7,8,16,7,12,7,8,8,10,6,5,8,6,8,6,10,9,13,7,10,14,7,10,14,13,6,4,5,12,16,13,13,4,10,7,9,4,9,10,12,12,5,6,11,4,12,12,15,11,10,6,13,9,2,8,15,4,8,10,2,7,14,8,7,16,13,8,11,7,10,13,9,9,11,15,5,8,7,1,6,12,8,12,9,11,7,5,10,8,6,14,7,3,10,11,5,12,3,6,7,5,9,12,8,9,7,4,8,18,15,11,8,12,4,9,8,8,4,8,13,11,6,8,10,7,7,7,13,6,3,16,16,8,10,4,13,15,9,11,6,15,12,9,4,8,6,9,14,9,7,13,8,10,8,17,7,4,6,5,7,5,10,10,14,9,5,14,10,4,7,11,7,5,2,15,16,4,9,10,17,9,15,4,16,3,12,13,4,4,17,16,10,17,8,6,15,4,11,6,5,7,7,9,17,16,31,15,10,4,9,16,15,8,13,3,5,15,12,10,10,4,5,13,13,7,9,11,6,5,17,6,3,7,9,7,17,9,4,5,5,19,18,16,7,4,6,12,17,9,8,20,12,4,8,6,12,17,12,6,8,5,6,10,13,11,9,8,6,8,12,6,11,8,4,8,12,8,14,11,9,7,6,5,5,16,7,9,10,14,9,9,10,7,16,13,5,10,7,13,7,9,9,2,6,3,11,11,22,9,9,13,11,3,3,4,9,17,5,10,11,8,3,3,10,4,5,6,8,12,22,18,7,13,7,10,15,6,9,9,4,15,7,10,10,14,6,13,7,14,8,13,5,17,6,11,6,14,15,3,10,4,12,10,7,6,8,8,3,12,6,4,6,17,16,17,7,14,12,3,7,18,9,6,7,7,7,11,4,9,10,7,15,7,6,8,8,6,10,10,6,9,8,16,19,17,17,6,9,6,11,4,6,11,7,8,7,13,10,6,7,4,6,17,10,16,17,15,17,9,8,6,17,20,9,6,5,6,16,5,4,10,19,6,12,7,13,16,10,9,6,8,8,10,13,4,18,18,5,4,14,6,17,7,9,7,15,5,9,10,18,9,9,14,5,11,16,7,14,16,10,5,6,2,4,9,12,9,8,15,13,9,10,8,2,8,12,14,11,3,9,10,5,9,8,10,9,14,10,13,10,13,12,12,13,12,12,6,18,11,8,7,7,8,8,11,9,4,6,9,15,5,17,6,7,13,6,7,17,23,12,11,3,11,12,6,9,16,13,9,9,15,7,5,8,20,4,11,10,8,4,14,13,7,7,10,8,12,9,12,4,7,5,10,10,4,11,20,12,11,28,10,15,6,4,4,14,19,4,29,13,5,11,8,11,6,5,14,8,4,7,12,9,9,6,9,10,9,8,10,6,18,8,5,4,12,34,6,2,5,8,11,10,7,6,8,10,16,18,5,29,28,6,6,4,9,8,10,11,9,8,6,5,3,9,9,12,12,14,8,10,17,7,7,15,7,3,8,16,8,14,12,13,12,11,15,11,5,3,3,5,8,6,6,13,10,7,4,10,16,4,15,9,8,10,5,10,12,13,10,10,9,18,9,8,11,11,9,12,19,17,3,7,15,5,12,8,14,13,6,12,15,7,8,8,11,3,5,7,5,7,4,5,2,15,4,10,12,5,16,11,16,6,12,9,7,7,13,14,10,4,9,9,14,12,13,8,13,5,15,8,13,17,4,15,10,8,10,6,12,8,5,12,7,12,11,12,4,6,5,13,5,5,9,8,11,15,15,9,7,7,10,5,2,8,1,11,7,7,9,19,8,18,15,4,6,15,14,7,14,12,15,6,11,10,11,5,3,3,13,11,5,7,8,9,9,14,16,8,8,12,16,11,10,4,16,6,6,18,13,14,6,12,8,13,10,10,14,14,18,5,10,10,10,10,3,5,3,2,11,13,11,10,13,6,6,15,13,11,7,18,5,16,6,7,13,7,12,9,4,17,8,7,5,16,14,6,10,4,12,8,8,11,8,11,10,6,8,11,8,15,8,13,7,7,5,5,8,7,11,13,4,5,7,5,8,9,10,15,7,14,7,11,12,3,5,10,15,6,14,7,5,13,13,7,15,8,13,4,9,9,19,12,7,15,3,12,8,6,3,17,8,11,12,7,5,8,8,5,13,16,13,9,10,9,8,1,12,15,16,6,9,16,6,14,6,18,12,16,6,10,8,14,9,12,4,4,10,9,4,11,10,11,11,11,13,9,9,7,8,15,13,6,10,6,4,18,10,9,10,5,8,15,12,11,8,13,21,12,16,16,11,6,7,13,12,6,4,7,8,5,8,11,7,6,5,13,3,12,5,14,8,8,2,22,11,10,12,6,12,15,7,11,7,4,5,14,5,14,7,6,13,17,7,15,10,11,4,16,7,15,15,10,8,4,8,5,2,13,11,7,8,11,4,9,6,17,5,10,5,19,11,14,27,11,12,7,8,8,6,9,7,8,13,9,17,11,13,9,11,7,11,12,6,14,14,21,18,20,19,20,5,4,6,6,5,14,9,7,4,11,14,5,3,9,18,6,9,13,11,7,15,4,5,9,15,8,7,4,15,8,13,17,13,13,14,12,13,13,6,6,5,10,10,14,18,12,13,9,9,5,7,17,6,9,4,10,7,11,5,19,7,8,11,7,5,14,13,13,11,5,9,8,5,6,13,10,20,8,15,12,4,6,13,11,10,9,8,9,5,17,12,10,13,15,16,10,6,18,16,8,4,13,13,9,9,6,6,12,16,8,13,8,3,10,8,5,4,15,13,7,5,13,5,15,12,10,13,13,8,13,6,10,8,24,25,10,9,5,8,7,3,15,8,2,14,17,17,6,6,10,6,16,12,6,12,4,8,4,15,12,9,8,6,13,9,6,6,6,6,7,14,19,12,11,5,11,12,7,9,6,5,8,11,9,4,4,14,7,13,9,7,13,9,8,10,12,9,14,10,9,20,10,9,5,7,9,11,10,13,4,14,19,2,8,4,9,14,13,4,14,10,11,5,5,7,11,8,15,12,3,3,5,12,15,6,8,7,4,12,8,9,7,10,5,8,11,7,5,14,9,6,7,4,7,3,14,8,26,8,11,8,6,7,15,19,7,7,6,16,6,12,15,12,8,2,10,7,5,9,6,11,16,6,11,10,14,7,13,9,12,4,8,12,12,7,8,7,5,9,13,7,11,7,6,5,11,11,5,3,8,15,14,17,8,7,17,15,5,4,16,13,15,15,13,2,4,13,5,8,10,11,6,14,6,12,8,7,5,12,7,4,12,4,5,8,17,7,10,9,7,6,16,13,6,9,4,14,9,13,13,11,11,11,15,14,10,11,12,5,9,12,5,12,12,9,10,10,4,11,16,8,4,10,11,7,17,3,6,7,12,4,13,11,8,9,7,5,12,4,5,9,10,7,13,7,9,7,6,7,17,9,7,13,3,17,26,6,9,6,6,5,4,7,5,6,9,11,7,10,8,9,11,6,18,7,7,10,6,8,5,7,11,6,5,11,14,17,11,12,7,5,8,11,6,18,5,4,9,14,9,7,3,17,9,12,20,5,4,12,10,9,8,10,12,9,8,15,7,3,13,5,11,10,4,8,18,9,7,6,17,16,13,7,7,6,14,14,16,4,8,12,15,13,7,5,28,10,11,15,14,4,6,2,8,7,15,5,10,5,7,7,5,21,7,8,11,6,6,17,5,5,5,7,6,11,12,13,14,13,3,5,7,14,12,5,12,16,14,9,8,7,8,24,2,12,4,8,6,17,9,4,8,6,18,6,13,4,6,5,11,11,19,19,6,8,6,4,3,5,11,7,6,5,6,5,16,17,8,8,5,20,5,3,13,2,14,8,10,7,12,14,8,7,5,12,22,12,17,10,10,12,13,18,10,9,6,4,4,11,16,7,14,7,4,9,14,5,7,6,14,14,12,12,10,11,5,5,12,5,7,10,15,16,6,11,11,9,13,8,11,17,5,8,4,6,15,13,6,6,7,6,16,18,9,8,4,3,15,17,9,3,10,12,12,5,9,4,9,6,5,4,5,7,11,5,5,10,14,10,8,17,6,4,3,15,6,5,6,7,14,3,5,26,14,4,6,5,6,7,5,6,9,6,13,6,3,6,16,11,8,10,8,8,10,10,6,16,5,5,16,6,6,12,5,5,11,9,11,2,5,2,13,7,10,8,8,15,16,6,9,10,7,7,20,15,8,15,11,7,5,4,8,16,25,10,15,13,4,15,2,5,14,10,9,5,5,5,12,6,8,14,8,7,8,8,10,6,6,9,15,13,18,4,2,11,9,12,8,10,8,12,8,17,5,3,5,14,5,7,4,11,12,14,14,2,5,15,11,10,7,8,7,7,9,16,15,12,17,8,9,10,8,3,8,16,3,10,15,5,7,4,7,7,10,3,21,12,7,4,12,12,6,7,7,8,16,10,11,9,6,10,7,12,7,4,6,6,17,4,12,8,13,3,11,4,17,7,8,13,15,18,8,7,5,15,14,15,7,15,5,2,9,21,11,10,5,4,3,14,15,6,7,3,17,12,15,10,5,9,7,6,12,11,9,7,5,6,10,11,8,27,19,12,3,4,16,13,17,4,12,14,8,13,9,8,15,13,6,8,10,7,8,7,3,15,18,5,6,8,15,16,18,10,16,3,4,13,11,9,6,2,5,12,10,5,17,13,10,11,11,8,9,5,20,16,15,14,3,14,4,13,7,19,3,9,9,11,6,15,5,8,10,7,6,15,6,7,12,14,7,15,8,3,6,16,5,11,6,5,3,7,10,6,8,4,8,7,7,11,8,16,8,15,12,9,5,5,10,13,1,8,13,3,8,6,8,2,5,8,8,8,11,12,5,4,12,11,8,9,12,11,10,5,9,14,11,11,10,11,8,15,8,8,13,9,4,10,15,7,13,16,14,16,9,6,3,13,1,14,16,10,9,6,4,15,13,2,5,13,10,9,16,6,6,7,11,10,12,9,6,15,13,10,10,11,6,7,6,19,6,12,7,10,10,10,10,6,10,10,6,12,14,7,13,13,6,17,17,5,8,17,18,11,10,7,25,10,12,8,2,12,7,8,13,6,17,6,7,8,11,5,4,10,9,11,9,10,7,14,9,20,27,7,7,15,7,7,9,6,4,12,7,11,3,6,8,4,2,8,11,7,3,12,10,8,7,6,3,5,8,12,10,9,7,6,7,5,7,11,13,7,4,9,6,5,15,14,14,15,8,15,6,14,13,8,10,7,4,15,12,3,7,16,4,8,6,7,6,12,6,8,8,3,6,6,11,11,4,6,2,9,9,9,9,7,11,5,5,5,22,6,53,22,37,17,10,2,8,14,3,12,5,6,8,9,7,23,5,7,4,13,4,10,7,3,8,6,10,12,9,7,6,11,8,11,8,5,9,5,18,13,7,12,5,10,9,3,17,7,13,12,7,7,4,11,5,9,20,11,3,8,9,17,6,13,10,12,2,3,15,9,4,16,6,14,10,3,9,16,13,19,11,5,12,16,14,7,10,16,12,7,6,10,11,2,6,16,6,6,2,16,3,8,17,3,8,6,16,4,3,10,11,11,3,6,4,13,13,9,12,6,6,6,16,8,8,4,4,6,4,12,12,19,4,10,5,6,6,7,7,11,14,6,6,6,9,10,5,5,10,12,9,18,6,10,4,7,4,6,6,4,10,10,16,7,10,6,13,4,5,13,13,19,12,15,3,8,4,10,9,9,14,6,13,11,6,4,10,9,16,8,18,5,9,9,4,4,10,2,14,14,6,11,7,10,16,4,17,11,7,8,6,13,5,17,17,8,10,11,17,11,13,9,15,14,10,16,4,16,3,7,14,10,4,4,16,5,4,8,6,6,4,6,4,5,9,11,11,16,7,13,10,7,6,9,4,13,6,13,1,11,9,4,15,6,14,6,20,7,8,8,10,6,11,15,7,11,12,8,7,4,7,9,8,13,11,11,12,11,11,16,14,7,8,3,4,8,10,7,21,6,13,17,13,14,15,9,8,14,6,13,5,11,9,6,8,5,8,7,8,7,1,7,18,7,11,10,5,6,14,9,7,10,17,16,12,8,7,9,8,6,15,19,2,9,9,9,10,4,8,32,32,5,2,7,4,3,9,27,35,8,18,14,12,8,6,7,21,4,11,9,10,11,11,15,3,5,4,13,23,12,12,10,9,8,14,14,17,7,7,5,8,7,10,8,6,5,15,13,6,7,6,5,7,8,7,3,4,6,7,12,16,13,12,3,8,8,10,12,3,7,15,5,10,6,8,6,16,16,17,11,9,6,9,5,11,8,10,5,6,10,15,7,4,7,10,11,3,4,15,14,14,1,7,17,13,17,4,6,8,13,9,9,5,3,11,13,13,15,15,9,8,5,11,12,17,10,10,6,10,13,3,3,12,12,8,11,2,4,2,2,5,16,11,9,6,17,9,7,15,6,14,9,6,11,14,10,16,12,3,5,3,7,3,12,9,6,5,6,9,13,11,15,9,11,3,9,4,9,7,8,6,14,15,11,5,5,3,6,12,5,6,6,14,9,15,2,10,16,21,5,4,12,3,14,2,3,5,6,7,20,6,10,7,3,5,17,9,4,14,5,13,3,7,7,3,13,14,8,11,10,7,8,15,20,9,13,9,14,18,8,10,13,14,7,12,7,16,15,11,3,9,4,15,15,10,4,12,10,15,5,14,4,8,14,14,17,3,11,9,9,9,6,8,13,6,7,5,9,11,3,12,16,3,5,12,6,5,7,5,5,6,6,4,2,9,11,11,6,6,10,18,8,11,1,17,14,11,12,5,8,6,5,8,9,10,10,15,17,11,8,3,14,6,9,5,15,16,12,10,12,10,14,7,13,8,6,15,12,10,14,6,13,4,8,12,6,4,5,7,5,4,6,12,9,9,12,13,8,9,10,15,15,9,6,18,5,11,4,10,7,15,7,4,8,16,11,6,20,6,9,15,2,5,9,6,7,10,8,9,10,12,16,3,2,6,9,7,10,10,15,8,4,14,11,6,13,10,6,14,8,18,22,19,15,9,10,13,10,7,4,15,12,3,4,8,4,14,9,10,3,4,8,8,7,6,18,11,13,6,13,3,3,12,9,9,12,8,2,10,5,12,4,3,13,11,9,16,7,2,9,7,7,6,2,6,11,6,6,7,8,4,6,11,16,11,12,5,10,10,5,6,17,6,4,2,7,9,8,15,6,15,13,17,12,8,8,10,11,10,8,5,11,9,6,12,6,17,10,8,8,6,2,5,8,8,8,10,7,5,12,6,15,9,6,8,8,5,9,17,10,6,13,4,7,13,10,9,14,17,9,18,13,8,6,18,15,7,15,13,6,9,12,10,5,4,5,9,13,3,5,21,6,8,9,6,4,8,5,8,12,14,7,7,3,14,13,14,15,6,9,3,9,4,14,12,5,6,10,6,4,10,14,16,5,6,4,9,10,4,15,16,15,9,10,8,6,7,13,7,7,12,4,7,18,11,5,9,6,11,7,10,8,10,5,11,8,6,4,8,15,11,13,21,11,14,12,12,12,14,4,13,10,8,12,4,4,8,6,13,9,13,15,5,14,15,14,6,16,9,10,6,13,11,11,12,10,6,11,12,16,15,8,11,13,10,6,4,9,3,16,15,10,4,4,18,10,4,5,11,12,5,5,6,8,9,14,9,9,3,5,9,11,19,11,8,13,8,8,9,15,5,5,6,5,8,9,12,4,4,11,2,8,10,16,15,6,8,6,17,8,7,5,12,11,4,4,10,8,10,5,13,6,5,15,11,9,4,2,13,12,14,12,5,10,14,6,14,4,7,9,11,8,3,6,8,3,6,12,9,11,5,8,9,8,17,7,4,5,9,7,10,4,8,12,9,12,9,11,10,7,7,13,10,12,7,5,12,10,17,7,7,6,7,6,11,12,12,9,3,7,12,15,11,7,9,7,6,11,6,17,7,10,3,6,10,7,6,19,5,14,8,6,6,11,13,8,15,10,6,17,5,8,16,5,5,6,12,16,8,16,14,13,17,9,6,6,8,15,8,17,10,5,8,7,12,14,9,8,4,5,8,6,9,8,14,6,4,6,4,18,8,8,14,6,8,18,11,7,11,11,20,7,9,14,11,9,4,4,4,10,12,7,12,7,17,10,8,5,7,9,11,14,5,4,8,10,9,7,8,4,4,2,7,4,9,7,6,2,10,11,8,5,21,8,14,8,7,14,9,8,13,4,6,2,14,7,13,7,13,11,18,11,2,7,12,10,4,4,7,10,9,12,11,3,5,15,15,12,9,7,17,12,12,5,7,13,15,7,6,7,16,6,7,23,6,10,8,4,5,15,7,5,9,17,5,5,14,7,7,21,16,6,8,3,11,9,5,10,16,14,4,13,18,13,10,7,7,12,9,7,4,11,4,14,4,4,13,5,4,16,7,8,8,5,5,3,10,11,9,11,6,7,10,6,6,6,5,5,5,14,8,5,8,11,10,8,10,8,11,16,14,11,8,8,9,9,8,8,5,5,8,3,4,4,13,15,19,3,10,18,22,6,9,13,21,8,7,7,14,17,9,10,8,11,10,23,10,6,3,10,9,13,11,10,8,11,8,17,8,16,2,19,4,6,8,6,6,3,8,16,6,6,6,5,3,3,15,6,11,4,8,11,13,7,15,5,6,6,8,10,10,10,14,3,9,6,15,11,8,21,10,10,7,14,12,3,6,3,8,12,12,11,10,7,8,17,16,8,13,7,9,13,14,11,7,3,12,13,4,5,6,9,9,13,11,7,6,4,5,7,4,13,5,11,9,9,10,3,4,10,10,20,3,17,10,9,9,13,11,6,3,15,8,6,8,10,9,12,13,5,13,9,14,17,8,10,10,10,8,8,2,15,15,15,11,11,11,9,12,8,9,16,6,7,10,10,7,16,19,6,13,11,10,4,6,9,6,4,1,7,10,6,10,12,5,18,7,9,17,8,3,6,9,12,17,10,9,19,18,11,6,18,12,9,12,6,8,11,13,3,9,11,5,6,7,8,12,8,16,7,7,11,6,13,12,15,9,12,13,13,12,7,18,13,13,7,8,7,9,11,5,4,12,11,8,15,11,15,9,10,14,12,10,12,3,5,11,11,4,7,7,7,6,14,4,5,5,17,13,5,11,5,15,9,5,5,4,10,9,12,11,12,5,6,8,11,17,15,6,3,11,3,4,11,14,13,5,18,4,3,5,18,10,5,30,13,5,7,14,8,10,17,6,6,5,10,12,5,16,8,12,11,5,10,3,14,10,4,8,5,14,14,6,9,6,10,6,5,18,8,10,11,14,15,8,12,8,14,2,10,7,3,3,7,15,8,4,14,17,19,6,8,12,8,13,10,13,6,8,6,12,4,5,16,14,14,9,5,8,14,15,11,10,10,10,4,9,6,9,4,13,5,12,7,6,7,9,7,8,8,7,6,13,8,3,10,8,5,10,12,6,15,15,6,9,6,12,8,4,16,8,8,10,26,25,26,20,24,5,14,12,13,4,7,8,19,6,12,6,8,4,7,15,4,8,10,17,8,15,12,7,7,16,10,11,7,9,9,7,4,5,15,16,11,17,6,4,16,5,4,6,17,23,9,3,12,7,10,3,5,7,5,11,11,17,6,9,9,6,16,2,11,13,6,5,4,16,15,12,5,5,16,16,5,8,6,5,4,6,2,12,2,13,18,15,5,8,7,11,5,13,5,5,18,6,7,16,13,6,6,10,7,4,5,11,12,10,4,3,3,8,16,10,10,13,8,9,11,6,12,6,5,6,19,10,5,13,6,11,14,9,13,10,17,13,15,16,5,16,7,6,20,5,21,16,4,8,10,7,8,6,12,4,9,9,7,16,15,7,6,6,12,6,4,9,19,10,21,8,7,9,10,8,15,5,4,9,10,14,13,9,13,3,7,8,13,6,13,7,5,6,19,9,17,12,9,11,12,10,14,13,6,7,10,6,12,8,10,19,6,4,3,14,5,17,17,5,14,11,4,17,5,6,15,12,18,5,16,9,8,13,3,8,21,3,16,4,11,6,5,6,6,5,8,7,15,4,2,16,16,18,5,9,10,16,6,9,18,11,15,7,10,4,18,23,6,10,11,5,4,17,5,1,6,5,14,14,5,8,4,8,12,5,12,3,5,11,17,18,13,11,5,7,13,13,8,5,16,7,18,18,10,10,10,15,5,10,6,4,9,12,6,14,15,14,16,7,11,7,6,5,5,12,11,10,10,5,6,9,5,6,3,8,9,11,15,6,11,11,13,14,6,11,3,8,4,6,10,12,4,14,5,15,13,7,8,2,12,6,11,5,12,14,17,9,8,6,8,7,10,16,7,11,9,3,7,8,6,6,7,6,10,5,8,9,4,8,15,8,5,3,7,13,10,6,6,12,9,7,7,16,16,12,5,9,4,9,8,14,5,14,16,12,12,16,12,16,5,5,7,5,10,4,5,8,12,7,6,12,13,11,9,7,6,18,5,4,4,10,18,17,6,13,9,6,6,9,18,7,7,8,7,9,10,6,13,10,18,15,15,16,6,8,13,16,50,9,6,8,8,6,16,5,6,21,11,7,5,9,7,17,29,5,13,5,12,12,6,10,2,5,4,11,3,5,6,7,6,5,5,4,15,15,5,19,11,18,18,11,12,7,14,15,13,4,11,22,11,9,12,5,15,12,5,15,4,3,11,13,4,14,17,12,13,14,9,13,11,11,6,6,8,13,3,6,5,6,10,4,11,11,7,9,13,8,7,6,3,4,20,14,9,1,7,6,3,9,13,9,2,12,8,11,14,9,7,12,9,8,3,3,12,7,3,11,11,9,15,5,3,9,4,11,13,7,7,9,12,13,6,6,14,5,11,9,11,6,8,16,12,9,6,15,6,4,8,14,4,15,10,8,8,10,4,11,10,6,6,7,11,13,6,7,8,14,4,10,8,10,14,9,9,4,16,16,20,7,16,16,16,13,4,17,6,14,17,14,2,9,12,10,7,10,15,7,11,13,6,11,12,8,9,7,6,4,5,7,11,14,6,10,16,10,9,9,9,14,9,12,5,7,10,10,7,3,7,11,2,4,2,7,15,18,8,10,9,6,7,8,5,7,9,10,5,28,13,4,16,8,9,10,7,17,6,15,12,5,3,16,4,8,17,9,5,13,1,8,7,12,12,7,9,11,3,8,12,17,2,6,6,4,13,13,16,16,8,4,3,6,14,16,5,6,14,5,6,9,13,11,7,5,12,4,4,10,5,7,16,17,9,2,3,6,7,17,6,13,6,13,5,8,8,6,10,4,6,6,5,16,15,5,9,14,6,10,12,25,12,10,7,11,7,3,7,6,5,10,9,6,12,6,4,17,10,8,13,9,6,10,13,19,12,14,13,10,14,15,7,10,11,5,9,13,13,7,9,11,9,16,6,4,15,19,18,6,12,6,12,3,11,16,7,9,9,5,13,14,5,11,10,12,13,5,14,12,7,6,13,11,5,2,10,15,10,6,5,9,7,14,3,12,9,4,12,16,12,4,4,6,16,4,8,9,2,12,15,6,11,15,15,6,21,18,2,23,17,9,17,8,9,7,13,15,16,8,14,7,17,10,17,13,6,10,10,22,13,5,6,9,7,15,7,12,15,17,11,4,6,13,12,12,7,8,4,5,5,8,12,11,8,14,11,5,5,10,5,6,6,9,9,7,8,7,11,6,4,12,16,6,14,8,11,14,8,16,13,9,3,6,6,8,10,16,5,3,9,10,11,5,7,7,12,15,7,7,10,16,15,8,9,12,11,14,6,11,11,3,9,6,6,5,6,13,5,6,6,4,13,7,4,12,4,13,16,9,8,7,16,8,6,11,12,8,2,6,10,12,13,12,5,9,17,12,7,2,5,6,9,4,8,14,5,9,2,8,4,9,4,13,7,9,13,20,3,7,6,14,12,18,8,9,8,12,8,7,3,12,12,17,16,7,2,4,5,10,7,15,10,3,15,13,12,14,10,10,4,13,3,7,4,16,8,9,5,16,11,11,15,15,3,6,3,3,8,8,12,9,15,13,14,12,4,6,15,13,15,10,10,12,9,4,8,17,7,2,7,7,6,11,11,13,6,19,8,4,13,9,9,11,8,10,13,15,13,14,7,7,13,17,6,5,8,13,5,14,14,8,10,9,7,5,10,6,7,16,13,5,4,14,4,12,9,11,12,1,10,10,14,16,7,9,9,9,7,12,14,5,5,12,6,14,9,6,7,8,11,7,5,9,9,18,9,9,10,9,11,17,10,17,9,7,9,14,1,3,4,4,5,6,7,6,11,8,16,5,12,8,17,15,5,12,18,4,15,13,18,7,3,9,5,8,12,13,3,57,3,15,10,11,5,6,5,9,5,10,5,13,10,6,9,14,8,12,6,9,3,18,15,14,13,10,5,13,8,9,8,12,3,8,9,9,6,7,3,8,10,4,4,9,15,10,6,13,8,11,10,9,14,18,4,5,6,14,8,5,13,6,10,19,10,4,11,5,14,8,13,12,8,6,5,12,5,11,9,18,6,10,10,3,9,5,16,16,8,8,6,6,2,10,8,16,6,9,9,14,3,10,8,10,9,9,7,17,9,6,16,5,13,11,6,18,21,5,9,14,10,4,18,9,6,4,10,9,14,11,3,4,15,9,9,8,13,4,8,13,5,16,11,15,4,5,4,9,10,14,9,8,15,7,5,20,6,14,16,11,11,7,10,5,10,10,10,10,9,10,6,10,10,18,9,8,8,4,12,6,9,2,9,6,7,5,20,8,11,9,9,9,9,9,5,15,10,7,22,11,17,5,14,9,11,14,6,12,13,11,4,14,12,14,11,8,8,2,5,5,3,7,15,14,14,11,15,6,7,5,4,11,9,7,15,16,5,17,3,11,6,5,10,6,10,7,6,5,12,6,4,8,5,3,5,19,9,6,5,9,13,12,9,11,7,6,15,22,8,8,3,7,5,13,20,3,14,7,9,8,9,8,11,13,8,8,6,15,9,4,20,6,5,4,13,12,12,9,8,4,11,11,2,11,20,6,8,8,8,4,6,10,11,10,16,8,4,7,8,5,15,9,8,16,11,9,10,4,8,6,7,13,1,14,6,10,12,6,16,15,15,10,10,4,16,7,4,5,10,6,12,5,6,13,6,6,12,4,11,7,5,2,10,3,8,8,15,14,3,9,10,3,7,10,14,20,14,8,3,7,8,1,7,3,9,13,8,24,5,15,4,4,14,14,7,11,11,9,10,4,11,17,10,7,10,10,4,7,5,5,8,6,4,9,16,13,9,3,5,15,9,12,9,11,16,9,10,8,10,9,14,4,15,3,17,15,5,9,3,10,12,13,7,13,8,8,7,9,15,6,12,11,7,17,10,9,6,7,8,5,13,17,7,8,12,15,9,8,7,12,8,8,11,15,13,7,8,18,17,11,12,15,11,3,4,11,8,18,5,16,10,4,3,11,15,8,11,7,15,12,16,14,5,5,7,10,9,7,10,10,8,12,5,6,6,5,8,8,12,8,10,8,7,8,8,4,7,16,7,12,8,4,4,8,7,18,7,17,10,7,6,12,7,8,6,18,9,15,18,6,5,7,11,5,5,16,9,4,12,4,7,11,5,5,8,10,6,10,7,6,13,7,6,16,5,9,5,6,12,14,12,6,10,15,5,7,5,4,17,12,3,5,12,9,14,10,11,5,9,10,12,15,13,9,13,7,14,4,6,9,10,5,17,9,12,6,16,7,3,12,9,8,3,11,7,10,5,5,12,4,6,5,4,7,11,12,13,9,5,9,5,4,11,4,7,6,13,13,4,6,3,16,18,6,6,8,5,5,5,11,7,5,6,15,8,12,6,13,16,9,1,8,9,10,12,8,3,7,3,4,13,7,6,9,13,10,16,4,17,11,15,12,6,5,13,8,14,6,5,10,2,5,19,4,8,5,5,16,9,10,11,6,1,6,6,10,9,7,9,3,10,7,14,4,6,9,6,8,8,12,12,8,2,11,8,11,11,11,15,13,5,10,8,3,4,5,14,8,11,10,12,15,11,5,8,10,10,13,11,14,13,14,11,6,11,6,6,15,18,15,11,14,12,6,6,9,11,14,6,11,11,5,16,4,14,6,3,15,13,9,8,5,7,6,8,6,8,13,17,7,5,10,4,7,3,5,20,11,5,6,12,17,10,9,9,11,13,9,16,9,11,12,16,6,14,4,14,16,18,8,7,7,9,4,9,15,6,11,12,6,4,11,15,16,12,1,7,25,14,12,10,3,12,4,10,8,14,16,9,23,5,6,10,5,9,8,8,3,3,16,5,9,7,12,11,16,6,11,4,10,17,10,15,7,8,10,7,5,6,4,18,9,18,13,12,9,4,15,14,4,8,7,8,12,3,8,5,10,12,10,12,20,6,12,3,6,13,13,7,12,8,3,7,15,25,11,2,4,16,12,8,11,8,15,14,8,6,7,18,11,11,13,4,16,2,10,6,5,13,6,12,8,6,16,4,5,14,10,8,11,10,4,7,8,7,2,5,16,12,5,11,14,5,10,4,11,7,6,16,11,4,12,5,12,7,14,6,7,15,4,19,8,5,8,8,10,2,8,18,3,10,8,11,3,4,10,11,11,4,3,2,3,2,6,5,9,15,10,10,10,5,7,8,8,9,10,4,10,7,17,5,12,18,13,17,4,13,13,8,5,2,7,4,6,13,11,6,6,6,5,7,4,6,6,17,4,9,14,15,7,10,5,8,8,20,9,13,6,11,3,12,11,6,7,14,10,6,17,5,6,15,18,9,5,14,6,7,15,5,8,12,13,5,15,7,13,10,8,6,6,11,12,9,16,16,7,5,6,4,10,5,11,6,10,9,11,6,7,7,4,13,15,13,9,12,2,6,10,18,6,6,10,6,11,14,12,18,2,5,3,5,10,9,17,8,10,6,16,12,13,5,14,4,13,6,7,8,18,7,9,9,7,13,10,2,7,4,16,4,7,7,13,11,7,7,9,7,11,12,9,11,9,7,13,10,3,9,8,5,11,8,12,5,10,12,5,4,5,5,5,11,3,6,10,8,6,4,4,5,15,10,6,5,6,8,10,6,15,8,8,15,6,10,9,11,13,5,9,5,13,6,9,17,5,9,7,10,6,3,12,10,13,20,8,3,11,11,3,16,8,12,4,18,9,16,18,5,7,6,4,13,11,10,11,10,9,6,8,11,17,10,6,2,17,4,9,6,6,11,5,11,7,14,10,11,12,4,10,5,8,5,7,7,18,9,10,6,8,7,13,7,11,4,5,9,16,12,11,8,18,9,9,2,13,16,8,14,13,6,5,6,10,11,14,3,3,13,11,14,10,8,10,12,13,16,5,5,8,5,3,16,12,4,15,14,10,7,6,2,3,16,8,8,5,10,7,8,10,11,9,11,20,9,4,3,9,9,6,9,5,11,7,6,6,9,14,8,6,13,11,9,6,9,6,11,5,15,5,16,12,18,12,15,12,4,6,4,5,5,8,16,6,12,14,5,15,12,5,9,16,9,10,5,15,5,10,10,11,13,12,5,10,9,9,7,2,12,13,11,4,12,7,12,11,16,12,7,9,8,12,7,7,5,9,9,7,14,17,8,12,5,12,13,5,6,12,8,8,17,5,3,18,14,16,7,8,12,8,5,10,4,9,10,17,8,11,8,5,12,15,21,4,6,5,8,2,7,16,17,3,4,11,12,6,6,13,3,8,9,6,8,9,6,13,13,3,8,6,9,17,11,9,4,14,4,11,15,6,14,10,7,15,6,15,7,7,3,11,3,5,4,5,7,8,2,9,12,9,8,6,8,14,21,14,8,18,7,17,9,12,6,11,9,8,4,11,11,4,12,11,14,16,4,7,8,4,4,11,16,5,10,5,15,5,15,17,12,16,6,12,5,13,10,19,8,6,6,12,8,16,16,16,9,10,13,6,11,5,9,9,13,6,8,4,18,5,8,11,13,17,5,5,6,6,11,13,14,2,17,8,8,5,12,6,17,6,3,12,4,9,10,9,17,5,15,9,16,8,6,5,10,15,26,4,6,15,4,12,14,11,7,10,10,7,11,5,6,9,7,5,8,5,2,5,9,9,7,4,9,4,4,8,8,11,14,10,13,4,6,6,19,8,6,15,5,6,11,15,17,24,5,9,5,17,7,7,17,10,8,14,3,6,11,8,10,8,11,15,9,6,9,12,11,5,13,11,10,11,14,12,17,14,9,10,12,11,12,9,11,8,14,10,5,5,12,22,10,12,12,4,13,4,9,12,11,5,7,13,15,7,17,13,18,8,11,11,12,5,12,17,15,6,7,13,10,5,8,9,6,7,5,6,12,3,9,4,11,8,17,6,11,8,7,10,8,9,10,14,5,10,18,9,8,7,8,11,4,7,7,8,10,4,13,3,14,3,6,20,17,8,9,4,10,17,11,15,3,5,15,12,12,9,25,5,11,14,15,13,5,8,12,15,9,13,10,17,13,7,4,6,13,13,8,9,9,10,12,10,12,17,17,16,8,7,10,10,19,10,5,8,13,8,15,7,14,9,15,11,5,21,11,7,6,13,11,7,4,10,9,4,10,13,6,4,6,4,5,11,7,12,17,11,10,3,15,9,3,8,6,9,9,19,6,14,15,13,8,17,8,7,15,12,16,16,15,5,5,11,12,7,9,6,17,8,11,8,15,17,11,4,7,14,24,10,12,4,8,4,17,5,3,7,9,10,7,10,12,10,8,7,7,7,10,7,7,5,12,14,16,7,18,15,5,4,16,11,9,11,7,3,6,6,11,7,12,7,10,13,9,6,9,5,5,3,10,15,8,3,11,20,5,10,6,13,4,14,6,12,14,14,13,4,13,6,5,7,6,6,11,14,12,18,7,15,6,8,6,3,7,12,9,14,9,3,13,6,17,9,15,9,9,4,5,5,6,11,6,3,4,8,3,16,5,7,12,17,17,7,9,10,8,7,8,4,11,6,5,9,6,5,10,13,10,8,9,13,7,12,5,15,4,11,13,9,5,9,13,4,7,11,16,8,2,6,5,6,10,13,11,3,12,11,6,3,5,7,6,5,16,5,4,12,7,22,7,16,5,14,12,6,10,13,14,15,14,18,14,17,13,3,17,5,11,6,6,10,25,4,6,5,9,9,12,14,7,15,16,7,7,6,12,8,7,7,13,11,9,12,14,10,13,10,13,18,10,12,10,8,7,15,11,4,15,5,9,8,6,8,7,11,11,10,2,7,9,20,3,8,11,13,7,8,13,6,14,4,4,17,6,4,6,12,16,6,6,10,9,8,7,9,7,16,3,11,3,7,7,11,14,14,17,12,14,5,6,18,14,15,6,10,15,5,10,16,6,4,12,5,5,6,12,11,3,6,11,6,17,3,5,9,13,5,11,6,8,4,15,7,5,15,12,5,9,5,6,9,17,3,8,10,11,11,14,4,6,3,5,11,6,12,6,6,4,17,15,12,6,8,10,16,14,10,10,7,6,14,12,4,8,8,8,7,5,10,13,7,4,12,11,10,7,6,9,10,3,12,7,12,13,3,13,22,5,9,15,4,7,4,5,6,7,8,9,9,13,20,16,11,11,9,5,12,7,17,10,10,5,8,10,10,3,9,6,8,5,5,8,17,12,11,4,2,16,5,7,11,13,7,21,10,10,3,11,11,9,14,9,9,11,5,4,15,3,13,2,6,3,7,8,3,8,9,8,8,8,11,10,8,10,8,7,11,4,6,6,6,6,5,6,43,10,5,9,2,9,4,19,2,10,4,4,9,16,7,15,4,9,9,6,20,5,7,10,8,14,40,14,11,7,5,6,2,9,20,10,6,9,10,5,10,12,10,5,16,10,3,4,7,4,13,7,8,8,3,5,9,3,9,15,5,11,14,29,4,6,7,21,3,9,8,15,6,13,8,6,17,7,10,7,15,11,16,6,5,11,8,9,11,13,9,12,7,9,2,7,5,9,17,30,29,6,9,11,10,5,6,18,8,4,9,14,18,13,10,7,3,5,7,12,13,7,9,11,5,12,4,6,11,13,5,12,10,13,9,8,15,11,12,10,11,14,14,6,6,8,5,8,4,12,14,17,14,16,7,4,4,14,3,16,8,10,11,12,11,7,9,20,10,13,12,11,11,12,15,5,5,10,5,13,11,11,5,6,18,12,6,11,12,9,11,6,15,4,12,10,12,7,11,7,5,8,14,17,17,11,6,7,2,8,16,3,4,11,17,6,9,11,7,4,12,14,9,11,8,11,16,9,9,13,10,4,3,15,14,10,15,8,9,9,9,5,10,13,4,5,8,8,12,3,13,4,9,15,14,14,12,7,12,6,7,3,11,12,11,20,7,9,4,7,5,6,8,2,12,5,6,5,3,11,7,9,3,10,14,4,7,6,12,6,8,18,8,13,13,8,10,5,18,9,14,15,5,4,3,12,6,11,7,13,4,35,43,7,14,12,11,5,7,11,12,5,13,6,7,15,11,9,13,5,5,3,13,7,9,3,17,6,17,8,8,14,11,9,12,12,3,8,14,12,11,33,6,9,10,7,18,21,7,9,11,8,16,1,4,5,6,10,9,4,6,11,3,14,11,8,7,11,3,9,4,4,9,8,8,14,8,12,7,4,5,12,9,5,16,15,16,20,6,7,6,14,7,8,6,2,13,8,6,7,7,17,13,10,12,8,7,15,15,5,16,2,19,5,9,12,5,6,14,8,8,12,8,10,10,5,10,10,5,9,14,5,5,12,15,3,9,15,15,15,16,16,10,10,10,4,10,10,6,15,8,8,5,10,7,8,7,10,8,8,7,16,18,10,16,7,2,14,11,11,5,17,8,17,9,12,10,5,5,10,4,3,16,10,14,4,10,8,10,7,12,5,5,8,7,2,18,10,11,5,24,21,15,7,4,11,8,8,10,11,10,7,7,6,16,5,8,13,8,9,7,8,7,5,16,5,3,14,12,9,3,11,9,10,10,12,11,8,7,8,6,7,4,5,8,7,5,14,12,14,4,8,3,5,11,9,3,11,19,11,8,11,11,8,12,5,13,7,12,8,13,7,2,5,9,5,4,11,13,9,4,7,16,7,5,6,9,8,16,11,5,6,4,5,3,19,7,12,11,6,11,4,5,7,6,7,9,5,12,15,10,9,11,6,7,11,10,5,5,8,7,5,18,7,12,7,5,3,3,9,14,5,3,5,10,3,8,5,3,8,10,10,14,16,16,8,15,6,6,12,10,5,13,7,10,10,8,7,4,6,11,3,17,5,13,4,6,17,11,8,4,5,14,10,8,20,17,7,15,7,13,15,12,10,4,10,17,9,5,9,11,7,17,12,10,10,12,8,4,6,13,16,4,12,4,12,8,9,14,11,11,7,10,12,4,7,4,8,10,6,11,7,7,7,8,5,8,8,5,8,12,13,5,15,15,19,8,5,10,17,16,5,3,11,15,10,12,4,7,4,16,6,9,8,8,5,8,8,9,13,3,7,14,6,7,3,5,15,7,9,9,4,7,10,4,12,5,4,4,13,8,11,8,14,12,17,8,9,11,11,8,8,9,18,8,7,6,3,15,9,3,5,8,7,7,16,6,10,12,3,7,5,8,11,12,13,11,7,8,6,6,5,6,13,7,13,5,8,7,13,4,2,6,2,7,6,7,4,14,11,8,5,6,11,16,7,14,16,7,15,17,7,5,14,17,10,12,4,9,15,14,8,5,12,5,13,11,7,5,16,14,8,7,9,7,11,5,4,5,7,14,14,5,9,8,13,9,8,9,8,9,14,9,7,16,9,14,16,15,6,7,9,12,9,8,14,10,5,4,9,7,7,9,8,11,5,14,3,3,5,8,11,8,7,11,5,17,8,17,9,15,22,12,7,5,6,10,15,12,5,7,14,15,4,9,7,12,12,2,5,12,15,7,14,4,8,9,14,14,3,4,7,10,34,8,4,13,15,4,12,5,8,9,3,2,7,6,14,3,14,11,15,12,10,16,16,16,10,5,3,12,18,6,5,5,14,14,10,8,2,6,4,5,20,12,7,12,12,15,12,5,8,9,7,6,2,23,13,16,17,4,10,3,6,9,5,7,16,8,10,5,6,6,14,5,12,9,6,6,9,9,18,17,18,5,5,5,8,4,4,10,25,11,14,9,5,8,13,12,5,8,15,12,11,8,12,10,6,8,7,14,10,13,6,8,10,3,4,2,15,14,8,4,7,6,7,4,6,15,8,2,17,12,11,6,8,6,9,7,10,10,19,4,3,5,3,12,8,10,10,5,15,13,8,7,4,8,13,9,13,8,12,7,8,4,7,7,13,18,3,8,9,8,8,9,8,10,15,3,11,8,10,15,5,13,12,16,7,11,4,6,10,6,16,10,8,10,15,14,11,6,5,8,8,5,13,8,10,9,11,10,5,16,6,7,6,15,9,4,6,15,14,6,6,12,7,8,6,12,17,15,14,2,6,9,6,8,16,10,5,6,6,9,15,15,12,12,8,4,11,6,12,10,13,13,11,17,3,6,14,5,8,10,12,6,5,9,14,7,8,6,4,9,13,6,9,4,10,10,13,8,7,15,10,4,9,12,15,10,9,7,5,10,11,4,11,2,4,10,10,11,16,13,8,10,8,11,8,10,7,15,16,16,8,5,11,13,17,15,5,9,2,4,12,15,16,5,2,8,5,6,10,10,7,6,5,6,3,6,4,14,16,8,5,7,6,3,6,14,7,6,11,18,14,6,14,15,8,6,5,11,12,14,7,5,6,17,17,10,9,5,4,8,5,5,3,8,13,6,11,7,6,17,7,7,8,16,11,11,6,14,7,7,5,12,7,10,10,6,3,10,5,5,11,6,8,33,15,6,4,6,10,5,7,17,14,8,12,10,10,7,11,7,15,8,5,11,8,5,5,5,12,18,11,8,3,10,5,16,10,3,6,6,13,8,11,11,17,12,8,8,7,10,7,10,17,5,9,7,7,5,7,6,5,18,9,11,17,11,5,5,10,13,9,11,12,10,8,14,8,14,9,11,8,4,10,16,13,6,14,14,13,9,5,17,4,15,10,5,2,4,4,7,5,10,2,7,3,5,11,8,11,9,6,13,5,6,13,8,13,3,7,12,13,10,5,6,6,11,7,13,9,7,8,7,17,12,14,13,5,11,12,17,4,7,3,9,10,7,5,5,9,8,5,7,7,10,16,9,6,12,11,13,6,12,9,13,16,2,5,7,9,6,13,11,5,17,14,13,2,17,13,14,6,22,18,12,3,15,13,3,6,15,2,16,4,7,7,6,5,7,5,9,8,11,10,13,7,13,4,6,9,3,5,8,8,7,6,11,9,6,10,8,3,12,12,4,10,9,8,4,5,4,7,11,6,3,7,15,12,8,9,3,7,5,5,13,4,15,14,16,17,13,10,9,5,6,4,9,7,3,11,17,5,7,13,13,10,12,6,11,13,10,17,15,6,10,5,16,7,12,17,8,15,5,11,5,6,6,9,5,10,4,10,8,2,13,11,10,6,8,7,9,5,15,17,9,10,6,7,6,7,11,17,16,6,3,9,6,6,2,7,8,5,9,9,13,15,11,5,4,13,9,8,12,9,4,8,4,16,7,6,10,12,2,18,12,7,8,10,9,7,12,4,11,4,4,9,13,6,6,8,16,6,10,14,10,4,8,11,5,10,5,14,8,2,5,5,12,12,14,5,6,9,2,10,4,13,12,21,17,13,15,7,21,5,21,7,10,8,9,7,8,9,8,10,8,8,6,3,7,7,16,9,9,11,8,5,4,10,13,5,10,18,11,9,18,9,6,9,5,5,16,17,16,18,6,18,8,5,10,9,10,6,4,7,10,7,16,2,11,7,7,10,9,8,9,12,16,3,12,4,3,22,9,19,4,8,8,6,9,5,21,12,7,2,18,7,10,9,23,4,10,6,11,6,13,6,7,4,7,5,9,8,8,10,5,8,21,16,13,11,5,6,7,6,16,6,6,2,12,6,8,9,18,5,6,8,22,13,13,14,10,11,10,16,3,5,6,9,7,18,7,12,9,12,7,4,18,9,13,8,7,4,17,25,6,7,12,6,7,12,5,3,10,3,6,10,8,5,4,16,7,12,6,9,15,6,11,9,24,17,14,14,4,16,9,15,6,8,10,4,4,8,9,5,7,15,3,5,5,8,9,11,11,9,7,15,17,6,8,16,4,8,15,12,11,13,16,3,7,13,11,12,6,6,5,12,7,10,16,7,9,1,16,6,17,10,4,8,12,6,7,9,7,3,17,6,10,14,4,6,16,4,4,7,12,12,12,6,11,9,16,4,9,8,10,16,10,21,15,6,10,7,8,12,7,3,11,7,11,8,9,11,6,5,10,6,9,5,11,6,11,6,18,54,13,5,12,13,1,5,5,14,5,9,5,13,11,7,2,5,6,9,6,4,20,11,9,6,12,8,8,1,5,6,15,16,6,6,14,6,3,14,10,12,10,4,5,10,6,4,44,6,11,5,3,8,2,9,4,5,8,11,7,14,5,7,2,17,5,4,6,8,7,7,10,18,11,4,16,5,3,13,4,7,10,10,15,18,10,17,13,7,16,16,4,16,11,11,12,7,12,4,6,15,6,6,15,14,11,5,19,7,3,17,15,14,5,13,6,7,4,8,8,16,6,8,3,4,5,16,4,7,12,3,11,12,14,5,12,9,16,5,16,13,3,12,10,9,5,13,7,5,10,15,8,15,12,4,14,7,9,7,9,10,15,10,13,8,15,11,11,11,7,11,8,14,8,13,2,2,7,11,2,2,15,8,5,12,1,15,10,8,14,5,13,5,10,11,9,5,8,16,13,10,5,20,3,11,6,6,11,7,4,11,9,4,1,9,7,15,15,11,3,4,13,9,16,5,18,13,10,8,12,14,5,5,17,11,4,4,11,12,4,4,16,5,10,4,3,3,6,4,11,14,9,6,18,10,17,6,9,16,13,5,6,3,8,14,14,6,11,7,11,6,11,16,9,8,7,12,4,10,7,11,5,8,7,9,13,4,6,10,11,13,19,9,8,9,13,8,2,7,10,8,12,11,10,9,3,17,12,4,9,6,13,16,14,13,4,13,8,8,13,13,6,10,12,14,10,14,6,10,10,13,10,9,16,8,6,7,13,15,14,9,9,9,15,11,7,8,14,11,20,6,8,4,6,16,17,22,11,5,4,21,6,15,14,8,12,11,7,14,8,6,11,8,7,6,6,7,10,6,12,9,17,13,15,7,14,3,15,15,7,7,8,9,6,7,8,5,19,35,14,13,11,14,13,7,18,18,19,16,8,4,9,14,11,9,11,15,6,11,12,8,6,11,9,6,13,14,15,17,2,3,11,7,3,7,7,4,8,10,7,9,10,6,3,8,8,12,10,5,6,5,10,11,16,11,6,16,6,10,16,11,9,13,12,11,6,7,12,5,7,10,5,4,7,3,4,5,14,14,8,3,5,13,8,11,10,11,10,7,10,8,9,10,9,8,8,7,6,7,3,16,9,8,14,9,11,12,8,7,4,5,9,17,7,10,18,12,5,16,6,11,13,6,11,9,6,5,4,8,9,7,5,10,5,11,12,14,10,12,10,9,6,8,9,8,16,5,9,11,4,4,5,4,11,6,5,5,8,5,12,6,14,5,7,14,14,7,3,8,14,16,14,6,3,11,2,14,12,2,6,9,10,19,15,4,11,18,8,14,5,8,7,8,5,9,7,16,4,9,8,9,13,3,4,4,9,5,12,8,9,17,3,6,6,7,13,12,8,3,12,8,5,14,13,7,10,3,10,14,16,16,16,13,3,11,13,13,6,11,8,7,8,8,5,10,11,10,9,12,9,9,9,11,9,9,9,4,11,5,9,1,16,15,13,8,8,13,5,4,8,13,7,6,5,4,14,7,13,7,18,14,10,6,15,8,20,14,8,10,6,10,7,9,6,8,10,7,12,7,7,12,3,14,4,10,10,10,9,6,17,9,10,5,8,11,4,4,6,6,6,11,12,6,11,11,8,16,4,8,2,14,22,9,6,6,15,7,13,7,14,13,15,14,8,12,7,6,5,8,6,3,7,17,10,5,3,9,7,6,10,12,16,16,5,8,12,16,10,9,16,8,15,3,10,16,17,8,6,7,5,7,12,10,10,16,4,7,6,9,6,10,6,9,15,6,4,11,12,9,16,4,6,15,14,11,2,5,7,5,5,14,13,14,7,11,7,13,13,11,14,12,14,5,9,8,8,8,12,7,11,12,16,8,7,5,16,7,16,6,10,10,10,5,9,6,19,4,3,4,8,4,9,12,9,13,7,2,6,5,10,8,9,10,8,10,15,7,4,6,8,13,5,11,14,22,11,10,10,10,7,7,5,5,15,17,21,8,17,6,12,11,8,9,14,15,16,13,7,8,16,11,4,4,14,15,9,17,13,5,4,10,14,10,11,8,8,18,8,13,13,8,5,15,6,6,7,6,8,15,14,13,6,4,8,8,5,4,11,11,8,8,13,13,12,6,12,12,6,17,8,5,15,13,16,17,17,18,15,10,11,11,10,8,3,13,14,3,8,6,11,8,17,8,8,15,5,19,6,11,2,5,17,5,8,7,12,10,25,10,11,15,13,14,8,13,10,8,6,11,9,13,7,7,6,14,9,11,7,9,9,11,6,16,6,6,13,7,2,13,18,9,10,14,6,3,7,12,6,3,6,2,10,8,13,5,10,16,12,7,16,7,4,15,12,4,11,4,6,10,15,8,16,10,7,6,17,8,9,13,7,10,9,6,11,11,14,5,12,20,9,7,6,12,3,16,9,4,4,4,8,14,8,8,6,6,18,11,16,6,7,5,11,10,4,10,5,12,7,7,5,12,8,8,15,12,9,11,2,14,4,13,16,6,3,10,5,13,5,6,18,9,10,7,6,14,16,13,5,9,6,8,12,3,6,8,16,5,3,3,8,9,9,6,6,12,6,12,3,14,9,10,11,15,6,12,8,4,5,6,6,6,9,10,11,5,16,7,10,15,12,4,3,10,10,6,16,7,16,4,6,9,10,14,11,8,14,8,9,14,7,8,4,15,10,7,17,7,6,9,10,7,5,15,8,7,7,12,14,6,4,8,7,20,8,18,13,4,6,11,3,7,11,3,7,2,7,6,13,8,9,7,9,13,4,12,10,10,14,3,14,6,8,7,16,6,7,6,7,7,17,5,15,9,15,7,14,2,11,11,11,7,5,10,5,8,16,11,9,8,7,3,7,8,8,14,9,3,4,6,10,5,8,14,6,13,17,12,7,14,6,19,10,7,6,7,19,19,9,10,9,19,11,11,9,7,13,15,10,7,6,13,5,5,10,14,10,16,9,6,4,14,11,14,15,10,9,9,5,8,17,6,9,15,4,16,8,8,8,5,6,9,5,9,8,16,15,20,7,11,14,13,11,8,7,6,9,7,18,5,12,13,6,6,5,9,1,6,12,21,6,11,5,9,6,9,6,18,10,19,9,6,5,4,20,6,6,9,7,6,6,17,9,5,5,7,5,8,8,6,14,13,11,15,13,3,7,21,5,11,11,9,11,8,10,13,11,13,8,8,9,12,6,5,5,4,15,4,13,3,2,6,18,17,10,15,10,13,13,5,13,13,4,19,6,4,18,10,14,6,12,12,4,5,11,17,3,7,6,5,15,13,9,14,10,5,12,18,14,12,9,13,5,5,12,4,9,3,2,14,12,9,10,9,5,2,6,13,5,9,8,6,10,6,5,14,16,7,9,3,8,5,5,7,6,5,9,8,13,12,5,7,4,3,4,5,18,7,10,9,3,12,4,6,9,7,5,8,5,10,9,10,4,7,13,13,9,11,9,20,11,5,13,9,3,3,15,31,7,12,13,8,3,4,6,12,12,3,12,12,6,13,2,12,18,11,7,9,13,15,8,15,16,7,4,16,15,12,8,7,5,5,3,12,6,11,13,6,2,7,6,11,6,10,4,10,16,8,6,7,6,5,12,12,7,10,4,16,14,4,11,7,6,7,8,7,7,18,4,5,6,9,9,16,7,9,13,6,11,9,9,11,4,3,14,10,12,13,4,6,16,10,5,13,14,9,3,12,15,11,9,8,18,11,4,10,8,2,9,5,2,7,6,1,7,13,14,7,15,7,6,21,6,5,13,5,13,5,10,30,22,9,11,16,6,8,10,7,12,4,7,11,6,8,13,8,11,11,16,10,16,5,14,12,8,14,5,14,10,9,13,4,8,9,8,6,16,7,17,12,9,16,5,7,9,4,4,8,10,14,9,10,21,9,7,4,11,5,10,7,17,3,12,14,14,9,7,7,10,8,4,8,15,12,14,9,6,8,4,9,7,9,5,3,5,8,17,13,5,11,9,5,11,13,6,12,12,5,4,7,5,6,7,3,7,5,14,8,15,11,7,6,4,4,9,19,9,5,3,12,11,9,8,9,7,5,15,6,10,17,11,8,9,10,13,12,13,14,6,8,12,6,7,8,9,6,16,7,13,12,8,3,5,6,7,16,8,13,5,8,8,8,9,14,11,13,8,19,5,6,13,11,7,10,9,10,16,4,9,18,19,5,14,14,12,4,8,6,5,7,3,19,10,11,5,8,8,7,15,3,6,15,10,12,7,14,11,6,7,11,7,5,8,11,10,7,6,15,15,7,13,16,17,16,9,9,3,5,7,6,7,11,4,7,3,13,6,12,21,6,11,11,11,3,10,14,7,7,6,4,4,2,18,8,7,7,15,8,3,3,4,9,3,6,5,10,11,5,6,11,12,10,12,2,9,7,14,10,15,15,13,11,14,11,19,4,7,11,10,12,14,8,6,8,4,12,17,16,11,14,20,9,7,3,3,16,2,8,5,6,16,16,3,15,6,11,19,15,15,16,11,7,4,14,7,8,4,12,7,11,8,13,5,9,7,6,10,12,10,12,7,15,18,11,12,8,14,6,8,7,10,22,11,2,10,12,10,5,16,6,6,12,15,8,4,16,9,8,13,18,8,16,6,24,16,3,12,27,14,10,9,6,9,9,8,15,11,7,9,20,7,5,8,13,11,10,7,18,4,5,13,7,8,8,9,7,12,43,38,15,10,7,12,12,5,6,3,7,3,16,15,13,10,6,8,5,17,12,8,19,17,9,8,5,19,17,13,9,8,7,9,11,11,8,17,21,5,13,11,18,2,2,16,13,10,10,8,10,9,14,6,9,10,15,13,19,7,7,9,8,15,13,11,11,9,14,17,14,8,18,6,5,3,11,20,4,10,12,6,4,1,5,8,12,16,9,16,7,6,9,16,17,12,19,12,10,9,10,6,8,7,9,7,7,11,3,3,4,7,15,10,9,7,12,6,13,14,2,11,6,9,12,12,11,15,11,12,4,15,7,8,12,4,12,4,13,6,4,5,9,12,18,13,12,9,10,5,7,5,13,15,16,16,16,2,5,7,12,5,14,5,7,12,14,6,3,6,6,6,5,3,7,5,6,8,6,5,6,5,9,4,9,12,4,8,6,17,17,6,11,9,5,16,17,7,9,8,13,9,8,10,7,10,8,9,10,13,6,5,9,15,15,9,5,14,7,12,8,6,15,5,6,5,16,6,15,17,10,18,9,10,7,11,9,6,13,10,7,7,4,4,16,7,16,6,11,16,12,15,5,10,10,12,18,3,15,9,2,8,7,18,14,17,7,8,14,15,5,11,8,5,12,10,8,13,7,15,6,8,3,4,12,3,11,8,7,6,8,9,4,5,7,11,5,6,11,7,11,7,9,22,5,12,6,6,5,15,6,8,7,11,12,11,11,7,6,13,3,7,17,4,7,15,15,13,9,6,11,18,15,7,9,10,10,10,10,11,8,7,6,8,13,8,15,14,4,7,5,8,8,12,4,6,15,15,4,11,10,16,18,12,7,6,16,5,11,5,15,4,11,8,5,8,15,15,19,7,8,14,11,8,7,17,5,2,4,7,11,12,7,7,7,7,2,15,17,9,7,3,8,15,14,3,2,45,6,2,9,6,6,16,11,7,6,6,5,16,13,7,6,11,5,7,38,33,6,12,8,7,10,12,6,8,10,16,15,2,5,5,7,9,11,5,3,9,6,10,5,21,8,13,6,6,13,6,4,8,10,6,10,6,2,17,9,11,9,6,6,12,12,14,14,9,2,9,3,2,7,11,19,14,27,7,6,10,10,8,5,14,10,6,7,10,5,7,12,7,3,9,13,21,5,7,6,7,6,4,8,7,6,12,6,9,5,2,3,9,20,8,8,5,5,4,4,8,5,5,18,8,8,11,9,6,4,6,6,13,7,10,9,4,10,14,5,11,17,4,13,14,8,12,7,7,5,3,7,7,19,5,5,5,7,6,9,10,14,14,10,9,8,8,2,11,6,6,8,5,5,7,5,7,12,12,9,4,15,12,14,12,6,5,9,14,9,13,9,6,10,9,12,12,6,7,6,8,8,15,10,17,14,11,8,18,10,7,4,5,8,6,7,10,12,11,10,7,4,9,9,13,12,6,10,10,6,4,12,5,6,3,9,9,14,13,8,6,4,17,15,6,5,9,13,17,11,15,11,13,5,13,7,6,9,14,9,9,7,9,9,7,13,13,9,13,2,2,8,4,16,10,4,9,6,5,6,11,8,12,11,4,4,12,4,18,12,11,7,7,7,16,17,8,5,6,8,7,9,5,4,9,12,15,3,5,16,13,16,10,8,9,10,6,11,4,9,16,5,7,7,10,11,9,6,16,9,5,10,13,8,13,11,17,11,13,10,12,10,11,5,7,8,11,6,5,3,8,4,5,8,12,16,6,3,15,7,12,7,6,10,5,15,15,4,20,6,14,6,13,8,10,13,9,8,6,8,13,8,14,13,5,8,7,3,19,11,10,12,10,14,6,20,8,3,11,7,8,14,13,9,3,10,15,7,3,16,5,11,6,5,12,9,14,13,6,6,5,14,13,6,5,6,9,5,10,15,7,12,6,14,8,10,12,15,14,10,11,11,12,18,13,9,16,7,4,10,7,10,7,11,6,12,8,8,7,5,6,13,4,7,9,4,2,4,6,4,10,10,8,8,9,13,7,7,6,6,11,10,3,14,11,4,3,5,13,7,5,12,3,4,4,2,11,6,4,17,10,6,4,9,12,10,11,9,5,6,14,8,9,16,13,9,8,11,20,4,9,10,7,8,10,9,13,12,5,10,3,7,5,6,7,7,20,2,8,5,8,13,8,7,6,17,11,5,2,6,14,12,16,5,3,6,6,5,11,9,10,15,3,4,7,9,12,9,7,8,8,13,12,3,10,8,8,15,8,16,7,5,11,7,4,18,18,18,7,11,12,11,16,5,8,61,42,25,11,19,4,8,9,13,15,13,11,10,5,8,9,10,8,10,19,15,8,8,16,11,3,12,7,3,8,6,13,12,16,10,6,9,8,8,7,7,13,8,13,6,14,3,12,15,17,8,18,14,13,13,9,15,7,14,11,7,7,8,9,9,11,12,13,10,11,11,6,13,15,8,5,5,6,22,5,4,3,10,10,12,13,4,4,8,5,8,9,7,10,10,7,17,5,10,7,6,15,3,19,8,9,14,6,7,10,7,12,19,9,7,5,16,10,17,7,3,12,6,12,13,7,5,6,7,7,6,5,7,10,4,16,22,12,11,6,8,4,9,9,7,13,4,16,12,4,17,11,9,8,11,8,6,6,8,9,14,7,13,5,4,4,11,9,4,10,9,11,8,11,9,11,8,13,11,5,13,10,9,9,12,10,12,13,7,10,13,7,9,5,6,15,6,6,4,11,8,19,17,4,5,7,14,6,11,7,10,12,4,10,7,13,4,9,12,7,8,10,6,12,10,7,12,10,15,6,9,10,13,20,16,6,3,5,16,9,7,4,15,11,3,6,13,6,11,5,11,4,7,4,15,5,18,13,6,5,7,13,12,8,5,12,15,9,9,12,7,2,7,8,11,8,9,10,10,14,14,5,15,9,8,5,16,5,9,4,7,8,11,14,11,23,17,16,7,13,17,6,7,5,18,21,7,7,4,12,4,8,7,5,3,12,7,6,5,14,10,5,7,7,5,13,6,18,16,12,9,18,12,14,11,11,12,11,10,24,7,14,8,11,6,4,15,17,4,5,7,6,20,9,10,10,10,12,7,14,7,7,9,6,5,13,4,16,8,16,9,9,16,8,5,14,15,5,12,4,8,8,8,4,5,11,10,7,5,9,8,9,5,12,7,7,11,18,14,15,10,11,9,7,7,10,4,7,14,6,5,11,5,4,9,2,5,14,18,17,4,9,14,5,7,14,12,5,15,16,7,9,10,15,11,12,9,6,15,11,8,9,5,14,4,7,7,8,9,9,5,16,9,6,20,9,5,10,9,12,8,6,6,6,10,7,15,7,9,10,7,8,7,4,18,10,7,4,12,17,14,8,8,6,8,4,4,8,7,14,7,11,13,10,6,6,7,24,18,5,6,14,3,11,10,5,6,7,7,8,9,16,13,4,13,8,12,8,10,9,9,15,13,12,7,12,2,8,17,5,7,8,12,12,7,7,6,13,3,3,7,10,11,4,22,20,8,6,4,9,4,5,9,11,4,8,13,9,12,5,6,20,3,8,8,11,10,4,7,11,15,12,7,9,9,4,11,3,11,3,4,15,14,16,2,7,4,3,5,10,7,5,6,14,13,12,5,8,11,12,9,6,11,17,3,8,10,18,7,11,15,16,8,12,6,4,8,10,13,11,9,11,9,7,13,12,5,6,11,5,6,8,8,12,7,4,5,10,12,11,6,12,10,14,10,8,10,16,12,9,11,8,7,11,17,11,13,6,4,13,10,3,10,15,14,5,11,16,5,15,14,7,11,9,18,10,11,14,8,8,7,15,12,9,8,10,16,5,15,16,11,5,8,14,6,5,15,3,16,6,7,9,6,6,6,4,11,17,18,10,17,17,7,10,6,18,9,4,10,9,2,8,10,16,3,11,4,14,4,14,3,9,17,4,12,6,2,9,7,8,12,12,10,12,4,3,14,24,11,12,18,13,7,6,9,18,13,16,5,4,7,4,5,6,14,3,9,5,12,6,4,8,5,7,5,4,12,18,19,15,11,11,6,5,10,9,12,3,9,9,13,16,17,18,12,13,2,10,10,17,6,19,11,5,9,6,5,11,9,9,13,12,11,14,6,7,10,6,17,17,8,10,5,7,7,8,18,13,10,11,7,3,5,15,2,7,10,10,11,5,6,3,6,7,4,6,8,17,8,15,7,12,5,12,9,8,8,7,11,2,10,14,6,13,15,13,14,5,11,6,13,10,15,4,7,11,3,5,10,7,10,14,10,6,6,19,13,10,16,13,7,10,5,13,10,5,7,12,6,17,5,4,11,17,9,10,2,9,3,12,12,12,9,5,12,10,12,9,16,18,11,11,7,5,7,9,9,8,10,5,16,11,16,13,10,14,10,15,9,7,10,7,3,11,6,11,8,23,26,31,25,28,14,11,14,3,16,11,10,6,10,9,16,7,10,5,8,7,6,16,6,8,13,4,9,3,12,16,6,17,7,7,3,11,14,4,10,10,18,11,13,10,4,21,18,9,7,11,14,9,3,5,2,11,13,11,7,8,10,6,5,21,4,7,10,8,6,5,9,11,6,3,7,5,9,8,5,6,5,5,6,12,13,17,11,15,15,14,14,6,12,4,13,9,12,14,14,6,13,10,15,8,3,8,6,4,7,10,7,6,6,8,8,12,20,4,3,10,5,12,7,6,17,14,17,7,13,5,10,6,6,11,5,8,4,3,7,13,11,6,4,14,13,3,12,7,5,9,5,5,3,12,5,4,2,5,10,5,17,6,6,2,5,6,6,8,6,9,4,8,12,13,12,9,3,15,4,9,14,7,15,15,16,7,8,8,6,5,12,18,8,9,5,16,8,6,9,11,9,5,5,9,14,13,6,11,18,5,15,3,9,9,7,3,4,5,12,5,8,10,10,6,7,9,3,7,14,8,9,8,6,8,8,6,3,10,12,14,15,5,19,7,4,12,4,16,9,12,16,4,5,6,8,5,6,12,10,6,6,3,11,7,13,12,17,11,6,11,9,18,15,14,15,5,7,4,17,5,8,14,7,6,8,13,4,9,10,7,10,17,16,9,12,13,14,15,8,7,10,8,9,18,12,7,8,9,5,15,16,13,16,11,7,5,15,8,7,2,19,16,8,4,15,8,16,11,5,4,7,7,13,15,3,13,8,12,15,11,11,12,7,12,6,11,15,6,12,9,14,17,11,4,11,20,11,13,7,7,12,6,10,8,8,9,11,10,14,11,8,16,11,5,8,19,8,11,8,9,8,8,6,4,8,6,15,8,19,7,8,11,12,14,6,12,6,6,4,16,16,17,6,6,9,7,8,7,6,6,9,11,7,10,11,11,9,6,10,5,2,7,16,9,8,15,8,10,10,14,4,4,6,8,8,12,10,14,15,9,3,16,7,5,8,6,4,6,14,7,14,11,17,4,8,6,12,11,10,5,14,9,12,6,7,9,8,4,16,11,7,7,7,10,11,3,6,6,8,16,6,9,14,8,7,6,7,5,16,10,7,10,8,13,4,9,4,16,13,16,17,4,12,7,7,10,17,14,10,12,13,10,11,6,10,7,7,11,2,6,12,2,4,5,3,10,6,9,15,9,10,4,8,4,4,16,3,17,11,6,9,12,15,3,14,6,6,14,17,12,4,5,13,11,12,10,5,15,16,11,5,8,5,6,17,8,9,7,5,6,10,18,20,8,13,14,6,3,12,8,7,5,12,12,19,11,10,10,13,5,5,4,15,9,11,8,21,7,7,15,16,13,4,2,6,16,15,17,7,7,7,10,15,14,12,10,13,6,7,10,7,11,11,8,6,7,6,7,6,14,16,8,7,6,6,8,7,8,9,16,9,21,10,10,7,5,9,6,5,12,4,9,12,13,6,7,9,8,10,2,7,15,7,5,11,6,10,16,12,14,5,11,15,9,10,14,11,13,19,8,3,6,9,11,9,7,10,11,8,7,9,5,7,8,12,11,6,13,12,4,13,14,11,10,15,6,4,8,8,4,8,14,16,7,10,8,9,16,7,14,8,8,5,7,10,12,7,10,15,6,7,16,7,2,8,6,13,6,2,4,6,7,7,3,4,6,17,13,9,2,11,10,10,8,7,4,11,9,9,11,9,4,4,14,7,9,13,3,15,12,10,9,13,17,11,14,12,17,6,7,15,13,3,11,20,8,9,15,16,11,16,11,4,7,7,17,5,6,10,13,7,4,17,20,14,2,10,4,10,7,8,6,6,15,9,11,3,19,15,15,6,7,16,6,11,9,16,13,13,4,11,6,6,10,10,6,6,14,9,13,9,13,14,12,7,9,10,6,15,6,6,5,13,19,10,15,5,16,11,6,10,8,16,2,8,6,16,10,16,8,6,11,8,12,16,10,17,2,11,5,11,11,13,8,9,9,5,11,9,6,18,8,10,3,10,20,17,5,6,15,11,7,10,12,3,15,10,6,4,12,13,6,7,18,13,15,8,7,6,2,6,11,6,8,14,6,10,13,11,10,17,8,9,16,11,6,8,14,8,16,3,15,5,14,5,12,19,12,13,11,11,5,13,10,12,16,9,12,6,5,5,14,4,8,8,12,8,4,11,13,12,6,5,7,17,12,6,9,5,15,7,11,9,3,13,8,7,7,9,6,7,12,8,8,13,4,5,5,2,17,7,10,7,6,7,8,6,14,3,8,9,9,6,13,13,7,7,12,4,11,12,10,6,6,8,5,17,6,10,5,6,3,11,4,8,13,5,15,11,11,6,5,3,7,11,10,12,20,9,9,8,13,4,5,6,15,10,5,4,7,5,4,6,12,20,5,6,9,12,4,7,9,8,3,4,11,6,8,16,10,5,22,8,3,17,13,7,7,13,13,15,8,9,5,9,20,6,7,4,9,10,10,11,9,6,6,9,15,15,7,11,17,9,5,5,13,4,12,6,7,17,9,15,7,9,4,6,10,7,19,7,7,10,7,15,10,17,7,14,5,5,12,6,15,14,7,4,8,11,15,15,6,2,11,10,21,8,9,7,10,11,8,6,5,5,4,7,11,16,7,4,15,5,16,16,16,16,12,22,10,11,7,8,12,9,12,18,16,4,15,9,14,7,4,9,11,8,11,13,11,14,9,6,4,3,8,3,9,16,14,10,18,2,12,4,11,14,10,6,12,13,10,11,6,18,13,7,7,5,2,3,14,6,9,7,14,11,17,7,9,7,6,10,10,6,5,4,10,9,7,14,8,6,11,6,5,15,3,3,5,9,2,20,15,8,5,4,12,17,7,3,3,8,7,19,14,8,18,8,10,6,7,8,16,4,11,9,7,9,14,12,7,7,11,10,4,16,8,12,3,7,8,9,6,13,12,5,6,9,11,13,13,13,13,7,5,18,7,3,6,11,16,7,9,6,5,8,5,7,14,16,8,11,17,4,7,17,8,7,10,12,6,3,16,9,11,13,8,15,4,5,6,11,16,14,15,14,17,13,15,22,11,7,2,13,14,4,11,12,12,11,5,18,6,15,8,9,8,9,8,7,6,5,7,10,12,9,9,13,3,13,4,15,3,7,14,7,10,15,13,5,6,19,8,5,5,12,10,6,8,10,7,7,6,8,10,15,7,9,16,12,11,7,9,5,10,16,15,6,7,13,10,13,10,12,5,17,17,5,14,9,9,10,8,9,9,9,9,6,9,6,7,4,5,4,6,19,7,5,6,13,20,24,26,7,14,8,15,6,15,4,9,13,9,17,10,5,8,9,6,9,12,16,13,4,17,7,10,13,17,6,9,12,7,8,8,13,6,10,15,8,12,12,42,4,13,2,7,12,8,7,12,13,6,15,14,8,6,15,10,22,8,5,9,5,8,2,12,7,9,7,8,8,5,7,16,6,12,8,18,10,19,7,1,7,3,10,13,13,8,12,9,11,11,5,4,12,10,5,12,11,10,12,10,5,3,4,11,17,9,18,11,7,6,14,14,25,18,5,11,9,5,12,6,6,4,6,14,10,3,3,6,5,9,8,16,11,19,10,6,12,4,6,7,12,9,9,7,2,7,4,7,9,4,8,4,6,8,6,9,8,6,11,14,18,12,7,9,13,17,4,16,4,5,13,3,8,11,9,8,13,6,11,12,8,4,7,10,11,8,10,11,5,10,6,19,13,8,11,4,10,5,13,13,13,5,6,6,6,12,7,8,5,15,16,8,11,3,9,5,5,12,12,9,10,12,4,8,5,10,7,7,8,9,8,11,12,8,14,11,10,7,15,11,17,15,9,6,6,11,8,4,8,3,20,10,18,6,6,7,9,6,4,17,8,12,4,10,16,14,13,7,9,8,11,8,12,6,10,11,15,16,9,3,11,3,4,8,7,18,8,12,8,4,6,3,4,7,13,9,10,4,11,16,13,6,3,11,8,16,7,12,17,10,14,6,21,4,4,12,5,9,4,4,9,7,7,6,11,6,6,6,12,5,13,9,8,6,14,6,14,2,3,9,14,16,9,11,4,7,13,5,7,9,10,10,12,11,10,9,10,6,14,7,2,7,17,19,7,12,10,5,13,11,9,11,10,2,2,3,19,8,12,4,6,6,10,6,4,4,5,7,4,4,12,7,2,6,12,12,17,10,9,11,6,8,7,9,3,8,13,5,13,7,2,6,11,7,8,7,6,9,3,7,5,4,7,10,10,14,7,5,12,5,16,5,15,17,14,18,6,13,5,7,21,8,11,4,4,10,5,6,10,9,6,2,11,12,6,16,14,13,8,5,8,7,9,11,15,6,11,13,8,15,8,6,11,3,8,7,5,15,13,13,8,5,5,7,7,10,7,8,15,12,16,20,7,3,5,6,10,4,7,13,10,9,8,18,12,10,13,7,6,5,8,3,3,16,5,20,6,3,8,9,13,12,6,12,17,11,13,3,13,10,5,11,31,3,9,60,39,59,15,6,15,11,4,9,10,16,14,6,15,5,15,14,4,8,11,9,7,14,12,9,16,16,23,6,8,14,8,14,5,9,5,7,11,9,14,4,13,14,8,10,9,11,6,6,5,3,5,3,11,6,13,8,5,12,9,9,6,12,4,11,9,10,8,3,4,7,6,13,11,6,6,9,6,5,7,5,9,7,5,13,6,14,5,11,7,5,7,5,11,7,14,4,9,11,8,3,11,12,10,11,7,14,13,3,4,14,14,10,15,6,9,15,7,11,6,5,10,4,6,5,6,13,9,10,5,6,14,5,13,5,10,11,7,5,14,10,4,5,6,8,14,9,8,6,4,16,5,16,17,17,17,10,11,7,5,11,12,9,12,10,9,7,10,12,18,5,12,9,18,4,6,10,10,7,3,13,4,13,19,4,5,13,12,2,6,7,7,17,10,11,9,9,7,8,11,4,5,5,5,12,2,6,9,6,17,3,6,14,5,6,8,11,13,18,7,11,12,8,7,8,8,9,7,7,5,4,5,9,6,4,7,3,16,9,5,14,7,8,6,4,12,13,7,11,6,8,5,7,4,11,6,15,3,3,3,11,6,3,6,5,14,8,7,6,8,11,10,4,14,11,18,9,9,8,5,15,6,5,11,10,9,9,12,3,11,10,13,12,16,14,14,6,17,7,21,14,7,6,10,14,8,15,4,7,6,10,8,6,10,10,7,14,9,7,7,9,3,7,4,5,8,6,8,6,11,8,16,8,8,2,7,7,6,7,11,14,15,12,5,15,9,9,4,7,9,6,12,12,7,10,4,6,6,4,10,4,3,12,11,12,8,9,3,6,8,15,5,5,4,9,9,13,4,10,12,16,7,5,6,4,7,16,20,16,13,16,16,4,3,10,6,19,6,9,7,8,8,7,17,8,6,8,15,17,4,4,10,13,8,5,8,11,4,10,7,7,15,8,6,20,11,6,11,5,4,11,12,8,16,9,10,12,5,5,13,17,7,5,4,10,6,9,8,15,21,6,7,10,9,5,2,2,6,7,14,5,8,7,5,8,9,11,16,13,3,15,4,9,2,8,11,14,10,6,8,5,5,6,14,10,11,12,6,7,9,16,9,9,3,12,5,12,11,8,29,5,6,5,11,7,5,13,7,18,6,15,9,9,10,16,6,7,11,12,5,3,14,5,13,10,5,8,11,4,8,6,9,7,15,10,8,6,14,11,8,16,2,13,7,9,15,8,4,11,3,8,11,13,7,2,15,14,8,10,7,8,5,15,10,11,5,7,9,15,4,7,9,9,16,17,9,13,15,5,8,8,10,5,16,8,5,8,15,10,7,10,10,12,12,6,11,12,6,5,10,15,9,4,19,6,14,6,7,16,9,7,15,7,12,3,4,4,11,6,6,13,5,8,4,4,12,16,16,11,10,10,5,6,8,3,7,5,3,10,6,5,5,7,17,14,7,12,4,8,6,13,12,15,10,8,5,9,7,7,6,5,8,5,22,6,8,8,11,14,15,4,11,8,6,4,4,7,4,14,8,7,6,12,5,4,5,4,15,8,7,5,5,8,10,3,6,6,14,15,11,4,7,11,11,11,11,6,5,11,5,11,11,7,11,8,10,15,11,15,7,3,10,16,11,14,19,3,5,5,5,10,6,12,8,4,9,8,4,11,4,16,11,5,3,6,9,8,5,5,9,10,8,11,13,8,10,4,9,4,6,5,6,6,9,7,6,10,8,3,5,7,4,5,5,9,7,8,14,4,11,7,16,6,12,9,15,21,15,14,7,10,7,7,8,12,11,15,6,12,14,4,17,8,13,11,11,13,13,6,10,13,11,11,10,10,10,12,17,9,4,7,7,9,6,6,4,10,3,10,13,4,9,8,13,18,7,19,10,5,9,8,12,11,8,4,10,10,8,4,13,5,12,13,3,4,8,8,18,10,8,6,6,18,1,12,3,14,10,11,7,5,6,4,10,4,6,6,6,13,10,7,9,6,12,10,15,5,11,13,12,9,17,21,13,6,12,6,7,10,4,10,7,4,11,9,10,9,9,6,20,16,7,19,15,16,15,4,10,12,8,15,6,5,15,7,7,6,14,4,5,3,13,7,9,9,7,10,14,12,4,14,11,17,15,9,18,6,11,4,5,7,11,10,13,7,8,3,4,13,7,11,13,5,12,8,12,2,11,15,5,16,10,6,8,7,4,16,11,8,11,15,12,19,13,12,11,8,7,9,8,9,8,14,8,7,8,5,3,6,10,10,6,9,12,10,16,4,6,8,16,12,6,7,7,9,6,4,3,12,14,12,5,12,4,6,4,3,7,4,11,14,20,14,4,8,5,10,6,7,2,16,11,3,15,21,9,6,4,10,16,5,9,7,13,5,6,8,6,8,22,16,6,8,11,10,4,13,6,5,7,15,12,15,12,6,7,6,8,12,10,18,13,7,7,5,9,7,7,11,5,9,21,6,16,21,8,13,11,12,5,8,11,2,4,6,5,2,9,8,8,19,4,6,10,15,15,10,8,22,4,12,5,4,11,7,11,8,6,18,13,6,8,15,5,11,10,10,10,10,10,8,11,4,11,8,4,18,7,7,4,8,12,15,7,10,12,5,13,11,11,9,5,10,10,4,19,16,15,15,6,12,4,6,5,10,8,14,13,10,5,9,16,15,17,5,17,16,5,12,10,12,6,7,3,7,11,15,16,16,7,1,6,9,11,11,5,6,13,12,12,11,14,8,7,7,11,18,6,4,15,12,3,8,10,13,13,12,11,6,6,8,14,7,22,17,8,4,11,6,17,13,4,10,9,13,12,14,5,24,7,4,11,10,11,4,9,8,5,14,6,5,10,17,11,7,6,13,6,10,13,13,16,9,10,8,8,11,14,15,11,11,11,12,9,8,10,13,10,8,5,2,7,7,9,12,4,8,4,16,8,11,4,20,5,6,20,11,6,11,7,13,9,8,11,5,8,6,8,5,3,6,8,11,9,7,15,13,6,9,21,4,15,4,15,10,8,8,7,5,6,18,8,8,6,6,8,13,1,11,13,4,16,9,16,4,7,5,5,8,4,7,5,9,17,10,12,12,5,9,10,8,16,20,6,9,11,7,5,6,15,8,7,3,8,12,12,14,13,4,7,7,17,7,8,7,7,6,13,12,5,17,11,2,8,3,7,4,5,22,13,11,8,10,10,10,6,13,10,12,9,11,9,9,17,4,10,8,7,4,4,12,16,7,14,16,11,13,15,3,15,14,6,6,5,8,6,5,10,8,17,9,11,9,10,7,9,13,16,7,8,16,12,4,12,13,7,14,4,10,10,8,9,15,15,13,7,14,12,13,13,9,16,8,4,15,3,16,5,9,7,14,12,21,8,10,5,3,6,8,8,7,7,8,5,14,9,10,7,6,14,14,8,9,4,10,9,5,12,4,7,16,5,12,9,9,10,9,7,8,9,9,13,3,14,5,15,13,4,2,14,4,14,8,14,16,11,15,13,9,6,2,8,12,9,7,8,5,9,12,5,7,8,4,8,7,7,9,9,7,11,6,9,9,11,8,11,7,5,4,14,43,9,11,6,4,14,4,5,7,7,6,7,8,5,11,5,14,12,3,6,12,13,10,7,4,12,11,20,4,17,5,10,3,6,8,9,6,2,6,16,9,6,12,5,11,6,12,5,12,11,11,11,11,6,7,10,10,5,15,8,10,17,5,6,10,7,15,17,6,5,14,9,5,9,9,10,10,10,16,10,17,10,2,13,7,4,12,9,5,10,10,3,12,9,10,3,7,5,11,15,17,7,5,3,2,8,6,8,7,11,5,4,20,7,8,11,16,3,17,10,7,18,13,6,9,8,6,5,11,11,4,11,10,6,5,11,15,8,15,6,7,9,6,13,7,15,3,6,5,10,7,4,7,18,3,5,12,13,6,12,16,3,8,14,10,6,3,13,12,12,10,6,4,15,13,5,4,20,4,8,5,5,12,15,11,3,4,5,8,17,8,11,6,7,8,16,12,9,9,5,6,3,18,13,9,7,6,10,10,15,11,8,8,7,15,12,14,7,7,6,5,15,9,11,4,12,10,6,8,9,7,4,10,12,11,12,4,15,6,6,5,7,6,4,10,3,15,7,5,16,4,8,13,13,11,6,17,13,6,5,5,13,7,9,5,12,16,7,5,4,17,5,7,8,10,9,13,14,11,15,7,5,14,3,8,3,5,9,8,15,15,6,7,6,5,10,13,10,12,13,15,12,6,2,10,9,1,11,16,7,6,15,14,3,7,17,13,6,6,13,12,6,11,9,2,11,9,9,8,9,11,6,13,8,12,7,14,13,12,4,15,11,9,8,16,5,16,13,21,7,7,10,4,8,17,14,11,13,4,12,4,11,11,7,5,6,5,8,6,17,16,3,6,3,6,9,11,7,7,9,13,11,14,12,7,15,15,9,9,9,4,12,22,7,16,13,14,7,12,7,5,7,7,11,13,20,7,10,7,10,9,6,7,7,11,11,9,16,7,16,8,23,15,9,11,11,10,4,9,8,16,9,9,7,10,10,26,25,26,20,24,32,4,12,4,7,4,11,13,8,3,7,9,16,7,5,8,15,10,12,9,16,9,13,7,3,3,13,9,9,7,10,5,5,7,12,18,10,6,12,5,7,7,13,12,5,13,8,11,8,9,4,14,10,6,14,14,14,16,14,15,4,4,11,11,10,10,9,11,6,18,6,11,3,5,15,15,6,5,10,3,9,14,10,10,8,4,3,13,11,7,7,4,11,14,8,7,10,11,17,9,9,9,17,19,8,17,6,6,5,4,11,9,12,11,5,5,4,8,6,19,5,4,9,10,7,5,11,5,8,12,8,6,4,10,4,4,8,11,12,14,8,8,11,4,12,11,7,11,10,10,11,7,4,7,8,13,6,11,15,11,10,5,13,11,5,5,6,5,16,11,9,8,5,6,17,13,6,16,6,17,15,9,10,6,9,5,19,7,3,8,10,7,9,6,7,17,7,3,10,17,11,8,7,11,16,9,9,8,20,12,6,8,12,9,18,16,15,5,8,12,3,5,5,18,8,21,5,3,6,9,10,5,9,4,11,13,15,7,10,6,4,7,12,4,12,15,4,8,12,8,10,6,16,17,25,14,10,10,16,7,8,5,12,4,8,11,7,9,5,5,9,7,5,10,21,5,5,6,14,8,13,14,13,4,9,1,9,5,9,8,14,10,3,9,4,12,17,7,6,6,12,3,4,13,10,7,8,15,6,9,9,12,14,6,13,4,15,16,12,16,6,13,7,5,14,6,5,6,15,3,10,10,14,8,4,7,6,11,8,17,12,11,5,6,12,10,9,7,12,8,15,5,13,5,10,8,19,6,15,10,7,9,8,3,4,11,7,16,17,12,3,8,22,7,8,15,5,13,12,10,5,7,14,11,9,10,6,5,16,8,7,6,9,9,12,8,7,10,6,17,5,16,16,6,3,10,2,4,9,13,6,2,11,12,10,6,14,5,7,14,7,4,9,13,15,14,16,7,21,4,10,8,6,18,10,7,14,19,11,7,6,6,8,5,5,12,13,6,11,3,5,10,19,4,9,3,3,9,11,10,9,11,5,12,4,18,4,5,15,9,10,10,8,12,13,14,13,10,15,7,10,7,3,7,6,5,6,11,13,14,3,3,12,9,13,7,12,10,3,10,16,7,19,10,6,14,9,9,20,17,5,7,5,18,14,11,16,13,10,9,14,8,16,9,5,3,8,11,17,8,7,7,8,7,12,13,8,13,14,15,7,15,7,7,15,10,3,8,12,14,22,13,16,10,13,14,13,13,18,11,7,9,4,5,6,6,7,11,10,16,9,7,15,9,15,4,11,5,8,4,6,3,13,8,7,15,8,14,21,11,7,4,14,3,10,8,10,8,7,10,8,6,10,6,12,5,15,5,13,15,7,18,12,16,8,7,7,9,11,3,10,16,7,13,6,11,12,13,5,6,16,14,7,10,16,6,7,14,15,10,16,13,10,14,5,10,10,17,6,8,12,15,11,7,9,11,2,17,9,4,10,8,7,6,5,2,8,10,10,11,12,14,13,13,19,16,11,10,5,14,7,9,7,9,14,4,12,10,8,8,5,6,8,7,8,5,15,12,10,8,11,6,4,5,5,6,7,13,4,10,12,10,8,5,7,9,6,15,11,13,8,14,8,9,7,11,4,7,10,18,10,9,11,9,8,13,8,14,19,9,11,7,3,4,6,14,6,7,8,3,9,7,11,9,6,9,8,14,8,12,13,9,7,15,13,9,10,4,14,4,14,3,11,8,8,6,9,3,2,19,18,5,10,13,13,10,4,6,7,8,5,10,11,7,8,4,9,14,4,9,4,13,8,4,12,16,16,6,15,9,8,14,10,14,3,3,5,5,4,13,17,18,10,14,22,4,5,7,11,19,4,14,14,12,5,9,4,15,8,8,3,10,3,18,19,15,17,8,8,5,17,10,3,11,6,5,4,4,10,8,7,11,9,14,14,16,16,17,6,17,19,4,11,7,6,8,9,10,12,10,12,8,11,11,14,13,9,7,5,8,6,14,9,10,10,11,13,8,5,16,8,7,7,7,17,9,13,11,5,9,13,5,18,12,9,16,12,14,14,8,16,5,15,14,4,7,16,15,12,7,9,6,13,11,12,2,2,13,13,8,12,10,12,3,4,9,7,16,6,8,9,17,8,7,10,8,11,13,10,12,13,13,5,9,13,15,3,4,15,16,12,5,11,6,6,11,8,16,3,9,5,10,8,6,8,11,6,13,17,6,6,3,8,10,13,6,8,5,3,4,12,10,11,6,7,6,15,17,5,9,13,12,4,6,7,15,5,10,6,7,4,5,14,5,12,14,17,9,13,9,9,7,14,12,6,3,13,19,14,9,6,5,9,11,14,6,9,2,10,14,12,11,6,5,12,5,5,7,8,4,7,18,13,11,8,12,7,15,10,9,15,7,20,13,15,11,11,5,10,17,9,10,5,7,11,14,4,4,15,13,9,6,7,12,7,9,5,11,11,9,7,1,6,9,8,3,4,7,9,5,12,10,10,10,10,16,9,11,14,6,6,14,7,6,20,9,3,14,10,6,10,9,14,6,6,8,9,10,12,5,2,8,6,9,17,11,9,8,7,8,14,4,4,7,12,21,26,18,11,12,4,8,9,9,11,7,6,7,5,6,9,7,4,6,6,10,18,16,9,10,7,10,5,5,10,12,4,6,2,16,11,5,5,14,4,9,7,21,14,5,7,15,5,10,8,8,14,14,10,13,13,7,6,12,15,6,4,10,16,6,7,6,7,8,5,14,10,7,10,15,10,4,13,13,7,9,10,9,6,7,16,10,12,6,10,9,7,6,2,14,11,6,18,12,13,6,2,14,5,4,9,7,11,17,9,16,15,6,11,7,8,2,7,5,11,10,4,6,8,13,9,13,12,9,13,3,12,9,7,10,7,14,6,4,2,12,7,6,3,9,15,7,16,8,6,5,8,15,14,4,7,4,10,4,7,13,7,9,12,13,13,15,6,12,5,3,7,7,13,4,12,8,17,10,12,6,8,10,11,13,6,8,3,12,12,17,13,12,7,14,4,6,5,7,10,7,15,5,13,4,19,7,8,7,17,8,11,18,13,5,13,5,18,6,3,4,5,9,3,4,11,5,8,16,1,3,7,6,11,13,2,8,6,5,12,13,13,5,14,7,12,3,14,6,4,11,21,8,15,6,15,8,10,17,10,17,16,4,11,13,5,5,10,5,8,5,7,5,6,4,6,6,10,10,4,5,8,13,5,9,5,9,7,14,15,10,16,10,4,12,8,4,9,22,4,5,5,13,7,14,14,2,3,2,13,13,5,6,7,7,8,5,5,4,11,7,6,7,4,9,16,8,10,6,2,6,8,7,5,11,7,13,9,5,17,18,9,7,4,12,13,4,6,9,11,10,12,3,18,9,9,12,19,10,15,5,16,4,10,7,12,11,17,7,4,7,8,16,5,3,10,7,9,14,9,10,15,9,6,7,17,14,6,3,12,3,10,6,11,8,5,5,3,8,7,4,6,4,7,7,8,13,10,13,7,9,4,3,6,7,3,9,14,5,3,9,8,17,5,2,9,6,29,8,6,17,10,3,13,8,13,11,14,14,8,8,8,11,8,2,7,11,5,6,16,14,16,9,4,9,16,15,15,11,11,21,9,11,15,11,10,4,4,10,7,19,8,18,17,11,7,6,2,8,7,7,3,17,8,12,7,9,16,17,12,3,8,9,10,10,4,13,12,13,7,5,8,9,8,5,10,12,6,7,5,19,2,5,8,4,9,16,7,7,12,5,4,7,7,7,11,4,5,4,15,13,7,13,11,4,11,11,5,11,9,9,10,7,5,11,4,12,10,8,7,4,7,14,5,9,13,15,14,5,5,13,17,15,7,10,11,12,3,12,7,60,36,24,60,13,3,14,4,7,9,15,7,4,8,9,5,7,14,4,6,6,8,7,8,5,10,14,10,10,14,5,14,17,4,8,15,4,4,6,13,4,8,11,8,11,11,8,6,15,5,16,8,14,10,11,8,7,8,5,10,7,8,10,15,10,13,15,11,10,9,12,12,6,6,5,17,7,6,5,6,9,14,16,9,15,11,5,13,8,4,9,5,5,10,8,11,6,13,15,10,10,11,11,9,12,3,10,12,9,36,12,8,8,6,13,17,4,6,4,7,6,5,5,3,3,18,15,4,5,10,16,6,14,10,4,6,13,7,14,4,5,8,16,13,9,5,7,6,9,14,12,10,10,10,7,7,12,7,8,9,12,11,13,10,6,4,11,9,6,5,17,7,6,11,10,8,7,8,13,9,8,5,6,15,4,11,14,10,15,12,10,10,4,3,12,13,13,5,4,10,11,7,13,34,8,10,10,17,4,7,17,17,4,9,5,11,6,15,13,17,11,13,15,14,14,10,8,11,7,8,11,9,15,59,10,10,5,19,2,16,11,15,7,4,14,11,15,8,11,6,10,9,7,11,7,8,16,3,5,9,13,4,9,10,6,12,6,14,23,5,3,5,7,10,5,7,12,3,1,10,9,17,10,16,3,15,3,5,5,9,5,16,5,4,21,10,19,16,9,6,31,14,14,2,5,12,5,5,12,7,11,6,14,7,16,9,15,5,14,8,7,4,13,6,13,24,8,7,12,16,10,12,14,11,4,11,9,7,15,9,6,4,5,9,6,15,6,8,5,12,14,4,14,12,8,10,9,8,7,12,3,14,16,5,13,21,5,8,13,8,5,14,20,8,12,7,4,5,9,9,14,2,12,9,16,6,4,11,22,8,13,7,15,17,19,8,9,12,13,8,12,8,9,11,5,7,14,16,15,6,15,4,3,4,6,11,6,5,14,17,9,6,6,16,9,16,17,5,20,12,13,14,5,9,6,7,10,6,7,15,9,8,4,13,5,6,16,17,7,7,8,9,10,5,5,5,4,4,6,5,4,3,7,7,3,9,4,16,8,10,3,29,20,9,5,8,13,14,6,16,4,13,6,6,12,5,11,11,9,11,8,8,11,7,17,5,12,8,11,4,3,19,7,15,10,6,4,7,13,11,9,18,5,7,15,11,10,9,8,14,4,5,7,7,4,6,12,5,17,6,8,6,5,11,8,8,17,10,16,7,3,9,5,8,14,10,8,15,12,7,8,3,13,5,6,2,10,11,7,6,6,13,21,8,14,5,7,1,13,5,7,8,4,19,20,10,10,11,11,9,16,2,9,8,8,12,16,9,7,7,12,7,12,14,6,12,12,14,15,9,14,3,6,12,11,8,15,9,10,8,4,7,5,8,13,11,17,10,5,7,6,8,4,5,8,14,17,14,18,11,10,4,10,12,7,13,9,15,9,6,11,7,6,3,7,5,6,7,6,10,12,12,8,9,8,5,6,9,6,9,7,11,19,8,11,9,7,12,6,7,6,15,11,7,15,12,11,11,9,6,16,8,9,19,8,10,16,5,4,9,5,17,8,7,2,8,15,5,10,13,7,12,11,9,5,12,15,7,13,12,10,14,6,11,4,5,7,6,7,7,15,9,18,7,2,5,3,14,7,11,7,13,10,11,11,14,5,5,7,6,6,7,7,9,9,11,3,6,8,3,4,13,11,6,7,12,11,4,4,6,14,6,14,5,6,5,16,10,6,12,19,5,11,11,5,17,9,13,6,4,5,5,13,10,6,11,3,10,3,6,5,9,15,6,4,14,10,11,3,9,6,15,15,16,7,8,20,17,8,8,3,15,13,8,4,15,11,10,17,11,13,5,10,11,6,6,7,8,10,15,2,12,7,18,6,6,4,18,8,4,12,4,14,11,3,11,5,8,7,8,15,11,15,8,10,9,11,18,11,12,16,8,27,9,12,8,8,10,9,3,10,7,7,10,4,9,9,10,7,6,14,7,4,13,9,11,9,17,16,3,12,7,2,4,8,9,9,12,11,11,10,4,4,9,15,13,17,5,4,5,4,22,6,13,14,19,12,11,7,4,9,6,15,13,7,18,6,11,11,9,6,6,11,6,9,11,6,6,13,9,11,15,7,11,6,15,17,10,8,17,9,10,9,10,13,12,8,10,6,15,5,9,11,5,8,13,5,5,7,11,11,7,9,3,3,5,8,3,5,3,14,5,9,9,12,13,8,9,9,6,15,10,12,12,12,3,7,9,5,4,9,9,14,5,3,10,7,15,9,10,10,11,13,10,10,5,5,9,13,4,4,7,13,9,12,5,10,11,6,12,10,8,9,10,9,3,4,5,8,14,4,15,11,11,6,8,6,8,5,5,14,20,17,13,14,15,11,11,12,9,8,12,11,9,26,13,2,4,5,11,10,9,14,11,9,14,18,13,14,16,9,3,4,8,5,9,11,5,4,14,7,9,10,11,10,5,4,10,11,14,7,6,7,16,13,9,5,21,10,8,14,3,11,7,8,16,4,9,8,9,5,9,5,14,12,14,10,9,10,16,6,13,5,7,4,6,20,23,14,6,7,3,12,17,8,14,12,6,12,14,6,5,13,5,6,10,18,4,4,4,3,8,11,14,4,4,12,2,7,9,7,10,2,6,4,4,9,15,3,7,18,17,5,16,4,16,7,7,8,16,9,8,5,9,10,5,14,4,10,12,7,5,6,6,14,4,6,6,8,4,5,12,7,14,3,4,6,13,4,5,6,12,15,9,17,7,5,11,14,14,8,8,6,7,14,12,14,7,7,7,11,16,3,8,7,14,5,7,14,12,2,11,10,4,13,7,11,9,10,11,10,14,11,12,19,2,10,5,8,10,14,9,9,2,11,7,9,5,10,2,11,5,3,10,9,9,8,9,11,13,5,5,9,5,7,17,7,8,5,9,7,10,6,3,13,8,20,13,18,12,8,6,7,11,12,10,11,7,15,6,7,8,12,16,11,7,6,4,3,11,6,5,15,5,17,24,15,12,4,10,15,8,5,11,8,10,5,11,5,7,13,7,7,4,10,9,9,9,5,13,15,11,17,15,5,12,15,8,6,5,13,11,12,11,11,17,14,15,17,5,14,3,13,5,9,3,10,8,7,11,10,8,4,16,8,14,5,7,12,15,12,8,11,6,15,11,4,11,2,8,15,7,9,14,4,14,14,7,8,11,15,4,5,6,6,3,4,7,11,14,7,8,16,19,9,13,4,5,7,6,13,6,11,6,7,17,10,6,13,8,6,8,8,5,21,7,4,15,4,11,10,10,3,10,7,14,14,6,4,8,8,11,7,6,13,12,14,13,4,7,12,19,13,5,4,11,11,10,15,13,8,5,8,9,11,6,7,4,10,5,13,15,14,5,13,4,8,11,3,11,10,6,8,9,15,7,5,11,11,8,7,6,11,11,16,6,7,9,11,7,3,18,12,10,13,8,9,8,9,18,7,19,11,8,5,19,3,25,9,2,15,15,10,9,11,6,9,10,12,21,13,7,10,12,6,13,6,9,4,10,4,5,17,9,12,13,15,7,5,6,19,16,10,9,12,10,4,9,7,8,16,5,11,9,16,7,14,12,4,9,7,2,12,6,15,29,7,10,13,3,6,8,11,7,11,10,14,5,15,4,13,11,12,10,12,17,5,5,17,8,17,6,17,13,6,9,11,13,12,12,12,18,15,12,8,18,2,10,11,4,18,18,9,8,10,13,7,5,16,10,6,15,8,9,5,5,7,13,11,10,5,8,14,15,12,5,13,8,6,19,5,14,9,10,13,4,5,4,11,5,17,6,13,1,9,15,19,8,18,6,9,7,12,9,7,15,9,14,12,14,7,11,15,12,17,5,3,9,5,6,5,8,3,10,10,13,8,11,7,8,8,5,28,7,11,11,6,17,7,15,14,17,6,4,4,8,12,17,11,6,8,14,3,6,13,5,6,12,9,9,12,7,13,6,15,5,12,4,9,11,11,6,7,9,5,7,5,19,6,10,5,15,14,4,6,14,10,8,15,15,3,5,5,11,12,8,18,8,12,15,4,14,6,11,5,8,12,7,8,8,11,6,8,10,7,12,4,14,5,11,15,5,6,14,8,4,4,10,9,7,11,6,16,9,18,3,4,7,14,6,10,8,10,18,7,8,7,10,5,3,7,17,5,13,4,9,13,5,3,4,9,14,15,18,19,15,5,16,14,4,6,16,5,9,3,2,6,11,4,5,4,7,14,13,4,11,9,5,5,14,4,8,7,9,7,8,7,14,8,12,16,4,18,12,12,5,7,11,7,7,10,6,8,6,17,5,7,9,19,3,7,6,16,10,17,7,5,9,9,16,19,13,11,4,3,15,8,11,6,7,9,22,14,15,5,15,8,15,8,5,15,11,11,10,13,15,3,10,9,14,2,6,13,11,7,20,5,4,17,5,8,10,8,11,4,3,5,7,16,11,6,8,3,16,11,10,10,7,4,12,13,8,5,4,9,9,14,4,6,11,6,8,5,5,5,7,12,12,16,7,16,6,10,11,7,12,7,16,6,7,8,11,2,12,11,10,7,11,11,5,13,3,6,13,14,8,11,9,15,4,10,6,6,6,7,15,13,6,15,6,9,7,6,7,15,13,6,6,4,7,7,19,10,6,15,15,6,4,4,15,7,12,16,8,9,6,7,7,5,5,8,7,16,8,15,6,13,15,15,15,6,8,11,12,5,9,10,6,7,11,4,10,6,9,10,6,9,13,10,14,14,9,19,10,9,19,8,13,10,14,7,12,7,8,18,6,7,5,16,3,28,6,11,9,3,3,8,9,4,11,7,9,11,3,2,5,11,16,2,4,7,7,3,6,6,11,4,11,6,8,2,9,11,4,9,12,8,11,18,16,5,12,23,10,22,7,13,15,12,13,7,17,16,10,8,14,10,7,11,11,8,13,6,6,13,8,16,15,12,8,9,6,11,6,7,11,3,4,11,11,5,11,12,7,12,17,6,7,5,8,11,13,8,5,12,6,10,9,6,7,11,5,7,7,13,15,9,10,8,14,4,11,6,7,13,13,4,9,8,5,12,3,5,7,10,5,6,10,9,16,6,16,11,7,11,13,13,13,7,2,14,18,17,9,7,3,11,10,12,10,6,14,6,10,10,7,8,15,13,13,17,10,14,19,14,13,7,9,23,11,5,8,12,7,8,16,6,15,4,17,16,8,6,16,9,8,9,9,11,4,6,15,7,11,15,18,11,4,31,9,4,6,2,11,9,5,5,7,15,8,13,2,15,8,15,3,20,9,13,11,6,9,13,17,6,5,7,12,10,5,5,15,5,6,17,5,12,10,13,11,10,6,12,2,11,6,10,8,7,11,6,5,4,9,9,5,14,9,3,25,9,8,4,6,5,6,7,10,14,5,6,5,6,9,19,5,17,7,12,9,11,2,9,17,12,11,12,17,9,5,5,5,7,6,5,16,15,8,9,7,9,7,4,11,12,14,9,7,10,6,9,13,2,12,9,7,9,4,18,10,18,12,9,8,9,11,12,5,9,10,14,6,13,8,6,13,9,6,16,14,9,12,9,11,10,18,21,4,9,11,11,13,12,12,8,7,9,8,9,5,5,10,9,11,8,10,6,12,10,10,4,12,13,21,8,16,5,7,7,4,12,10,5,11,4,20,11,11,5,2,5,20,11,15,10,4,14,12,6,5,4,14,10,7,7,11,10,5,7,11,5,4,9,4,7,9,4,7,8,3,11,18,8,11,7,12,5,4,7,11,14,9,13,12,5,7,5,7,4,7,21,6,8,9,6,10,4,9,10,12,6,11,8,14,7,10,7,8,9,8,6,11,5,13,17,4,3,6,8,6,16,4,2,6,11,3,6,17,7,15,11,17,10,9,10,8,12,11,5,5,4,8,3,15,9,11,9,2,6,13,7,20,17,3,14,9,13,9,5,10,12,16,11,14,9,6,8,8,16,7,9,7,8,8,8,3,6,7,9,7,7,3,9,7,2,14,10,7,5,9,14,14,6,6,11,9,8,8,6,10,14,19,5,11,11,17,6,4,15,16,8,10,5,16,13,9,15,17,12,2,5,8,12,7,9,11,6,3,4,15,8,13,14,3,13,4,12,4,10,13,11,9,11,7,7,4,16,13,5,8,12,7,9,6,17,12,7,8,5,12,5,12,15,3,11,12,12,16,5,15,7,9,4,4,11,9,7,7,7,14,2,11,14,15,17,8,8,6,5,8,3,19,21,5,15,10,14,14,17,2,6,14,6,5,6,6,5,17,13,8,9,14,11,8,8,3,15,15,5,15,9,11,9,8,19,7,11,5,7,5,27,11,12,13,14,10,11,7,7,10,9,5,9,10,7,8,4,11,7,9,19,17,11,8,19,4,9,6,11,9,6,11,13,10,7,13,8,5,12,6,16,8,14,4,5,8,5,6,11,9,14,14,14,14,12,14,10,17,12,5,7,6,8,4,14,6,7,13,12,10,9,6,13,10,19,14,4,7,12,11,7,10,8,6,17,3,5,6,6,4,13,12,4,17,11,5,14,15,7,13,11,7,9,11,9,7,7,8,11,13,20,11,7,9,10,20,15,8,17,5,4,12,12,4,12,13,16,3,12,23,12,10,14,8,3,8,31,4,12,8,14,12,5,13,6,5,9,8,8,15,8,7,13,8,10,17,8,19,4,13,4,5,5,4,14,8,7,5,4,17,2,14,10,8,9,10,3,14,19,6,9,17,5,12,4,15,7,8,7,8,12,9,17,6,12,10,13,7,21,8,13,6,3,2,3,19,8,5,8,7,8,11,5,7,15,6,7,2,13,5,11,10,16,9,10,15,6,9,3,6,9,14,15,14,9,16,8,8,6,4,12,4,11,4,8,11,11,7,15,12,11,7,18,7,16,2,16,11,6,22,13,6,16,13,18,7,10,15,7,8,17,12,3,8,16,9,13,14,13,6,9,18,11,3,4,8,13,11,6,5,12,5,3,6,11,7,11,6,7,2,5,3,14,10,15,8,7,10,7,10,3,8,12,4,19,10,10,11,16,10,14,15,16,13,7,5,10,13,4,14,8,6,8,6,7,6,5,6,10,11,7,13,16,10,5,6,6,7,5,4,5,13,13,13,3,15,15,6,17,15,12,8,5,4,6,16,6,11,10,17,7,4,12,11,8,5,5,10,10,12,16,4,6,12,7,7,4,11,11,20,11,11,11,5,5,11,5,6,3,14,11,10,8,6,10,11,7,8,5,4,8,7,9,17,9,14,10,9,12,9,7,8,10,14,10,7,8,9,8,10,6,15,8,18,8,9,6,6,4,11,12,8,8,3,17,10,5,6,5,17,10,6,16,5,14,8,11,18,15,11,6,6,18,11,11,8,7,7,11,12,9,13,16,6,15,6,7,16,14,6,9,4,12,12,5,6,12,6,12,13,4,11,11,13,9,6,13,5,8,5,12,8,14,3,3,5,16,13,14,7,7,12,4,11,8,9,8,13,5,14,8,17,13,6,6,6,9,10,15,15,10,6,8,13,10,8,6,16,8,8,21,23,6,12,13,11,16,7,6,4,13,10,9,10,11,5,6,6,14,9,5,5,16,4,13,8,7,15,9,8,12,7,4,12,16,7,7,6,9,11,3,6,8,10,3,8,6,9,12,11,3,4,9,7,6,16,14,16,11,5,5,10,12,8,9,6,3,6,4,10,8,10,11,14,12,11,6,9,13,2,13,5,6,14,11,9,7,10,10,13,8,5,7,16,8,3,11,12,10,5,12,5,14,7,16,7,21,12,7,11,13,4,6,5,7,4,6,10,12,3,9,4,5,3,8,9,8,5,11,4,18,12,4,15,4,11,11,11,7,4,5,14,13,11,7,13,7,12,19,16,12,15,8,7,11,17,9,6,5,14,14,4,17,6,14,2,5,8,6,15,14,14,10,14,4,9,4,10,8,3,15,14,3,15,4,10,11,5,12,10,7,18,14,7,12,14,7,10,12,17,10,9,12,14,13,7,8,5,11,23,6,16,11,6,10,5,8,5,10,6,4,3,6,10,9,6,7,5,4,5,7,13,16,5,12,6,5,15,16,7,7,5,9,5,6,11,17,6,10,14,6,12,7,4,11,10,2,5,4,18,9,14,16,11,9,13,6,7,9,16,15,14,14,7,11,13,9,14,11,13,2,23,11,8,13,4,3,7,9,9,5,4,3,4,5,4,5,16,16,11,12,12,14,12,7,6,7,17,14,5,8,8,5,9,13,9,8,16,15,14,9,14,16,6,4,6,13,8,12,15,9,13,5,6,15,3,4,19,12,12,14,9,10,19,10,7,8,6,11,11,12,7,15,13,4,8,3,14,11,6,6,6,4,6,7,9,8,11,9,3,10,15,13,3,8,9,11,6,10,4,4,9,6,5,12,6,12,13,7,8,14,17,17,13,5,5,16,8,7,10,6,7,6,12,6,7,14,4,13,10,14,17,15,9,5,13,18,4,16,9,20,8,11,11,4,7,5,4,4,7,9,8,8,7,12,15,15,7,11,13,7,11,9,11,11,11,8,14,8,5,8,8,10,8,8,11,14,15,4,11,12,14,10,15,10,7,2,2,17,8,5,5,6,15,7,5,6,2,4,7,8,3,4,11,9,4,9,13,4,3,11,5,17,6,10,11,15,9,5,13,7,12,9,11,11,5,10,6,4,12,17,3,15,8,10,14,5,17,3,9,7,10,7,10,12,10,6,6,10,12,5,14,20,13,14,4,9,6,10,9,11,11,4,16,6,4,8,7,10,5,2,15,5,4,11,14,8,17,8,7,16,11,11,17,11,8,8,13,5,7,6,8,6,7,13,7,16,18,8,12,8,14,11,14,4,13,14,12,10,2,8,7,22,7,7,9,6,10,8,13,14,16,4,8,15,13,8,8,13,9,3,10,6,6,8,8,14,20,12,5,6,16,5,11,6,6,3,9,8,7,11,14,9,12,20,15,10,15,4,11,5,8,14,2,10,10,8,7,10,10,5,7,4,13,16,7,17,11,17,8,9,8,14,10,11,9,13,7,4,16,7,6,21,7,6,8,7,5,5,7,7,8,6,7,7,8,7,7,10,6,15,19,8,6,5,18,14,7,9,7,6,5,11,5,13,7,7,12,7,6,9,10,4,7,9,16,10,5,9,15,14,10,13,14,6,6,4,6,6,5,10,8,9,9,9,8,13,11,17,7,14,9,6,6,10,3,9,12,7,5,17,9,14,7,9,9,5,6,7,17,7,13,9,10,10,11,5,6,8,14,11,6,7,15,12,12,8,8,8,9,12,12,11,7,11,7,7,10,7,4,12,8,17,10,7,12,14,3,10,7,10,5,13,11,11,15,10,3,15,6,7,11,11,9,9,12,3,7,6,7,7,12,9,7,8,12,9,16,15,10,14,19,16,12,7,16,16,6,5,11,10,10,13,8,11,20,5,5,7,6,5,5,9,6,6,16,12,2,5,11,2,13,17,5,17,7,10,6,7,5,17,7,8,11,14,17,7,3,8,8,18,9,15,9,6,10,18,13,8,6,8,9,8,9,12,8,14,4,8,2,14,15,11,8,7,16,5,12,5,11,13,12,5,6,4,9,2,12,12,10,15,4,11,6,12,9,8,7,12,4,4,6,8,15,10,6,17,8,10,4,4,16,7,8,4,3,19,13,5,11,7,11,5,14,7,10,14,9,11,12,2,6,5,14,13,5,7,10,14,17,14,13,13,12,16,18,11,16,8,12,4,10,9,4,11,7,5,5,6,18,15,15,7,5,2,7,14,7,7,6,17,14,8,9,8,5,21,12,9,9,9,8,7,11,16,5,10,8,5,5,18,5,5,5,16,12,8,10,2,15,14,9,9,5,8,11,9,9,9,15,9,8,13,14,10,17,9,16,11,5,13,12,12,6,12,6,9,10,15,6,9,5,11,6,10,14,7,9,13,10,17,8,10,9,10,6,22,11,13,18,16,7,9,12,10,3,4,8,11,14,7,3,10,8,12,7,5,8,16,8,9,12,9,4,7,6,15,5,7,15,14,10,4,11,15,3,11,5,13,12,18,7,16,9,12,11,5,5,17,12,5,8,21,6,6,19,6,10,3,9,10,13,10,16,10,12,7,11,2,5,14,8,13,5,13,6,5,11,2,7,17,12,14,6,5,14,9,9,5,12,18,13,12,9,12,15,9,4,13,6,16,8,5,16,8,6,11,29,16,15,12,13,12,9,9,5,11,10,8,6,10,5,6,5,10,10,7,8,8,15,12,10,10,9,6,17,6,8,7,9,10,12,7,5,7,3,11,15,10,10,13,12,3,10,2,5,13,13,18,5,7,11,6,5,14,8,7,12,5,9,5,6,5,10,13,5,11,18,7,8,6,8,2,3,12,12,14,7,6,4,16,25,10,4,5,20,4,18,4,4,4,20,4,15,15,12,4,9,5,10,10,9,15,7,10,5,3,10,16,14,4,6,2,15,9,15,9,9,12,14,9,4,12,8,9,11,11,8,5,29,20,13,7,9,7,11,4,15,15,6,16,4,12,5,11,14,10,7,12,5,7,12,13,8,8,7,5,11,11,10,12,8,7,7,4,5,17,7,16,10,12,3,6,8,8,11,7,3,11,4,8,15,7,6,7,6,10,8,6,14,12,16,20,5,14,5,7,5,5,18,10,7,14,7,7,14,7,6,14,9,12,3,8,3,8,12,17,4,7,12,17,6,8,7,7,12,9,9,20,4,3,4,5,7,5,11,5,2,10,12,12,11,6,5,8,9,11,2,8,11,9,6,15,9,5,3,16,10,15,6,7,18,12,14,6,6,11,6,10,13,4,13,13,17,5,13,9,19,9,6,4,11,9,10,11,6,11,9,10,10,12,14,5,6,11,5,17,12,11,5,16,11,13,5,7,6,8,10,12,10,6,10,6,6,11,9,4,13,9,6,18,11,21,4,10,8,3,6,9,14,6,17,8,5,14,11,11,6,14,4,8,5,11,6,11,7,9,12,9,3,5,15,10,22,12,8,11,7,17,6,12,6,8,12,18,19,12,17,4,6,5,10,11,4,10,4,10,12,10,5,7,5,11,9,5,8,11,10,11,6,15,14,14,13,6,11,3,18,15,10,5,12,9,12,9,11,8,3,12,2,4,9,8,10,10,10,4,8,16,11,9,12,3,15,6,6,10,10,10,9,15,18,11,5,14,21,12,10,7,1,10,10,9,12,5,11,9,7,12,13,5,4,10,6,8,9,7,7,9,18,5,7,16,10,5,15,12,6,5,16,6,9,10,8,15,8,6,4,7,15,14,6,6,8,5,6,10,13,15,16,11,10,4,7,6,6,2,15,14,5,10,19,11,8,13,6,8,17,6,8,5,4,4,6,9,7,4,3,4,5,9,5,15,9,4,15,6,12,9,5,14,7,13,4,9,15,5,8,7,10,7,6,9,14,7,5,8,10,6,5,15,11,7,8,5,6,3,17,12,9,12,10,12,5,6,8,3,13,12,10,7,4,8,7,5,14,5,5,4,11,12,19,7,14,7,10,6,8,8,7,12,15,14,20,3,5,5,7,14,12,3,12,2,6,10,4,8,9,7,13,4,9,10,7,7,5,9,5,14,16,9,18,7,7,8,10,6,15,10,9,9,4,6,10,3,11,4,8,5,8,11,5,16,14,11,16,11,8,9,12,3,12,5,12,2,9,12,17,6,5,6,5,8,15,11,7,10,17,10,14,13,12,13,17,7,9,14,8,7,9,7,6,10,12,6,7,8,12,7,8,9,13,11,4,9,10,2,10,8,6,15,14,17,12,6,8,3,3,4,6,4,10,8,7,12,10,9,10,6,15,11,10,8,7,16,9,5,8,9,9,5,6,10,9,13,12,15,7,7,7,8,13,11,10,9,8,16,6,25,9,11,13,13,10,7,18,10,5,6,7,9,9,7,10,4,12,8,17,11,6,7,10,14,8,14,14,7,5,14,9,5,9,6,9,15,4,13,12,8,9,4,11,9,10,3,10,9,12,8,9,5,4,15,7,9,16,6,5,6,9,10,8,11,6,12,9,9,12,44,5,10,13,9,7,6,6,3,7,9,14,7,14,6,7,11,14,4,5,11,13,9,10,10,4,5,10,3,7,10,11,13,14,14,11,2,8,6,7,10,16,8,10,8,6,11,7,6,13,5,12,8,4,11,10,5,9,6,3,14,8,13,4,7,10,9,11,9,13,10,9,2,15,6,7,6,15,8,17,8,6,4,8,9,4,15,7,13,20,13,5,8,9,20,8,12,12,10,7,3,12,4,12,14,9,11,5,6,12,10,14,9,9,10,9,10,7,15,10,16,13,7,13,9,9,10,4,14,5,7,11,10,6,16,10,10,6,9,12,8,9,9,7,11,9,9,12,8,9,9,6,10,7,7,6,8,6,12,8,5,16,13,15,2,13,15,6,7,4,16,10,9,14,4,8,6,8,9,14,15,8,10,7,21,10,15,6,5,4,10,14,11,12,5,12,6,12,6,9,14,8,9,12,9,12,3,11,3,3,10,10,9,9,14,15,8,13,6,7,12,5,11,17,8,12,12,9,10,13,4,2,14,5,11,4,4,5,7,2,5,5,7,12,8,5,9,3,6,5,16,9,25,13,8,11,11,8,8,15,8,14,3,12,6,3,8,11,7,8,13,11,14,3,6,9,3,12,13,8,14,5,6,11,4,6,15,5,12,5,8,14,9,10,11,6,10,9,17,11,15,5,10,10,11,17,18,8,5,20,8,7,5,6,12,9,9,7,7,26,11,14,7,15,6,12,10,7,6,16,17,6,19,8,6,7,8,6,5,13,8,8,17,9,9,5,9,9,11,5,6,7,12,7,12,10,7,12,5,15,4,9,7,4,13,6,6,5,11,12,11,11,13,14,15,7,17,16,7,6,10,6,6,10,6,11,10,7,6,12,5,17,15,15,13,17,7,10,7,7,14,6,7,11,4,4,9,2,7,19,16,13,9,7,9,4,8,15,3,4,8,12,8,13,9,14,10,7,4,10,10,4,7,6,7,10,3,13,12,14,11,16,9,9,3,18,6,5,14,9,19,13,15,9,16,11,11,4,9,7,5,9,3,12,5,11,12,15,10,5,18,4,8,23,13,8,5,9,7,10,13,8,14,9,13,5,4,4,13,5,5,6,6,5,9,9,5,11,14,7,6,20,16,11,10,13,11,6,14,8,7,20,19,9,5,8,16,15,10,13,15,4,11,6,7,5,11,10,7,6,17,9,12,17,12,6,9,14,18,4,12,13,8,11,9,9,16,7,14,4,4,4,5,3,15,13,17,17,8,10,8,5,4,6,19,4,6,8,10,6,4,7,11,5,4,6,14,8,13,2,5,10,7,8,17,5,10,5,15,6,6,18,10,13,5,9,11,10,7,14,12,13,6,7,7,7,11,3,14,3,7,9,14,8,9,9,10,8,11,9,7,9,14,5,7,14,11,10,9,7,9,9,18,14,13,14,7,7,12,12,9,10,8,6,4,10,11,10,5,8,8,13,3,8,10,14,6,14,10,8,6,6,13,13,13,6,7,10,9,8,7,10,9,4,7,9,15,7,10,4,16,7,6,11,8,5,10,10,11,3,7,3,15,2,9,11,13,3,12,8,9,13,15,10,13,12,6,11,3,13,7,5,4,10,7,10,2,14,13,14,10,9,8,3,5,11,17,5,15,9,5,15,13,6,11,11,10,6,3,6,6,5,7,6,11,6,5,13,9,13,11,5,7,5,2,6,15,10,11,9,7,7,4,7,5,5,24,16,8,17,5,17,7,5,12,8,2,13,7,9,15,5,14,10,5,4,16,8,10,10,13,8,6,17,18,6,9,14,6,4,6,7,9,7,13,11,7,6,7,3,10,6,6,18,8,11,6,10,11,4,13,12,5,12,16,14,6,6,5,17,10,9,9,6,14,29,6,6,16,10,9,9,16,11,9,6,11,12,3,10,9,8,10,6,9,10,4,7,16,17,13,27,11,4,2,6,3,9,13,13,7,3,8,5,7,12,10,11,13,12,18,17,5,17,10,17,9,10,7,16,14,8,18,5,12,9,9,5,15,4,8,15,8,15,12,8,12,5,6,9,10,14,7,4,8,10,9,13,15,7,15,16,5,16,5,8,12,13,6,9,13,8,6,11,7,16,9,11,6,4,16,14,20,2,12,12,7,7,13,11,9,6,12,7,6,9,5,13,6,5,9,10,16,15,16,10,15,10,9,9,3,5,15,2,15,19,7,8,8,12,9,8,5,19,5,10,10,18,15,5,6,16,7,7,3,5,9,12,13,9,5,15,9,15,12,13,13,15,7,8,11,4,3,9,13,23,8,11,7,19,13,4,9,4,8,6,10,12,8,6,8,11,6,8,18,5,6,2,10,13,7,8,4,3,12,6,12,15,6,14,8,16,5,4,14,9,6,10,8,15,7,10,6,6,15,4,16,16,2,2,4,10,11,8,1,5,20,16,9,4,5,14,20,7,7,12,13,7,8,11,8,9,8,11,6,15,6,7,8,16,9,11,7,6,5,10,18,1,14,14,8,6,6,11,24,8,4,10,4,5,6,18,14,10,13,6,6,18,17,13,15,8,10,6,8,6,10,15,4,12,18,7,11,17,5,5,5,2,9,9,9,9,6,7,6,19,19,11,9,5,6,7,16,18,6,5,8,15,2,5,18,8,12,14,14,7,6,9,8,10,9,5,10,7,4,6,7,9,11,13,12,9,11,7,7,13,8,9,10,5,6,1,7,3,10,7,15,3,16,13,10,10,14,13,14,5,9,10,18,8,4,5,5,5,3,13,13,9,5,8,14,2,15,6,6,9,11,10,10,10,5,4,7,4,6,6,9,8,3,9,6,11,12,17,14,12,3,12,11,17,9,9,3,7,15,5,13,3,3,11,7,4,11,6,11,6,23,6,12,6,16,5,11,3,11,17,17,10,15,10,14,17,7,10,17,7,4,10,5,13,16,14,4,5,16,15,12,11,7,8,13,9,13,6,14,11,3,11,14,2,9,10,15,6,6,10,4,17,4,9,11,5,14,14,3,14,6,9,9,16,8,9,1,12,11,9,8,6,10,7,4,11,11,6,8,12,10,10,19,21,15,3,7,9,10,5,7,4,16,5,6,10,7,7,7,9,4,11,15,8,15,6,13,10,15,2,5,15,12,6,14,5,19,4,8,10,13,14,7,15,14,18,11,14,7,6,4,6,9,7,18,9,17,10,8,10,9,6,8,8,11,14,12,14,9,9,6,5,3,14,4,6,6,6,14,12,13,8,7,11,15,10,7,17,9,2,6,7,3,18,11,4,7,6,4,5,13,7,11,3,6,6,12,13,12,10,7,4,7,4,15,9,6,6,6,8,10,7,11,6,9,7,7,6,5,14,16,9,11,7,11,12,4,4,4,4,10,8,12,6,13,14,7,9,9,7,11,6,6,9,9,18,3,8,3,15,8,10,9,10,4,7,8,7,13,13,3,5,11,14,11,2,6,3,18,9,12,6,10,11,8,15,15,7,4,4,8,6,10,12,9,10,20,13,5,15,16,8,7,14,5,20,3,11,10,12,8,6,13,13,9,23,3,14,11,6,8,11,15,10,10,3,16,4,12,4,10,8,6,13,16,18,5,9,13,9,24,18,14,8,9,8,4,10,14,7,8,4,6,4,7,8,11,4,13,8,14,28,6,8,9,3,12,11,11,14,9,13,4,5,9,5,11,15,10,14,6,13,15,9,19,17,9,4,7,15,10,15,10,4,4,12,4,12,8,8,6,6,9,4,6,4,7,17,4,9,10,11,7,6,5,14,8,6,8,3,6,8,8,17,10,11,13,8,4,5,10,8,8,15,11,9,13,12,5,5,8,11,2,3,4,5,9,9,5,7,5,8,15,11,5,9,12,5,16,12,8,10,7,11,8,16,16,13,7,12,12,11,13,9,7,6,6,6,6,4,14,13,8,12,15,12,4,4,4,5,6,6,6,12,18,11,9,9,7,15,15,9,4,11,7,9,18,7,9,8,10,12,14,12,16,7,8,13,8,6,9,6,15,14,9,13,5,15,12,5,15,5,5,11,6,8,12,4,11,14,17,5,21,10,15,14,14,12,8,13,11,9,13,6,6,26,11,7,5,15,4,7,6,12,6,6,13,6,14,6,6,23,6,10,5,13,12,9,17,9,13,9,3,3,11,7,11,5,8,9,12,7,16,5,5,14,8,6,9,15,8,6,12,4,5,2,3,10,8,11,7,14,11,13,9,9,9,13,8,5,10,14,15,12,14,11,8,16,9,12,8,4,17,10,7,15,7,11,8,12,13,9,14,5,5,7,7,15,12,7,19,10,7,15,5,12,8,7,9,5,3,7,6,5,5,8,4,8,5,4,6,7,8,5,5,8,14,4,4,2,5,11,11,12,19,22,16,8,7,10,5,22,11,3,5,12,3,11,5,16,13,9,3,7,9,10,7,5,6,3,6,10,10,6,5,7,12,6,8,6,13,6,8,5,10,11,7,5,12,10,7,6,5,9,11,13,5,7,14,10,6,8,13,5,6,6,8,10,8,4,2,11,12,14,19,8,7,14,5,3,6,13,7,14,14,13,13,6,10,14,3,10,9,19,10,14,13,12,8,11,6,14,5,3,14,5,8,11,11,11,16,7,6,10,7,15,9,10,4,4,6,4,14,8,7,13,13,10,14,14,15,9,11,17,3,12,8,4,7,3,11,10,14,6,15,8,7,16,6,4,11,9,5,3,10,14,11,5,4,4,12,11,7,8,12,10,6,4,9,4,4,6,15,6,15,3,11,7,11,16,6,6,8,12,8,10,8,15,11,10,4,8,9,10,7,11,12,10,9,7,5,12,17,34,2,13,6,9,11,7,4,10,8,4,9,6,5,8,12,9,17,6,12,12,9,5,17,8,12,8,10,5,5,8,6,9,14,12,11,14,10,11,7,13,17,12,5,14,17,6,10,7,14,2,4,3,7,10,9,6,8,9,5,3,8,13,15,5,6,4,3,12,11,9,11,15,11,13,9,5,6,2,13,9,11,9,11,9,9,12,11,7,6,11,5,10,16,11,12,5,11,14,5,4,6,6,5,10,11,5,4,6,12,5,4,9,8,12,11,11,8,17,3,12,14,6,6,15,6,11,5,7,6,5,9,2,13,19,11,5,25,29,15,10,6,7,12,10,14,5,13,8,21,7,8,10,9,15,14,5,5,10,13,9,10,8,7,10,11,14,13,14,9,5,12,5,13,16,9,13,8,5,6,12,6,13,5,8,5,8,12,8,4,6,5,11,14,15,10,7,15,15,18,10,8,13,8,10,7,6,7,14,7,12,16,11,4,6,9,16,9,7,5,6,7,10,13,11,16,16,5,8,5,5,11,8,7,24,6,6,7,8,13,19,4,17,13,13,10,13,5,15,10,7,8,10,13,7,6,11,14,4,16,5,17,8,9,10,12,5,8,11,7,5,15,6,15,10,16,10,12,5,10,4,10,14,12,5,5,10,11,10,13,8,10,8,5,12,8,13,7,9,5,9,7,5,13,19,7,16,12,5,14,5,4,6,11,8,7,6,5,8,10,14,17,13,10,10,7,6,10,17,7,9,6,8,14,4,5,6,16,3,6,9,8,11,18,6,16,4,2,16,12,8,15,5,8,5,4,11,12,10,9,7,17,11,7,7,13,11,6,11,7,11,6,9,7,10,16,10,13,14,5,11,9,7,4,7,14,6,11,6,7,5,8,2,4,12,7,11,12,4,10,15,12,5,8,15,12,8,4,5,13,18,2,8,7,12,11,11,8,13,11,5,8,3,13,12,15,14,13,13,7,11,6,12,12,14,16,9,13,5,16,6,10,4,8,6,7,3,3,12,12,11,15,7,7,5,17,12,8,17,4,11,9,3,7,10,16,8,8,10,9,11,4,18,3,6,9,3,5,6,17,13,6,3,4,6,11,6,14,8,4,6,2,6,12,6,11,4,13,9,14,8,15,10,9,5,7,5,10,7,7,7,7,12,13,6,11,8,11,9,14,5,10,8,6,14,14,13,15,16,13,7,12,11,6,7,7,15,12,7,5,11,5,9,11,3,16,16,10,10,13,5,7,9,9,6,8,3,8,9,5,5,9,3,5,7,9,9,9,8,4,6,7,7,8,9,9,10,8,5,7,9,7,4,6,8,14,12,13,9,9,15,4,8,4,13,6,14,9,14,8,9,13,9,4,9,11,5,10,3,5,4,11,6,12,10,19,10,7,9,19,14,4,6,12,10,3,19,8,12,11,14,13,14,2,17,6,8,5,14,14,8,5,4,9,3,10,5,8,12,23,12,14,13,9,3,7,16,14,8,5,6,5,18,7,8,5,9,11,4,10,6,10,11,8,8,15,15,14,13,7,9,12,14,9,8,16,7,13,8,9,6,4,10,8,5,4,13,11,10,12,7,7,6,10,9,9,4,3,11,7,13,4,6,12,13,4,7,8,10,4,4,9,11,16,16,4,5,7,10,10,14,12,4,8,13,4,5,6,6,6,2,14,2,14,5,10,10,6,4,1,9,10,7,16,10,7,7,6,13,8,7,14,8,8,6,3,10,9,10,10,10,11,6,13,5,4,15,5,12,11,7,20,4,10,8,7,8,15,9,8,11,3,12,11,13,5,7,6,6,7,5,4,8,10,19,18,9,10,5,5,9,18,8,6,5,8,5,4,14,5,14,14,9,10,9,14,10,11,15,12,12,10,6,3,9,7,18,17,6,14,12,6,15,12,7,11,8,6,6,9,12,15,5,5,6,3,6,8,11,5,7,7,17,16,7,13,4,5,11,7,5,14,6,15,6,7,11,3,2,13,7,8,15,3,15,2,4,7,7,15,8,7,14,6,7,9,5,11,12,9,3,5,11,16,11,5,6,10,17,7,10,11,11,11,10,20,7,7,3,6,5,6,9,7,12,7,9,11,9,3,5,9,6,12,14,10,3,5,17,8,17,6,8,5,3,8,9,6,9,19,11,5,9,14,9,15,6,8,7,8,7,9,15,17,8,11,3,11,6,5,6,6,5,12,12,12,7,10,10,10,9,9,10,4,6,8,7,10,13,3,6,7,9,10,11,2,3,9,15,5,6,12,10,9,6,3,12,5,19,6,11,10,11,9,6,6,13,15,14,8,10,12,8,11,13,9,8,9,11,5,4,14,11,13,12,2,13,16,8,5,11,16,8,7,8,7,9,8,7,11,7,6,8,3,16,12,6,13,3,10,12,12,16,7,21,4,8,4,10,9,14,9,9,7,4,4,6,17,9,5,8,6,12,15,3,14,4,5,5,10,14,5,18,7,9,4,15,8,14,10,4,6,5,5,11,4,6,9,13,8,12,17,15,5,5,18,11,16,9,7,12,7,8,4,18,11,11,11,20,10,17,13,16,11,12,15,13,9,11,8,10,14,9,5,12,5,14,8,5,4,9,12,5,4,10,17,6,13,3,10,7,11,6,11,10,10,11,6,21,8,14,12,6,4,5,5,5,8,13,16,10,17,18,14,4,13,14,8,5,18,11,9,18,10,6,4,11,3,17,14,18,15,6,4,7,6,2,7,8,5,13,6,22,14,3,4,4,4,3,8,15,5,10,13,10,8,19,8,9,7,7,7,10,6,8,10,5,8,18,5,14,7,8,7,11,5,8,8,13,12,7,13,12,9,12,17,13,11,4,6,8,5,15,13,12,13,13,10,5,6,4,11,9,7,9,4,4,5,13,4,12,12,14,12,4,9,4,4,6,8,9,9,9,9,13,5,10,5,8,10,12,8,8,6,6,17,9,6,2,10,2,11,7,5,9,8,8,4,11,6,4,4,14,5,28,5,12,4,6,6,2,15,9,5,10,19,5,13,7,10,21,17,11,6,13,12,13,7,8,4,17,4,3,8,16,6,5,5,5,10,14,8,13,18,8,6,5,6,12,5,12,5,7,9,5,8,9,3,6,14,4,7,12,3,5,14,12,3,3,12,13,13,14,4,6,12,5,5,5,13,17,14,11,10,2,38,37,10,14,8,9,9,14,10,10,8,9,6,4,13,18,8,9,14,9,11,6,8,8,6,9,2,7,11,4,11,10,4,11,15,9,16,13,6,12,7,11,14,7,7,5,6,7,9,13,20,9,15,9,8,14,5,14,14,13,15,17,6,22,3,6,8,18,7,11,11,4,9,12,10,5,7,4,9,7,8,9,4,9,7,5,9,4,26,24,16,20,22,20,10,13,16,15,9,11,8,15,16,12,5,13,8,14,18,19,11,13,11,11,15,10,9,4,7,11,9,6,7,7,3,10,12,13,15,14,5,5,5,6,6,12,16,6,19,10,6,7,4,9,10,12,16,6,10,7,8,11,9,12,12,5,5,7,3,7,10,9,8,8,14,6,7,7,9,12,11,8,18,5,8,3,5,2,4,10,5,9,14,5,5,7,10,8,13,8,19,7,11,4,8,7,12,5,6,8,7,8,10,10,13,9,11,14,9,11,7,7,6,11,10,8,6,12,13,14,11,10,10,11,11,9,12,15,14,9,13,4,11,6,4,8,6,10,10,10,9,12,12,7,8,5,6,10,14,22,10,9,10,16,7,6,25,17,10,14,14,6,10,7,4,9,10,5,7,6,16,10,14,7,12,12,6,5,12,17,7,10,11,4,13,18,13,18,8,4,9,15,12,5,13,6,9,11,5,12,17,5,5,8,4,12,12,7,4,3,9,12,14,15,7,4,5,7,7,10,9,7,8,6,9,18,19,15,13,3,15,9,16,4,21,11,12,2,14,15,9,10,6,10,9,3,2,10,10,4,6,6,11,17,6,10,9,11,7,8,8,6,7,5,14,14,9,9,5,4,4,7,10,6,11,9,9,11,11,11,8,9,12,4,12,9,10,8,5,10,9,7,14,3,9,11,9,14,12,10,5,6,10,15,2,6,6,8,14,7,14,16,11,7,11,10,8,6,8,11,16,8,12,3,4,6,7,8,16,14,8,6,9,16,16,7,10,6,12,5,11,8,14,12,9,5,10,15,11,8,17,7,8,10,5,9,8,7,18,7,5,15,3,5,10,4,9,21,7,6,7,10,3,16,12,14,13,13,12,8,14,7,13,11,10,8,12,13,10,10,12,15,12,12,11,12,14,10,13,13,10,9,13,14,9,8,18,7,10,10,10,15,6,8,11,10,10,15,16,5,4,14,2,16,14,10,6,15,8,4,6,13,3,4,7,12,5,12,14,15,5,6,10,13,7,8,2,7,17,2,3,18,4,15,6,6,5,11,6,14,9,10,12,14,10,6,7,8,7,15,14,3,4,16,11,6,9,12,17,9,11,9,6,5,7,8,4,3,5,22,8,4,6,9,11,10,5,12,14,42,2,16,5,9,4,11,22,4,14,7,15,6,6,4,4,9,6,15,11,5,9,11,12,8,8,11,4,7,10,7,4,10,10,7,7,13,9,9,5,5,17,13,12,5,5,7,13,5,5,16,5,12,13,9,14,4,9,5,4,19,8,7,11,13,7,11,7,7,10,3,9,6,10,23,14,11,10,3,10,6,13,12,10,17,10,7,14,11,19,4,7,6,7,19,22,10,19,16,7,8,5,4,8,3,15,4,15,17,5,15,5,6,10,11,6,6,18,10,9,11,4,3,4,11,11,10,7,7,10,11,5,5,9,10,8,7,10,5,11,12,18,13,8,9,8,12,14,5,18,13,9,7,9,7,5,7,9,4,8,8,11,15,15,18,13,12,11,10,17,4,8,8,7,12,20,8,7,4,4,15,11,9,9,6,14,12,9,11,4,13,19,2,14,4,7,6,14,17,18,17,11,8,10,13,13,4,8,21,7,18,18,5,13,3,9,15,6,14,9,10,11,7,11,10,6,15,4,6,15,3,12,4,12,11,12,11,8,6,13,11,11,20,11,10,5,14,11,10,5,7,7,4,16,7,8,7,19,4,11,16,6,7,15,10,8,13,6,9,9,9,8,10,8,5,7,12,5,14,11,12,13,11,7,8,10,7,16,20,6,6,14,15,10,13,11,13,10,9,16,10],\"xaxis\":\"x\",\"yaxis\":\"y\",\"type\":\"histogram\"}],                        {\"template\":{\"data\":{\"histogram2dcontour\":[{\"type\":\"histogram2dcontour\",\"colorbar\":{\"outlinewidth\":0,\"ticks\":\"\"},\"colorscale\":[[0.0,\"#0d0887\"],[0.1111111111111111,\"#46039f\"],[0.2222222222222222,\"#7201a8\"],[0.3333333333333333,\"#9c179e\"],[0.4444444444444444,\"#bd3786\"],[0.5555555555555556,\"#d8576b\"],[0.6666666666666666,\"#ed7953\"],[0.7777777777777778,\"#fb9f3a\"],[0.8888888888888888,\"#fdca26\"],[1.0,\"#f0f921\"]]}],\"choropleth\":[{\"type\":\"choropleth\",\"colorbar\":{\"outlinewidth\":0,\"ticks\":\"\"}}],\"histogram2d\":[{\"type\":\"histogram2d\",\"colorbar\":{\"outlinewidth\":0,\"ticks\":\"\"},\"colorscale\":[[0.0,\"#0d0887\"],[0.1111111111111111,\"#46039f\"],[0.2222222222222222,\"#7201a8\"],[0.3333333333333333,\"#9c179e\"],[0.4444444444444444,\"#bd3786\"],[0.5555555555555556,\"#d8576b\"],[0.6666666666666666,\"#ed7953\"],[0.7777777777777778,\"#fb9f3a\"],[0.8888888888888888,\"#fdca26\"],[1.0,\"#f0f921\"]]}],\"heatmap\":[{\"type\":\"heatmap\",\"colorbar\":{\"outlinewidth\":0,\"ticks\":\"\"},\"colorscale\":[[0.0,\"#0d0887\"],[0.1111111111111111,\"#46039f\"],[0.2222222222222222,\"#7201a8\"],[0.3333333333333333,\"#9c179e\"],[0.4444444444444444,\"#bd3786\"],[0.5555555555555556,\"#d8576b\"],[0.6666666666666666,\"#ed7953\"],[0.7777777777777778,\"#fb9f3a\"],[0.8888888888888888,\"#fdca26\"],[1.0,\"#f0f921\"]]}],\"heatmapgl\":[{\"type\":\"heatmapgl\",\"colorbar\":{\"outlinewidth\":0,\"ticks\":\"\"},\"colorscale\":[[0.0,\"#0d0887\"],[0.1111111111111111,\"#46039f\"],[0.2222222222222222,\"#7201a8\"],[0.3333333333333333,\"#9c179e\"],[0.4444444444444444,\"#bd3786\"],[0.5555555555555556,\"#d8576b\"],[0.6666666666666666,\"#ed7953\"],[0.7777777777777778,\"#fb9f3a\"],[0.8888888888888888,\"#fdca26\"],[1.0,\"#f0f921\"]]}],\"contourcarpet\":[{\"type\":\"contourcarpet\",\"colorbar\":{\"outlinewidth\":0,\"ticks\":\"\"}}],\"contour\":[{\"type\":\"contour\",\"colorbar\":{\"outlinewidth\":0,\"ticks\":\"\"},\"colorscale\":[[0.0,\"#0d0887\"],[0.1111111111111111,\"#46039f\"],[0.2222222222222222,\"#7201a8\"],[0.3333333333333333,\"#9c179e\"],[0.4444444444444444,\"#bd3786\"],[0.5555555555555556,\"#d8576b\"],[0.6666666666666666,\"#ed7953\"],[0.7777777777777778,\"#fb9f3a\"],[0.8888888888888888,\"#fdca26\"],[1.0,\"#f0f921\"]]}],\"surface\":[{\"type\":\"surface\",\"colorbar\":{\"outlinewidth\":0,\"ticks\":\"\"},\"colorscale\":[[0.0,\"#0d0887\"],[0.1111111111111111,\"#46039f\"],[0.2222222222222222,\"#7201a8\"],[0.3333333333333333,\"#9c179e\"],[0.4444444444444444,\"#bd3786\"],[0.5555555555555556,\"#d8576b\"],[0.6666666666666666,\"#ed7953\"],[0.7777777777777778,\"#fb9f3a\"],[0.8888888888888888,\"#fdca26\"],[1.0,\"#f0f921\"]]}],\"mesh3d\":[{\"type\":\"mesh3d\",\"colorbar\":{\"outlinewidth\":0,\"ticks\":\"\"}}],\"scatter\":[{\"fillpattern\":{\"fillmode\":\"overlay\",\"size\":10,\"solidity\":0.2},\"type\":\"scatter\"}],\"parcoords\":[{\"type\":\"parcoords\",\"line\":{\"colorbar\":{\"outlinewidth\":0,\"ticks\":\"\"}}}],\"scatterpolargl\":[{\"type\":\"scatterpolargl\",\"marker\":{\"colorbar\":{\"outlinewidth\":0,\"ticks\":\"\"}}}],\"bar\":[{\"error_x\":{\"color\":\"#2a3f5f\"},\"error_y\":{\"color\":\"#2a3f5f\"},\"marker\":{\"line\":{\"color\":\"#E5ECF6\",\"width\":0.5},\"pattern\":{\"fillmode\":\"overlay\",\"size\":10,\"solidity\":0.2}},\"type\":\"bar\"}],\"scattergeo\":[{\"type\":\"scattergeo\",\"marker\":{\"colorbar\":{\"outlinewidth\":0,\"ticks\":\"\"}}}],\"scatterpolar\":[{\"type\":\"scatterpolar\",\"marker\":{\"colorbar\":{\"outlinewidth\":0,\"ticks\":\"\"}}}],\"histogram\":[{\"marker\":{\"pattern\":{\"fillmode\":\"overlay\",\"size\":10,\"solidity\":0.2}},\"type\":\"histogram\"}],\"scattergl\":[{\"type\":\"scattergl\",\"marker\":{\"colorbar\":{\"outlinewidth\":0,\"ticks\":\"\"}}}],\"scatter3d\":[{\"type\":\"scatter3d\",\"line\":{\"colorbar\":{\"outlinewidth\":0,\"ticks\":\"\"}},\"marker\":{\"colorbar\":{\"outlinewidth\":0,\"ticks\":\"\"}}}],\"scattermapbox\":[{\"type\":\"scattermapbox\",\"marker\":{\"colorbar\":{\"outlinewidth\":0,\"ticks\":\"\"}}}],\"scatterternary\":[{\"type\":\"scatterternary\",\"marker\":{\"colorbar\":{\"outlinewidth\":0,\"ticks\":\"\"}}}],\"scattercarpet\":[{\"type\":\"scattercarpet\",\"marker\":{\"colorbar\":{\"outlinewidth\":0,\"ticks\":\"\"}}}],\"carpet\":[{\"aaxis\":{\"endlinecolor\":\"#2a3f5f\",\"gridcolor\":\"white\",\"linecolor\":\"white\",\"minorgridcolor\":\"white\",\"startlinecolor\":\"#2a3f5f\"},\"baxis\":{\"endlinecolor\":\"#2a3f5f\",\"gridcolor\":\"white\",\"linecolor\":\"white\",\"minorgridcolor\":\"white\",\"startlinecolor\":\"#2a3f5f\"},\"type\":\"carpet\"}],\"table\":[{\"cells\":{\"fill\":{\"color\":\"#EBF0F8\"},\"line\":{\"color\":\"white\"}},\"header\":{\"fill\":{\"color\":\"#C8D4E3\"},\"line\":{\"color\":\"white\"}},\"type\":\"table\"}],\"barpolar\":[{\"marker\":{\"line\":{\"color\":\"#E5ECF6\",\"width\":0.5},\"pattern\":{\"fillmode\":\"overlay\",\"size\":10,\"solidity\":0.2}},\"type\":\"barpolar\"}],\"pie\":[{\"automargin\":true,\"type\":\"pie\"}]},\"layout\":{\"autotypenumbers\":\"strict\",\"colorway\":[\"#636efa\",\"#EF553B\",\"#00cc96\",\"#ab63fa\",\"#FFA15A\",\"#19d3f3\",\"#FF6692\",\"#B6E880\",\"#FF97FF\",\"#FECB52\"],\"font\":{\"color\":\"#2a3f5f\"},\"hovermode\":\"closest\",\"hoverlabel\":{\"align\":\"left\"},\"paper_bgcolor\":\"white\",\"plot_bgcolor\":\"#E5ECF6\",\"polar\":{\"bgcolor\":\"#E5ECF6\",\"angularaxis\":{\"gridcolor\":\"white\",\"linecolor\":\"white\",\"ticks\":\"\"},\"radialaxis\":{\"gridcolor\":\"white\",\"linecolor\":\"white\",\"ticks\":\"\"}},\"ternary\":{\"bgcolor\":\"#E5ECF6\",\"aaxis\":{\"gridcolor\":\"white\",\"linecolor\":\"white\",\"ticks\":\"\"},\"baxis\":{\"gridcolor\":\"white\",\"linecolor\":\"white\",\"ticks\":\"\"},\"caxis\":{\"gridcolor\":\"white\",\"linecolor\":\"white\",\"ticks\":\"\"}},\"coloraxis\":{\"colorbar\":{\"outlinewidth\":0,\"ticks\":\"\"}},\"colorscale\":{\"sequential\":[[0.0,\"#0d0887\"],[0.1111111111111111,\"#46039f\"],[0.2222222222222222,\"#7201a8\"],[0.3333333333333333,\"#9c179e\"],[0.4444444444444444,\"#bd3786\"],[0.5555555555555556,\"#d8576b\"],[0.6666666666666666,\"#ed7953\"],[0.7777777777777778,\"#fb9f3a\"],[0.8888888888888888,\"#fdca26\"],[1.0,\"#f0f921\"]],\"sequentialminus\":[[0.0,\"#0d0887\"],[0.1111111111111111,\"#46039f\"],[0.2222222222222222,\"#7201a8\"],[0.3333333333333333,\"#9c179e\"],[0.4444444444444444,\"#bd3786\"],[0.5555555555555556,\"#d8576b\"],[0.6666666666666666,\"#ed7953\"],[0.7777777777777778,\"#fb9f3a\"],[0.8888888888888888,\"#fdca26\"],[1.0,\"#f0f921\"]],\"diverging\":[[0,\"#8e0152\"],[0.1,\"#c51b7d\"],[0.2,\"#de77ae\"],[0.3,\"#f1b6da\"],[0.4,\"#fde0ef\"],[0.5,\"#f7f7f7\"],[0.6,\"#e6f5d0\"],[0.7,\"#b8e186\"],[0.8,\"#7fbc41\"],[0.9,\"#4d9221\"],[1,\"#276419\"]]},\"xaxis\":{\"gridcolor\":\"white\",\"linecolor\":\"white\",\"ticks\":\"\",\"title\":{\"standoff\":15},\"zerolinecolor\":\"white\",\"automargin\":true,\"zerolinewidth\":2},\"yaxis\":{\"gridcolor\":\"white\",\"linecolor\":\"white\",\"ticks\":\"\",\"title\":{\"standoff\":15},\"zerolinecolor\":\"white\",\"automargin\":true,\"zerolinewidth\":2},\"scene\":{\"xaxis\":{\"backgroundcolor\":\"#E5ECF6\",\"gridcolor\":\"white\",\"linecolor\":\"white\",\"showbackground\":true,\"ticks\":\"\",\"zerolinecolor\":\"white\",\"gridwidth\":2},\"yaxis\":{\"backgroundcolor\":\"#E5ECF6\",\"gridcolor\":\"white\",\"linecolor\":\"white\",\"showbackground\":true,\"ticks\":\"\",\"zerolinecolor\":\"white\",\"gridwidth\":2},\"zaxis\":{\"backgroundcolor\":\"#E5ECF6\",\"gridcolor\":\"white\",\"linecolor\":\"white\",\"showbackground\":true,\"ticks\":\"\",\"zerolinecolor\":\"white\",\"gridwidth\":2}},\"shapedefaults\":{\"line\":{\"color\":\"#2a3f5f\"}},\"annotationdefaults\":{\"arrowcolor\":\"#2a3f5f\",\"arrowhead\":0,\"arrowwidth\":1},\"geo\":{\"bgcolor\":\"white\",\"landcolor\":\"#E5ECF6\",\"subunitcolor\":\"white\",\"showland\":true,\"showlakes\":true,\"lakecolor\":\"white\"},\"title\":{\"x\":0.05},\"mapbox\":{\"style\":\"light\"}}},\"xaxis\":{\"anchor\":\"y\",\"domain\":[0.0,1.0],\"title\":{\"text\":\"number_tokens\"}},\"yaxis\":{\"anchor\":\"x\",\"domain\":[0.0,1.0],\"title\":{\"text\":\"count\"}},\"legend\":{\"tracegroupgap\":0},\"title\":{\"text\":\"Number of tokens distribution: Distribution helps to set parameters: window, negative<br>in W2V model\"},\"barmode\":\"relative\",\"height\":500,\"width\":800},                        {\"responsive\": true}                    ).then(function(){\n",
              "                            \n",
              "var gd = document.getElementById('5c142170-21fe-4bd9-9adb-154b92c9241d');\n",
              "var x = new MutationObserver(function (mutations, observer) {{\n",
              "        var display = window.getComputedStyle(gd).display;\n",
              "        if (!display || display === 'none') {{\n",
              "            console.log([gd, 'removed!']);\n",
              "            Plotly.purge(gd);\n",
              "            observer.disconnect();\n",
              "        }}\n",
              "}});\n",
              "\n",
              "// Listen for the removal of the full notebook cells\n",
              "var notebookContainer = gd.closest('#notebook-container');\n",
              "if (notebookContainer) {{\n",
              "    x.observe(notebookContainer, {childList: true});\n",
              "}}\n",
              "\n",
              "// Listen for the clearing of the current output cell\n",
              "var outputEl = gd.closest('.output');\n",
              "if (outputEl) {{\n",
              "    x.observe(outputEl, {childList: true});\n",
              "}}\n",
              "\n",
              "                        })                };                            </script>        </div>\n",
              "</body>\n",
              "</html>"
            ]
          },
          "metadata": {}
        }
      ]
    },
    {
      "cell_type": "code",
      "source": [
        "import nltk\n",
        "nltk.download('wordnet')"
      ],
      "metadata": {
        "colab": {
          "base_uri": "https://localhost:8080/"
        },
        "id": "XJXkCnxqiLDP",
        "outputId": "59d91863-85c4-47d2-c626-e581dd36889b"
      },
      "execution_count": null,
      "outputs": [
        {
          "output_type": "stream",
          "name": "stderr",
          "text": [
            "[nltk_data] Downloading package wordnet to /root/nltk_data...\n"
          ]
        },
        {
          "output_type": "execute_result",
          "data": {
            "text/plain": [
              "True"
            ]
          },
          "metadata": {},
          "execution_count": 14
        }
      ]
    },
    {
      "cell_type": "code",
      "source": [
        "import re\n",
        "from nltk.stem import WordNetLemmatizer\n",
        "wordnet_lemmatizer = WordNetLemmatizer()\n",
        "\n",
        "TOKEN_RE = re.compile(r'[\\w]+')\n",
        "def tokenize_text_simple_regex(txt, min_token_size = 2):\n",
        "  txt = str(txt).lower()\n",
        "  all_tokens = TOKEN_RE.findall(txt)\n",
        "  return [wordnet_lemmatizer.lemmatize(token, pos = \"v\") for token in all_tokens if len(token) >= min_token_size]"
      ],
      "metadata": {
        "id": "5FiNoqptNm6j"
      },
      "execution_count": null,
      "outputs": []
    },
    {
      "cell_type": "code",
      "source": [
        "def tokenize_corpus(texts, tokenizer = tokenize_text_simple_regex, **tokenizer_kwargs):\n",
        "  return [tokenizer(text, **tokenizer_kwargs) for text in texts]"
      ],
      "metadata": {
        "id": "O9zMnX0DhJ-Q"
      },
      "execution_count": null,
      "outputs": []
    },
    {
      "cell_type": "code",
      "source": [
        "train_df['title'] = train_df['image_phash'] + ' ' + train_df['title'] + ' ' + train_df['image_phash']\n",
        "test_df['title'] = test_df['image_phash'] + ' ' + test_df['title'] + ' ' + test_df['image_phash']"
      ],
      "metadata": {
        "id": "dgP8uhoehbF_"
      },
      "execution_count": null,
      "outputs": []
    },
    {
      "cell_type": "code",
      "source": [
        "train_df['title'][0]"
      ],
      "metadata": {
        "colab": {
          "base_uri": "https://localhost:8080/",
          "height": 35
        },
        "id": "ifaDHunRhsrg",
        "outputId": "4e000a7f-cd71-425d-fbb2-ad7db35d08ed"
      },
      "execution_count": null,
      "outputs": [
        {
          "output_type": "execute_result",
          "data": {
            "text/plain": [
              "'94974f937d4c2433 Paper Bag Victoria Secret 94974f937d4c2433'"
            ],
            "application/vnd.google.colaboratory.intrinsic+json": {
              "type": "string"
            }
          },
          "metadata": {},
          "execution_count": 18
        }
      ]
    },
    {
      "cell_type": "code",
      "source": [
        "corpus = tokenize_corpus(list(pd.concat([train_df['title'], test_df['title']])))"
      ],
      "metadata": {
        "id": "WQuvaw00humo"
      },
      "execution_count": null,
      "outputs": []
    },
    {
      "cell_type": "code",
      "source": [
        "corpus[0:2]"
      ],
      "metadata": {
        "colab": {
          "base_uri": "https://localhost:8080/"
        },
        "id": "3mpO-5xhiB7A",
        "outputId": "d6535256-0002-420f-88ad-d35278f6f026"
      },
      "execution_count": null,
      "outputs": [
        {
          "output_type": "execute_result",
          "data": {
            "text/plain": [
              "[['94974f937d4c2433',\n",
              "  'paper',\n",
              "  'bag',\n",
              "  'victoria',\n",
              "  'secret',\n",
              "  '94974f937d4c2433'],\n",
              " ['af3f9460c2838f0f',\n",
              "  'double',\n",
              "  'tape',\n",
              "  '3m',\n",
              "  'vhb',\n",
              "  '12',\n",
              "  'mm',\n",
              "  'original',\n",
              "  'double',\n",
              "  'foam',\n",
              "  'tape',\n",
              "  'af3f9460c2838f0f']]"
            ]
          },
          "metadata": {},
          "execution_count": 20
        }
      ]
    },
    {
      "cell_type": "code",
      "source": [
        "from gensim.models import Word2Vec\n",
        "\n",
        "model = Word2Vec(\n",
        "    sentences = corpus,  # The sentences iterable can be simply a list of lists of tokens, but for larger corpora, consider an iterable that streams the sentences directly from disk/network\n",
        "    vector_size = 100,  # Dimensionality of the word vectors\n",
        "    window = 15,        # Maximum distance between the current and predicted word within a sentence\n",
        "    min_count = 1,     # Ignores all words with total frequency lower than this.\n",
        "    sg = 1,            # Training algorithm: 1 for skip-gram; otherwise CBOW.\n",
        "    negative = 7,     #  If > 0, negative sampling will be used, the int for negative specifies how many “noise words” should be drawn (usually between 5-20). If set to 0, no negative sampling is used.\n",
        "    epochs = 1000,    # Number of iterations (epochs) over the corpus\n",
        "    seed = 42,       # Seed for the random number generator\n",
        "    workers = 6\n",
        ")"
      ],
      "metadata": {
        "id": "JolsWngriPCn"
      },
      "execution_count": null,
      "outputs": []
    },
    {
      "cell_type": "code",
      "source": [
        "# from gensim.models import KeyedVectors\n",
        "# kv = new KeyedVectors(512)\n",
        "\n",
        "# model.save('w2v_model_window_15_negative_7.model')"
      ],
      "metadata": {
        "id": "_wDdB0CovCfe"
      },
      "execution_count": null,
      "outputs": []
    },
    {
      "cell_type": "code",
      "source": [
        "# model = Word2Vec.load(path+\"w2v_model_window_15_negative_7.model\")"
      ],
      "metadata": {
        "id": "PgND_wQdw-0m"
      },
      "execution_count": null,
      "outputs": []
    },
    {
      "cell_type": "code",
      "source": [
        "from sklearn.decomposition import TruncatedSVD\n",
        "from sklearn.manifold import TSNE\n",
        "\n",
        "def plot_vectors(vectors, labels, how='tsne', ax=None):\n",
        "    if how == 'tsne':\n",
        "        projections = TSNE().fit_transform(vectors)\n",
        "    elif how == 'svd':\n",
        "        projections = TruncatedSVD().fit_transform(vectors)\n",
        "    x = projections[:, 0]\n",
        "    y = projections[:, 1]\n",
        "    ax.scatter(x, y)\n",
        "    for cur_x, cur_y, cur_label in zip(x, y, labels):\n",
        "        ax.annotate(cur_label, (cur_x, cur_y))"
      ],
      "metadata": {
        "id": "vzP4-RT1jDpv"
      },
      "execution_count": null,
      "outputs": []
    },
    {
      "cell_type": "code",
      "source": [
        "from collections import defaultdict\n",
        "from wordcloud import WordCloud, STOPWORDS\n",
        "stopwords = set(STOPWORDS)\n",
        "\n",
        "def n_grams(ngram, data):\n",
        "    freq_dict = defaultdict(int)\n",
        "    for text in data:\n",
        "        tokens = [w for w in text.lower().split() if w != \" \" if w not in stopwords]\n",
        "        ngrams = zip(*[tokens[i:] for i in range(ngram)])\n",
        "        list_grams = [\" \".join(ngram) for ngram in ngrams]\n",
        "        for word in list_grams:\n",
        "            freq_dict[word] += 1\n",
        "    df_ngram =  pd.DataFrame(sorted(freq_dict.items(), key=lambda x: x[1])[::-1])   \n",
        "    df_ngram.columns = [\"word\", \"wordcount\"]\n",
        "    return df_ngram "
      ],
      "metadata": {
        "id": "RwFnY7JOjKkz"
      },
      "execution_count": null,
      "outputs": []
    },
    {
      "cell_type": "code",
      "source": [
        "df_3_grams = n_grams(3, train_df[\"title\"]) \n",
        "print(df_3_grams.head(20))\n",
        "print(df_3_grams.tail())"
      ],
      "metadata": {
        "colab": {
          "base_uri": "https://localhost:8080/"
        },
        "id": "xUyrRkbAj3bX",
        "outputId": "95028bb6-c8dd-40d1-ee45-acc06ab9a4ef"
      },
      "execution_count": null,
      "outputs": [
        {
          "output_type": "stream",
          "name": "stdout",
          "text": [
            "                       word  wordcount\n",
            "0         jam tangan wanita         83\n",
            "1      tas selempang wanita         81\n",
            "2           jam tangan pria         81\n",
            "3         xiaomi redmi note         65\n",
            "4       gluta collagen soap         50\n",
            "5                11 pro max         49\n",
            "6        emina glossy stain         45\n",
            "7            viva air mawar         42\n",
            "8           - garansi resmi         41\n",
            "9       mainan edukasi anak         41\n",
            "10       korea untuk wanita         40\n",
            "11     somebymi yuja niacin         40\n",
            "12           niacin 30 days         40\n",
            "13           yuja niacin 30         40\n",
            "14  brightening starter kit         39\n",
            "15                   m l xl         39\n",
            "16        alat cukur rambut         37\n",
            "17                    s m l         37\n",
            "18            resmi 1 tahun         34\n",
            "19          garansi resmi 1         34\n",
            "                                    word  wordcount\n",
            "249596                         3m vhb 12          1\n",
            "249597                       tape 3m vhb          1\n",
            "249598      af3f9460c2838f0f double tape          1\n",
            "249599  victoria secret 94974f937d4c2433          1\n",
            "249600        94974f937d4c2433 paper bag          1\n"
          ]
        }
      ]
    },
    {
      "cell_type": "code",
      "source": [
        "test_words = ['jam','tangan','wanita','xiaomi','redmi','note','somebymi','yuja','niacin','mm','3m']\n",
        "gensim_words = [w for w in test_words if w in model.wv.index_to_key]\n",
        "gensim_vectors = np.stack([model.wv[w] for w in gensim_words])"
      ],
      "metadata": {
        "id": "9MihDPdgj3dY"
      },
      "execution_count": null,
      "outputs": []
    },
    {
      "cell_type": "code",
      "source": [
        "fig, ax = plt.subplots()\n",
        "fig.set_size_inches((6, 6))\n",
        "plot_vectors(gensim_vectors, test_words, how='svd', ax=ax)"
      ],
      "metadata": {
        "colab": {
          "base_uri": "https://localhost:8080/",
          "height": 522
        },
        "id": "v9i3fSHlj3fj",
        "outputId": "b416cba1-b5ce-400c-9e5c-1ef6581c2bd8"
      },
      "execution_count": null,
      "outputs": [
        {
          "output_type": "display_data",
          "data": {
            "text/plain": [
              "<Figure size 600x600 with 1 Axes>"
            ],
            "image/png": "[encoded data removed]"
          },
          "metadata": {}
        }
      ]
    },
    {
      "cell_type": "code",
      "source": [
        "example_hash = 'a6f319f924ad708c'"
      ],
      "metadata": {
        "id": "LGoyyJ3-j3hh"
      },
      "execution_count": null,
      "outputs": []
    },
    {
      "cell_type": "code",
      "source": [
        "import cv2\n",
        "import os\n",
        "\n",
        "def draw_img_hash(hash):\n",
        "    plot_list = train_df[train_df['image_phash'] == example_hash]['image'].tolist()[0]\n",
        "    plt.figure(figsize=(5, 5))\n",
        "    image = cv2.imread(os.path.join('/content/drive/MyDrive/Shopee/train_images/', plot_list))\n",
        "    image = cv2.cvtColor(image, cv2.COLOR_BGR2RGB)\n",
        "    plt.title(plot_list, fontsize=12)\n",
        "    plt.axis(\"off\")\n",
        "    plt.imshow(image)\n",
        "    plt.show()"
      ],
      "metadata": {
        "id": "6xDmZsZPj3k2"
      },
      "execution_count": null,
      "outputs": []
    },
    {
      "cell_type": "code",
      "source": [
        "draw_img_hash(example_hash)"
      ],
      "metadata": {
        "colab": {
          "base_uri": "https://localhost:8080/",
          "height": 444
        },
        "id": "uom8P58Sj3nM",
        "outputId": "e015f04a-a184-4367-d2c3-e9224357ea8d"
      },
      "execution_count": null,
      "outputs": [
        {
          "output_type": "display_data",
          "data": {
            "text/plain": [
              "<Figure size 500x500 with 1 Axes>"
            ],
            "image/png": "[encoded data removed]"
          },
          "metadata": {}
        }
      ]
    },
    {
      "cell_type": "code",
      "source": [
        "#similar words\n",
        "nn = model.wv.most_similar(example_hash)\n",
        "nn"
      ],
      "metadata": {
        "colab": {
          "base_uri": "https://localhost:8080/"
        },
        "id": "VhopSz7Yj3o6",
        "outputId": "e0505949-e928-4140-c89f-2e2092f24115"
      },
      "execution_count": null,
      "outputs": [
        {
          "output_type": "execute_result",
          "data": {
            "text/plain": [
              "[('x89clair', 0.9972493052482605),\n",
              " ('bce5c11a96393cc6', 0.8024426102638245),\n",
              " ('e69999663199cc93', 0.8015637993812561),\n",
              " ('eclair', 0.8006322383880615),\n",
              " ('f8a446ac58cfb139', 0.7650524973869324),\n",
              " ('10x25gr', 0.7633227109909058),\n",
              " ('f8a947c638cf21b1', 0.7630043625831604),\n",
              " ('10x25', 0.7467114925384521),\n",
              " ('bfe0c0f296192ce6', 0.7383169531822205),\n",
              " ('eb7f430dbc8190d8', 0.7207581400871277)]"
            ]
          },
          "metadata": {},
          "execution_count": 37
        }
      ]
    },
    {
      "cell_type": "code",
      "source": [
        "draw_img_hash('e69999663199cc93')"
      ],
      "metadata": {
        "colab": {
          "base_uri": "https://localhost:8080/",
          "height": 444
        },
        "id": "K6km1r-j4yki",
        "outputId": "742e4c72-996f-4743-f8dd-752a2a8edf73"
      },
      "execution_count": null,
      "outputs": [
        {
          "output_type": "display_data",
          "data": {
            "text/plain": [
              "<Figure size 500x500 with 1 Axes>"
            ],
            "image/png": "[encoded data removed]"
          },
          "metadata": {}
        }
      ]
    },
    {
      "cell_type": "code",
      "source": [
        "draw_img_hash('bce5c11a96393cc6')"
      ],
      "metadata": {
        "colab": {
          "base_uri": "https://localhost:8080/",
          "height": 444
        },
        "id": "JPFL-ZNW40Pi",
        "outputId": "d439109c-aa95-4244-a5ab-e96b8be1ea45"
      },
      "execution_count": null,
      "outputs": [
        {
          "output_type": "display_data",
          "data": {
            "text/plain": [
              "<Figure size 500x500 with 1 Axes>"
            ],
            "image/png": "[encoded data removed]"
          },
          "metadata": {}
        }
      ]
    },
    {
      "cell_type": "code",
      "source": [
        "import gc\n",
        "del train_df\n",
        "del test_df\n",
        "del corpus\n",
        "gc.collect()"
      ],
      "metadata": {
        "colab": {
          "base_uri": "https://localhost:8080/"
        },
        "id": "0_n_dTxf5AtB",
        "outputId": "0cd15eae-0986-489b-828f-d413e0a42a55"
      },
      "execution_count": null,
      "outputs": [
        {
          "output_type": "execute_result",
          "data": {
            "text/plain": [
              "13226"
            ]
          },
          "metadata": {},
          "execution_count": 40
        }
      ]
    },
    {
      "cell_type": "code",
      "source": [
        "if len(pd.read_csv(path+\"test.csv\")) > 3: \n",
        "    df = pd.read_csv(path+\"test.csv\")\n",
        "else: \n",
        "    df = pd.read_csv(path+\"train.csv\")"
      ],
      "metadata": {
        "id": "m1t8nFMP5JiB"
      },
      "execution_count": null,
      "outputs": []
    },
    {
      "cell_type": "code",
      "source": [
        "# we are taking the 100-D phash wherever it was generated by W2V, else filling up with 100 zeros\n",
        "\n",
        "embeds = []\n",
        "for phash in df['image_phash'].tolist():\n",
        "    try:\n",
        "        embeds.append(model.wv[phash].tolist())\n",
        "    except KeyError:\n",
        "        embeds.append(np.zeros((100), dtype='float32').tolist())"
      ],
      "metadata": {
        "id": "0HD9qVVp5aEq"
      },
      "execution_count": null,
      "outputs": []
    },
    {
      "cell_type": "code",
      "source": [
        "from sklearn.neighbors import NearestNeighbors\n",
        "\n",
        "neighbors_model = NearestNeighbors(n_neighbors = 50, metric='cosine').fit(embeds)\n",
        "text_distances, text_indices = neighbors_model.kneighbors(embeds)"
      ],
      "metadata": {
        "id": "LGQvxfbX5jCh"
      },
      "execution_count": null,
      "outputs": []
    },
    {
      "cell_type": "code",
      "source": [
        "text_distances.shape"
      ],
      "metadata": {
        "colab": {
          "base_uri": "https://localhost:8080/"
        },
        "id": "J-6eS8-26bcL",
        "outputId": "0bff8001-7660-4891-c2b1-f68f4ac31ead"
      },
      "execution_count": null,
      "outputs": [
        {
          "output_type": "execute_result",
          "data": {
            "text/plain": [
              "(34250, 50)"
            ]
          },
          "metadata": {},
          "execution_count": 44
        }
      ]
    },
    {
      "cell_type": "code",
      "source": [
        "text_distances[3]"
      ],
      "metadata": {
        "colab": {
          "base_uri": "https://localhost:8080/"
        },
        "id": "yhCZF39J6fmL",
        "outputId": "2563f4fd-229d-4e47-aa3f-239ecb1bfef5"
      },
      "execution_count": null,
      "outputs": [
        {
          "output_type": "execute_result",
          "data": {
            "text/plain": [
              "array([0.        , 0.01596841, 0.01674065, 0.03125539, 0.09518444,\n",
              "       0.16531902, 0.19157919, 0.19324918, 0.26525387, 0.28319608,\n",
              "       0.3221261 , 0.32315007, 0.32620735, 0.32785517, 0.32826453,\n",
              "       0.32928669, 0.33213177, 0.33213177, 0.33496179, 0.33518258,\n",
              "       0.33794157, 0.34131016, 0.3416747 , 0.34440052, 0.34684136,\n",
              "       0.34892438, 0.3491671 , 0.35163527, 0.35479531, 0.35619452,\n",
              "       0.35759393, 0.35941764, 0.36013565, 0.36089629, 0.36477034,\n",
              "       0.36514718, 0.36578175, 0.36623156, 0.36623156, 0.36623156,\n",
              "       0.36649901, 0.36693359, 0.36943389, 0.37113881, 0.37131488,\n",
              "       0.37161749, 0.37209378, 0.37374351, 0.37422503, 0.375373  ])"
            ]
          },
          "metadata": {},
          "execution_count": 45
        }
      ]
    },
    {
      "cell_type": "code",
      "source": [
        "predictions = []\n",
        "for k in range(df.shape[0]):\n",
        "    idx_text = np.where(text_distances[k,] < 0.17)[0]\n",
        "    ids_text = text_indices[k,idx_text]\n",
        "    # posting_ids = ' '.join(df.iloc[ids_text]['posting_id'].values)\n",
        "    posting_ids = df.iloc[ids_text]['posting_id'].values\n",
        "    predictions.append(posting_ids)"
      ],
      "metadata": {
        "id": "myUOAu5T6Pca"
      },
      "execution_count": null,
      "outputs": []
    },
    {
      "cell_type": "code",
      "source": [
        "df.columns"
      ],
      "metadata": {
        "colab": {
          "base_uri": "https://localhost:8080/"
        },
        "id": "bEDqCuiC690M",
        "outputId": "ce61eeab-e1ff-4186-c53f-2d716a0a9a05"
      },
      "execution_count": null,
      "outputs": [
        {
          "output_type": "execute_result",
          "data": {
            "text/plain": [
              "Index(['posting_id', 'image', 'image_phash', 'title', 'label_group'], dtype='object')"
            ]
          },
          "metadata": {},
          "execution_count": 47
        }
      ]
    },
    {
      "cell_type": "code",
      "source": [
        "df['matches'] = predictions\n",
        "tmp = df.groupby('label_group').posting_id.agg('unique').to_dict()\n",
        "df['target'] = df.label_group.map(tmp)\n",
        "df.tail()\n",
        "# df[['posting_id', 'target', 'matches']].to_csv('submission_only_w2v_cpu.csv', index = False)"
      ],
      "metadata": {
        "colab": {
          "base_uri": "https://localhost:8080/",
          "height": 206
        },
        "id": "1ABZcuRc654B",
        "outputId": "de8804ca-d416-4731-90bb-ac69de8076ab"
      },
      "execution_count": null,
      "outputs": [
        {
          "output_type": "execute_result",
          "data": {
            "text/plain": [
              "             posting_id                                 image  \\\n",
              "34245  train_4028265689  fff1c07ceefc2c970a7964cfb81981c5.jpg   \n",
              "34246   train_769054909  fff401691371bdcb382a0d9075dfea6a.jpg   \n",
              "34247   train_614977732  fff421b78fa7284284724baf249f522e.jpg   \n",
              "34248  train_3630949769  fff51b87916dbfb6d0f8faa01bee67b8.jpg   \n",
              "34249  train_1792180725  ffffa0ab2ae542357671e96254fa7167.jpg   \n",
              "\n",
              "            image_phash                                              title  \\\n",
              "34245  e3cd72389f248f21  Masker Bahan Kain Spunbond Non Woven 75 gsm 3 ...   \n",
              "34246  be86851f72e2853c    MamyPoko Pants Royal Soft - S 70 - Popok Celana   \n",
              "34247  ad27f0d08c0fcbf0  KHANZAACC Robot RE101S 1.2mm Subwoofer Bass Me...   \n",
              "34248  e3b13bd1d896c05c  Kaldu NON MSG HALAL Mama Kamu Ayam Kampung , S...   \n",
              "34249  af8bc4b2d2cf9083  FLEX TAPE PELAPIS BOCOR / ISOLASI AJAIB / ANTI...   \n",
              "\n",
              "       label_group                                            matches  \\\n",
              "34245   3776555725                                 [train_4028265689]   \n",
              "34246   2736479533  [train_769054909, train_1463059254, train_2530...   \n",
              "34247   4101248785                [train_614977732, train_2690464637]   \n",
              "34248   1663538013  [train_3630949769, train_1431563868, train_341...   \n",
              "34249    459464107                                 [train_1792180725]   \n",
              "\n",
              "                                                  target  \n",
              "34245               [train_2829161572, train_4028265689]  \n",
              "34246                [train_1463059254, train_769054909]  \n",
              "34247  [train_4126022211, train_3926241003, train_232...  \n",
              "34248  [train_3419392575, train_1431563868, train_363...  \n",
              "34249                [train_795128312, train_1792180725]  "
            ],
            "text/html": [
              "\n",
              "  <div id=\"df-936bec89-7ed3-41d0-a252-686bf4e87ab5\">\n",
              "    <div class=\"colab-df-container\">\n",
              "      <div>\n",
              "<style scoped>\n",
              "    .dataframe tbody tr th:only-of-type {\n",
              "        vertical-align: middle;\n",
              "    }\n",
              "\n",
              "    .dataframe tbody tr th {\n",
              "        vertical-align: top;\n",
              "    }\n",
              "\n",
              "    .dataframe thead th {\n",
              "        text-align: right;\n",
              "    }\n",
              "</style>\n",
              "<table border=\"1\" class=\"dataframe\">\n",
              "  <thead>\n",
              "    <tr style=\"text-align: right;\">\n",
              "      <th></th>\n",
              "      <th>posting_id</th>\n",
              "      <th>image</th>\n",
              "      <th>image_phash</th>\n",
              "      <th>title</th>\n",
              "      <th>label_group</th>\n",
              "      <th>matches</th>\n",
              "      <th>target</th>\n",
              "    </tr>\n",
              "  </thead>\n",
              "  <tbody>\n",
              "    <tr>\n",
              "      <th>34245</th>\n",
              "      <td>train_4028265689</td>\n",
              "      <td>fff1c07ceefc2c970a7964cfb81981c5.jpg</td>\n",
              "      <td>e3cd72389f248f21</td>\n",
              "      <td>Masker Bahan Kain Spunbond Non Woven 75 gsm 3 ...</td>\n",
              "      <td>3776555725</td>\n",
              "      <td>[train_4028265689]</td>\n",
              "      <td>[train_2829161572, train_4028265689]</td>\n",
              "    </tr>\n",
              "    <tr>\n",
              "      <th>34246</th>\n",
              "      <td>train_769054909</td>\n",
              "      <td>fff401691371bdcb382a0d9075dfea6a.jpg</td>\n",
              "      <td>be86851f72e2853c</td>\n",
              "      <td>MamyPoko Pants Royal Soft - S 70 - Popok Celana</td>\n",
              "      <td>2736479533</td>\n",
              "      <td>[train_769054909, train_1463059254, train_2530...</td>\n",
              "      <td>[train_1463059254, train_769054909]</td>\n",
              "    </tr>\n",
              "    <tr>\n",
              "      <th>34247</th>\n",
              "      <td>train_614977732</td>\n",
              "      <td>fff421b78fa7284284724baf249f522e.jpg</td>\n",
              "      <td>ad27f0d08c0fcbf0</td>\n",
              "      <td>KHANZAACC Robot RE101S 1.2mm Subwoofer Bass Me...</td>\n",
              "      <td>4101248785</td>\n",
              "      <td>[train_614977732, train_2690464637]</td>\n",
              "      <td>[train_4126022211, train_3926241003, train_232...</td>\n",
              "    </tr>\n",
              "    <tr>\n",
              "      <th>34248</th>\n",
              "      <td>train_3630949769</td>\n",
              "      <td>fff51b87916dbfb6d0f8faa01bee67b8.jpg</td>\n",
              "      <td>e3b13bd1d896c05c</td>\n",
              "      <td>Kaldu NON MSG HALAL Mama Kamu Ayam Kampung , S...</td>\n",
              "      <td>1663538013</td>\n",
              "      <td>[train_3630949769, train_1431563868, train_341...</td>\n",
              "      <td>[train_3419392575, train_1431563868, train_363...</td>\n",
              "    </tr>\n",
              "    <tr>\n",
              "      <th>34249</th>\n",
              "      <td>train_1792180725</td>\n",
              "      <td>ffffa0ab2ae542357671e96254fa7167.jpg</td>\n",
              "      <td>af8bc4b2d2cf9083</td>\n",
              "      <td>FLEX TAPE PELAPIS BOCOR / ISOLASI AJAIB / ANTI...</td>\n",
              "      <td>459464107</td>\n",
              "      <td>[train_1792180725]</td>\n",
              "      <td>[train_795128312, train_1792180725]</td>\n",
              "    </tr>\n",
              "  </tbody>\n",
              "</table>\n",
              "</div>\n",
              "      <button class=\"colab-df-convert\" onclick=\"convertToInteractive('df-936bec89-7ed3-41d0-a252-686bf4e87ab5')\"\n",
              "              title=\"Convert this dataframe to an interactive table.\"\n",
              "              style=\"display:none;\">\n",
              "        \n",
              "  <svg xmlns=\"http://www.w3.org/2000/svg\" height=\"24px\"viewBox=\"0 0 24 24\"\n",
              "       width=\"24px\">\n",
              "    <path d=\"M0 0h24v24H0V0z\" fill=\"none\"/>\n",
              "    <path d=\"M18.56 5.44l.94 2.06.94-2.06 2.06-.94-2.06-.94-.94-2.06-.94 2.06-2.06.94zm-11 1L8.5 8.5l.94-2.06 2.06-.94-2.06-.94L8.5 2.5l-.94 2.06-2.06.94zm10 10l.94 2.06.94-2.06 2.06-.94-2.06-.94-.94-2.06-.94 2.06-2.06.94z\"/><path d=\"M17.41 7.96l-1.37-1.37c-.4-.4-.92-.59-1.43-.59-.52 0-1.04.2-1.43.59L10.3 9.45l-7.72 7.72c-.78.78-.78 2.05 0 2.83L4 21.41c.39.39.9.59 1.41.59.51 0 1.02-.2 1.41-.59l7.78-7.78 2.81-2.81c.8-.78.8-2.07 0-2.86zM5.41 20L4 18.59l7.72-7.72 1.47 1.35L5.41 20z\"/>\n",
              "  </svg>\n",
              "      </button>\n",
              "      \n",
              "  <style>\n",
              "    .colab-df-container {\n",
              "      display:flex;\n",
              "      flex-wrap:wrap;\n",
              "      gap: 12px;\n",
              "    }\n",
              "\n",
              "    .colab-df-convert {\n",
              "      background-color: #E8F0FE;\n",
              "      border: none;\n",
              "      border-radius: 50%;\n",
              "      cursor: pointer;\n",
              "      display: none;\n",
              "      fill: #1967D2;\n",
              "      height: 32px;\n",
              "      padding: 0 0 0 0;\n",
              "      width: 32px;\n",
              "    }\n",
              "\n",
              "    .colab-df-convert:hover {\n",
              "      background-color: #E2EBFA;\n",
              "      box-shadow: 0px 1px 2px rgba(60, 64, 67, 0.3), 0px 1px 3px 1px rgba(60, 64, 67, 0.15);\n",
              "      fill: #174EA6;\n",
              "    }\n",
              "\n",
              "    [theme=dark] .colab-df-convert {\n",
              "      background-color: #3B4455;\n",
              "      fill: #D2E3FC;\n",
              "    }\n",
              "\n",
              "    [theme=dark] .colab-df-convert:hover {\n",
              "      background-color: #434B5C;\n",
              "      box-shadow: 0px 1px 3px 1px rgba(0, 0, 0, 0.15);\n",
              "      filter: drop-shadow(0px 1px 2px rgba(0, 0, 0, 0.3));\n",
              "      fill: #FFFFFF;\n",
              "    }\n",
              "  </style>\n",
              "\n",
              "      <script>\n",
              "        const buttonEl =\n",
              "          document.querySelector('#df-936bec89-7ed3-41d0-a252-686bf4e87ab5 button.colab-df-convert');\n",
              "        buttonEl.style.display =\n",
              "          google.colab.kernel.accessAllowed ? 'block' : 'none';\n",
              "\n",
              "        async function convertToInteractive(key) {\n",
              "          const element = document.querySelector('#df-936bec89-7ed3-41d0-a252-686bf4e87ab5');\n",
              "          const dataTable =\n",
              "            await google.colab.kernel.invokeFunction('convertToInteractive',\n",
              "                                                     [key], {});\n",
              "          if (!dataTable) return;\n",
              "\n",
              "          const docLinkHtml = 'Like what you see? Visit the ' +\n",
              "            '<a target=\"_blank\" href=https://colab.research.google.com/notebooks/data_table.ipynb>data table notebook</a>'\n",
              "            + ' to learn more about interactive tables.';\n",
              "          element.innerHTML = '';\n",
              "          dataTable['output_type'] = 'display_data';\n",
              "          await google.colab.output.renderOutput(dataTable, element);\n",
              "          const docLink = document.createElement('div');\n",
              "          docLink.innerHTML = docLinkHtml;\n",
              "          element.appendChild(docLink);\n",
              "        }\n",
              "      </script>\n",
              "    </div>\n",
              "  </div>\n",
              "  "
            ]
          },
          "metadata": {},
          "execution_count": 65
        }
      ]
    },
    {
      "cell_type": "code",
      "source": [
        "df['f1'] = df.apply(getMetric('matches'),axis=1)\n",
        "print('CV score for w2v =',df.f1.mean())"
      ],
      "metadata": {
        "colab": {
          "base_uri": "https://localhost:8080/"
        },
        "id": "H9F9itgH7GS5",
        "outputId": "340f815f-11a8-4f99-e3c0-4cd70867f47c"
      },
      "execution_count": null,
      "outputs": [
        {
          "output_type": "stream",
          "name": "stdout",
          "text": [
            "CV score for w2v = 0.6618230243597534\n"
          ]
        }
      ]
    },
    {
      "cell_type": "markdown",
      "source": [
        "## Word2Vec with lowered parameters compared to earlier run and without using phash ID to find match"
      ],
      "metadata": {
        "id": "AyKzclFbL5zI"
      }
    },
    {
      "cell_type": "code",
      "source": [
        "import pandas as pd\n",
        "import numpy as np\n",
        "import string\n",
        "\n",
        "from tqdm import tqdm\n",
        "tqdm.pandas()\n",
        "\n",
        "from nltk.corpus import stopwords\n",
        "from nltk.stem import WordNetLemmatizer\n",
        "\n",
        "from gensim.corpora import Dictionary\n",
        "from gensim.models import Word2Vec\n",
        "from gensim.similarities import SoftCosineSimilarity, SparseTermSimilarityMatrix, WordEmbeddingSimilarityIndex\n",
        "\n",
        "import warnings\n",
        "warnings.filterwarnings(\"ignore\")"
      ],
      "metadata": {
        "id": "-_uyAKVe25KU"
      },
      "execution_count": 12,
      "outputs": []
    },
    {
      "cell_type": "code",
      "source": [
        "from google.colab import drive\n",
        "drive.mount('/content/drive')"
      ],
      "metadata": {
        "colab": {
          "base_uri": "https://localhost:8080/"
        },
        "id": "KjPjRpAe5jAB",
        "outputId": "18865abf-0a43-4b12-d067-471920425278"
      },
      "execution_count": 13,
      "outputs": [
        {
          "output_type": "stream",
          "name": "stdout",
          "text": [
            "Drive already mounted at /content/drive; to attempt to forcibly remount, call drive.mount(\"/content/drive\", force_remount=True).\n"
          ]
        }
      ]
    },
    {
      "cell_type": "code",
      "source": [
        "path = '/content/drive/MyDrive/Shopee/'"
      ],
      "metadata": {
        "id": "RVsqbYMg57NG"
      },
      "execution_count": 14,
      "outputs": []
    },
    {
      "cell_type": "code",
      "source": [
        "train_df = pd.read_csv(path+'train.csv')\n",
        "test_df = pd.read_csv(path+'test.csv')"
      ],
      "metadata": {
        "id": "rXJOyDf_25po"
      },
      "execution_count": 15,
      "outputs": []
    },
    {
      "cell_type": "code",
      "source": [
        "len_test = len(test_df)\n",
        "len_pred = len_test if len_test > 3 else len(train_df)\n",
        "COMPUTE_CV = False if len_test > 3 else True"
      ],
      "metadata": {
        "id": "Qqlv8N1i25tt"
      },
      "execution_count": 16,
      "outputs": []
    },
    {
      "cell_type": "code",
      "source": [
        "len_pred, COMPUTE_CV"
      ],
      "metadata": {
        "colab": {
          "base_uri": "https://localhost:8080/"
        },
        "id": "ObTrh-h26e8A",
        "outputId": "82bf3b2c-cae8-4731-fdd4-94c518e802a2"
      },
      "execution_count": 17,
      "outputs": [
        {
          "output_type": "execute_result",
          "data": {
            "text/plain": [
              "(34250, True)"
            ]
          },
          "metadata": {},
          "execution_count": 17
        }
      ]
    },
    {
      "cell_type": "code",
      "source": [
        "import nltk\n",
        "nltk.download('stopwords')\n",
        "nltk.download('wordnet')"
      ],
      "metadata": {
        "colab": {
          "base_uri": "https://localhost:8080/"
        },
        "id": "J1p7MjrX9KLP",
        "outputId": "5839b949-27dd-4401-a104-31fd81c1538d"
      },
      "execution_count": 18,
      "outputs": [
        {
          "output_type": "stream",
          "name": "stderr",
          "text": [
            "[nltk_data] Downloading package stopwords to /root/nltk_data...\n",
            "[nltk_data]   Unzipping corpora/stopwords.zip.\n",
            "[nltk_data] Downloading package wordnet to /root/nltk_data...\n"
          ]
        },
        {
          "output_type": "execute_result",
          "data": {
            "text/plain": [
              "True"
            ]
          },
          "metadata": {},
          "execution_count": 18
        }
      ]
    },
    {
      "cell_type": "code",
      "source": [
        "# preprocess\n",
        "\n",
        "%%time\n",
        "def tokenize(text):\n",
        "    return text.split(' ')\n",
        "\n",
        "def preprocess_text(sentence):\n",
        "    sentence = str(sentence)\n",
        "    sentence = sentence.lower()\n",
        "    sentence = sentence.translate(str.maketrans('', '', string.punctuation))\n",
        "    sentence = sentence.split()\n",
        "    sentence = [word for word in sentence if word not in stopwords.words('english')]\n",
        "    wl = WordNetLemmatizer()\n",
        "    sentence = [wl.lemmatize(word) for word in sentence]\n",
        "    sentence = ' '.join(sentence)\n",
        "    return sentence\n",
        "\n",
        "train_df['title_clean'] = train_df['title'].progress_apply(preprocess_text)\n",
        "test_df['title_clean']  = test_df['title'].progress_apply(preprocess_text)\n",
        "\n",
        "df = pd.concat([test_df, train_df]).reset_index(drop=True) if len_test > 3 else train_df"
      ],
      "metadata": {
        "colab": {
          "base_uri": "https://localhost:8080/"
        },
        "id": "atJ2TDDk25wB",
        "outputId": "5435313c-9e93-4503-e620-35ff6d978497"
      },
      "execution_count": 19,
      "outputs": [
        {
          "output_type": "stream",
          "name": "stderr",
          "text": [
            "100%|██████████| 34250/34250 [00:25<00:00, 1322.35it/s]\n",
            "100%|██████████| 3/3 [00:00<00:00, 493.82it/s]"
          ]
        },
        {
          "output_type": "stream",
          "name": "stdout",
          "text": [
            "CPU times: user 21.8 s, sys: 3.33 s, total: 25.2 s\n",
            "Wall time: 25.9 s\n"
          ]
        },
        {
          "output_type": "stream",
          "name": "stderr",
          "text": [
            "\n"
          ]
        }
      ]
    },
    {
      "cell_type": "code",
      "source": [
        "%%time\n",
        "# bag of words\n",
        "titles_tokens = [title.split() for title in df['title_clean']]\n",
        "\n",
        "# word dictionary\n",
        "dictionary = Dictionary(titles_tokens)\n",
        "# dictionary.filter_extremes(no_below=2, no_above=50)\n",
        "\n",
        "# Bag of words\n",
        "bow_corpus = [dictionary.doc2bow(token) for token in titles_tokens]"
      ],
      "metadata": {
        "colab": {
          "base_uri": "https://localhost:8080/"
        },
        "id": "CXiN1IIS25yK",
        "outputId": "0677baef-762c-4cbb-9489-105910ce4d99"
      },
      "execution_count": 20,
      "outputs": [
        {
          "output_type": "stream",
          "name": "stdout",
          "text": [
            "CPU times: user 812 ms, sys: 50.6 ms, total: 863 ms\n",
            "Wall time: 907 ms\n"
          ]
        }
      ]
    },
    {
      "cell_type": "code",
      "source": [
        "df['title_clean'][100]"
      ],
      "metadata": {
        "colab": {
          "base_uri": "https://localhost:8080/",
          "height": 35
        },
        "id": "vj6i9EsG-G0X",
        "outputId": "93223e53-84a7-48f5-b1ff-4995e228dc0e"
      },
      "execution_count": 21,
      "outputs": [
        {
          "output_type": "execute_result",
          "data": {
            "text/plain": [
              "'per pc kiss beauty cat claw set 3in1 eyeshadow blush lipcream'"
            ],
            "application/vnd.google.colaboratory.intrinsic+json": {
              "type": "string"
            }
          },
          "metadata": {},
          "execution_count": 21
        }
      ]
    },
    {
      "cell_type": "code",
      "source": [
        "bow_corpus[100]"
      ],
      "metadata": {
        "colab": {
          "base_uri": "https://localhost:8080/"
        },
        "id": "jzkDF5cV25zl",
        "outputId": "aa7dc592-8768-4342-fecd-5a5c2a8238f5"
      },
      "execution_count": 22,
      "outputs": [
        {
          "output_type": "execute_result",
          "data": {
            "text/plain": [
              "[(137, 1),\n",
              " (211, 1),\n",
              " (247, 1),\n",
              " (410, 1),\n",
              " (598, 1),\n",
              " (655, 1),\n",
              " (656, 1),\n",
              " (657, 1),\n",
              " (658, 1),\n",
              " (659, 1),\n",
              " (660, 1)]"
            ]
          },
          "metadata": {},
          "execution_count": 22
        }
      ]
    },
    {
      "cell_type": "code",
      "source": [
        "df['title_clean'][202]"
      ],
      "metadata": {
        "colab": {
          "base_uri": "https://localhost:8080/",
          "height": 35
        },
        "id": "49KQ8MvZ-tpe",
        "outputId": "98b21ad4-41ab-4477-ed0f-264ca1f63953"
      },
      "execution_count": 23,
      "outputs": [
        {
          "output_type": "execute_result",
          "data": {
            "text/plain": [
              "'celana training olahraga kolor pendek pria dewasa jumbo celana kolor pria pendek dewasa jumbo'"
            ],
            "application/vnd.google.colaboratory.intrinsic+json": {
              "type": "string"
            }
          },
          "metadata": {},
          "execution_count": 23
        }
      ]
    },
    {
      "cell_type": "code",
      "source": [
        "bow_corpus[202]"
      ],
      "metadata": {
        "colab": {
          "base_uri": "https://localhost:8080/"
        },
        "id": "Y0Xp34Yf251q",
        "outputId": "027da288-1f64-4005-abf8-bd83cfcafb61"
      },
      "execution_count": 24,
      "outputs": [
        {
          "output_type": "execute_result",
          "data": {
            "text/plain": [
              "[(33, 2),\n",
              " (41, 2),\n",
              " (75, 2),\n",
              " (1139, 2),\n",
              " (1140, 2),\n",
              " (1141, 2),\n",
              " (1142, 1),\n",
              " (1143, 1)]"
            ]
          },
          "metadata": {},
          "execution_count": 24
        }
      ]
    },
    {
      "cell_type": "code",
      "source": [
        "%%time\n",
        "model = Word2Vec(titles_tokens, vector_size=50, window=5, min_count=1, workers=4)"
      ],
      "metadata": {
        "colab": {
          "base_uri": "https://localhost:8080/"
        },
        "id": "5eoM30hG253R",
        "outputId": "d4348d46-1bcf-4ece-a552-0890976dd5d7"
      },
      "execution_count": 25,
      "outputs": [
        {
          "output_type": "stream",
          "name": "stdout",
          "text": [
            "CPU times: user 3.61 s, sys: 33.8 ms, total: 3.64 s\n",
            "Wall time: 2.45 s\n"
          ]
        }
      ]
    },
    {
      "cell_type": "code",
      "source": [
        "%%time\n",
        "# word similarity index\n",
        "termsim_index = WordEmbeddingSimilarityIndex(model.wv)\n",
        "\n",
        "# similarity matrix\n",
        "similarity_matrix = SparseTermSimilarityMatrix(termsim_index, dictionary)\n",
        "\n",
        "# soft cosine similarity\n",
        "docsim_index = SoftCosineSimilarity(bow_corpus, similarity_matrix, num_best=50)"
      ],
      "metadata": {
        "colab": {
          "base_uri": "https://localhost:8080/"
        },
        "id": "uvLv6x_9255T",
        "outputId": "60609634-680b-44ba-8b53-67762da74245"
      },
      "execution_count": 26,
      "outputs": [
        {
          "output_type": "stream",
          "name": "stderr",
          "text": [
            "100%|██████████| 27710/27710 [01:24<00:00, 328.02it/s]\n"
          ]
        },
        {
          "output_type": "stream",
          "name": "stdout",
          "text": [
            "CPU times: user 1min 17s, sys: 51 s, total: 2min 8s\n",
            "Wall time: 1min 24s\n"
          ]
        }
      ]
    },
    {
      "cell_type": "code",
      "source": [
        "def getFilteredQuery(query, dict):\n",
        "    query = query.split()\n",
        "    return([wrd for wrd in query if dict.doc2idx([wrd])[0] >= 0])\n",
        "\n",
        "def getIndex(sim, boundry, threshold):\n",
        "    inds = [s[0] for s in sim if s[1] > threshold]\n",
        "    if boundry > 3:\n",
        "        inds = [i for i in inds if i < boundry]\n",
        "    return inds\n",
        "\n",
        "def getSimilarDoc(sentences, d, docsim_index, boundry, threshold = 0.7):\n",
        "    queries = [dict.doc2bow(getFilteredQuery(sent, d)) for sent in sentences]\n",
        "    sims = docsim_index[queries]\n",
        "    return [getIndex(sim, boundry, threshold) for sim in sims]"
      ],
      "metadata": {
        "id": "oIND1Do5256x"
      },
      "execution_count": 27,
      "outputs": []
    },
    {
      "cell_type": "code",
      "source": [
        "len_test"
      ],
      "metadata": {
        "colab": {
          "base_uri": "https://localhost:8080/"
        },
        "id": "BJAkADLdLdTB",
        "outputId": "553015cf-fa29-48e1-8114-470bf0234ba6"
      },
      "execution_count": 28,
      "outputs": [
        {
          "output_type": "execute_result",
          "data": {
            "text/plain": [
              "3"
            ]
          },
          "metadata": {},
          "execution_count": 28
        }
      ]
    },
    {
      "cell_type": "code",
      "source": [
        "preds = []\n",
        "CHUNK = 1024 * 4\n",
        "\n",
        "print('Finding similar titles...')\n",
        "CTS = len_pred // CHUNK\n",
        "if len_pred % CHUNK != 0: CTS += 1\n",
        "for j in range(CTS):\n",
        "    \n",
        "    a, b = j * CHUNK, min((j+1) * CHUNK, len_pred)\n",
        "    print('chunk',a,'to',b)\n",
        "    \n",
        "    # get similar sentences\n",
        "    index = getSimilarDoc(df['title_clean'][a:b], dictionary, docsim_index, len_test, 0.95)\n",
        "    \n",
        "    for k in range(b-a):\n",
        "        o = df.iloc[index[k]].posting_id.values\n",
        "        preds.append(o)"
      ],
      "metadata": {
        "colab": {
          "base_uri": "https://localhost:8080/"
        },
        "id": "UUB1Ihkq25-4",
        "outputId": "3b3e6208-b594-4d9b-fc96-db4349fdf8cc"
      },
      "execution_count": null,
      "outputs": [
        {
          "output_type": "stream",
          "name": "stdout",
          "text": [
            "Finding similar titles...\n",
            "chunk 0 to 4096\n",
            "chunk 4096 to 8192\n",
            "chunk 8192 to 12288\n",
            "chunk 12288 to 16384\n",
            "chunk 16384 to 20480\n",
            "chunk 20480 to 24576\n",
            "chunk 24576 to 28672\n",
            "chunk 28672 to 32768\n",
            "chunk 32768 to 34250\n"
          ]
        }
      ]
    },
    {
      "cell_type": "code",
      "source": [
        "if len(df) > len_pred:\n",
        "    df = df[:len_pred]\n",
        "df['preds'] = preds\n",
        "df.head()"
      ],
      "metadata": {
        "colab": {
          "base_uri": "https://localhost:8080/",
          "height": 337
        },
        "id": "DtUTK3YjBFGN",
        "outputId": "53b7c8b9-ba55-4d1f-f8b1-75559422a37b"
      },
      "execution_count": null,
      "outputs": [
        {
          "output_type": "execute_result",
          "data": {
            "text/plain": [
              "         posting_id                                 image       image_phash  \\\n",
              "0   train_129225211  0000a68812bc7e98c42888dfb1c07da0.jpg  94974f937d4c2433   \n",
              "1  train_3386243561  00039780dfc94d01db8676fe789ecd05.jpg  af3f9460c2838f0f   \n",
              "2  train_2288590299  000a190fdd715a2a36faed16e2c65df7.jpg  b94cb00ed3e50f78   \n",
              "3  train_2406599165  00117e4fc239b1b641ff08340b429633.jpg  8514fc58eafea283   \n",
              "4  train_3369186413  00136d1cf4edede0203f32f05f660588.jpg  a6f319f924ad708c   \n",
              "\n",
              "                                               title  label_group  \\\n",
              "0                          Paper Bag Victoria Secret    249114794   \n",
              "1  Double Tape 3M VHB 12 mm x 4,5 m ORIGINAL / DO...   2937985045   \n",
              "2        Maling TTS Canned Pork Luncheon Meat 397 gr   2395904891   \n",
              "3  Daster Batik Lengan pendek - Motif Acak / Camp...   4093212188   \n",
              "4                  Nescafe \\xc3\\x89clair Latte 220ml   3648931069   \n",
              "\n",
              "                                         title_clean  \\\n",
              "0                          paper bag victoria secret   \n",
              "1  double tape 3m vhb 12 mm x 45 original double ...   \n",
              "2         maling tt canned pork luncheon meat 397 gr   \n",
              "3  daster batik lengan pendek motif acak campur l...   \n",
              "4                    nescafe xc3x89clair latte 220ml   \n",
              "\n",
              "                                               preds  \\\n",
              "0                [train_2278313361, train_129225211]   \n",
              "1               [train_3386243561, train_3355243346]   \n",
              "2  [train_1890689336, train_398427706, train_1163...   \n",
              "3  [train_997128436, train_1744956981, train_2406...   \n",
              "4  [train_682053892, train_1340876743, train_8135...   \n",
              "\n",
              "                                 target  \\\n",
              "0   [train_129225211, train_2278313361]   \n",
              "1  [train_3386243561, train_3423213080]   \n",
              "2  [train_2288590299, train_3803689425]   \n",
              "3  [train_2406599165, train_3342059966]   \n",
              "4   [train_3369186413, train_921438619]   \n",
              "\n",
              "                                             matches        f1  \n",
              "0                [train_129225211, train_2278313361]  1.000000  \n",
              "1  [train_1063149950, train_1974987067, train_211...  0.250000  \n",
              "2  [train_1115064044, train_1163030354, train_140...  0.181818  \n",
              "3  [train_1508100548, train_1744956981, train_196...  0.181818  \n",
              "4  [train_1008876697, train_1340876743, train_149...  0.086957  "
            ],
            "text/html": [
              "\n",
              "  <div id=\"df-68d108ba-6a74-4a51-ba43-b86ae9714bb9\">\n",
              "    <div class=\"colab-df-container\">\n",
              "      <div>\n",
              "<style scoped>\n",
              "    .dataframe tbody tr th:only-of-type {\n",
              "        vertical-align: middle;\n",
              "    }\n",
              "\n",
              "    .dataframe tbody tr th {\n",
              "        vertical-align: top;\n",
              "    }\n",
              "\n",
              "    .dataframe thead th {\n",
              "        text-align: right;\n",
              "    }\n",
              "</style>\n",
              "<table border=\"1\" class=\"dataframe\">\n",
              "  <thead>\n",
              "    <tr style=\"text-align: right;\">\n",
              "      <th></th>\n",
              "      <th>posting_id</th>\n",
              "      <th>image</th>\n",
              "      <th>image_phash</th>\n",
              "      <th>title</th>\n",
              "      <th>label_group</th>\n",
              "      <th>title_clean</th>\n",
              "      <th>preds</th>\n",
              "      <th>target</th>\n",
              "      <th>matches</th>\n",
              "      <th>f1</th>\n",
              "    </tr>\n",
              "  </thead>\n",
              "  <tbody>\n",
              "    <tr>\n",
              "      <th>0</th>\n",
              "      <td>train_129225211</td>\n",
              "      <td>0000a68812bc7e98c42888dfb1c07da0.jpg</td>\n",
              "      <td>94974f937d4c2433</td>\n",
              "      <td>Paper Bag Victoria Secret</td>\n",
              "      <td>249114794</td>\n",
              "      <td>paper bag victoria secret</td>\n",
              "      <td>[train_2278313361, train_129225211]</td>\n",
              "      <td>[train_129225211, train_2278313361]</td>\n",
              "      <td>[train_129225211, train_2278313361]</td>\n",
              "      <td>1.000000</td>\n",
              "    </tr>\n",
              "    <tr>\n",
              "      <th>1</th>\n",
              "      <td>train_3386243561</td>\n",
              "      <td>00039780dfc94d01db8676fe789ecd05.jpg</td>\n",
              "      <td>af3f9460c2838f0f</td>\n",
              "      <td>Double Tape 3M VHB 12 mm x 4,5 m ORIGINAL / DO...</td>\n",
              "      <td>2937985045</td>\n",
              "      <td>double tape 3m vhb 12 mm x 45 original double ...</td>\n",
              "      <td>[train_3386243561, train_3355243346]</td>\n",
              "      <td>[train_3386243561, train_3423213080]</td>\n",
              "      <td>[train_1063149950, train_1974987067, train_211...</td>\n",
              "      <td>0.250000</td>\n",
              "    </tr>\n",
              "    <tr>\n",
              "      <th>2</th>\n",
              "      <td>train_2288590299</td>\n",
              "      <td>000a190fdd715a2a36faed16e2c65df7.jpg</td>\n",
              "      <td>b94cb00ed3e50f78</td>\n",
              "      <td>Maling TTS Canned Pork Luncheon Meat 397 gr</td>\n",
              "      <td>2395904891</td>\n",
              "      <td>maling tt canned pork luncheon meat 397 gr</td>\n",
              "      <td>[train_1890689336, train_398427706, train_1163...</td>\n",
              "      <td>[train_2288590299, train_3803689425]</td>\n",
              "      <td>[train_1115064044, train_1163030354, train_140...</td>\n",
              "      <td>0.181818</td>\n",
              "    </tr>\n",
              "    <tr>\n",
              "      <th>3</th>\n",
              "      <td>train_2406599165</td>\n",
              "      <td>00117e4fc239b1b641ff08340b429633.jpg</td>\n",
              "      <td>8514fc58eafea283</td>\n",
              "      <td>Daster Batik Lengan pendek - Motif Acak / Camp...</td>\n",
              "      <td>4093212188</td>\n",
              "      <td>daster batik lengan pendek motif acak campur l...</td>\n",
              "      <td>[train_997128436, train_1744956981, train_2406...</td>\n",
              "      <td>[train_2406599165, train_3342059966]</td>\n",
              "      <td>[train_1508100548, train_1744956981, train_196...</td>\n",
              "      <td>0.181818</td>\n",
              "    </tr>\n",
              "    <tr>\n",
              "      <th>4</th>\n",
              "      <td>train_3369186413</td>\n",
              "      <td>00136d1cf4edede0203f32f05f660588.jpg</td>\n",
              "      <td>a6f319f924ad708c</td>\n",
              "      <td>Nescafe \\xc3\\x89clair Latte 220ml</td>\n",
              "      <td>3648931069</td>\n",
              "      <td>nescafe xc3x89clair latte 220ml</td>\n",
              "      <td>[train_682053892, train_1340876743, train_8135...</td>\n",
              "      <td>[train_3369186413, train_921438619]</td>\n",
              "      <td>[train_1008876697, train_1340876743, train_149...</td>\n",
              "      <td>0.086957</td>\n",
              "    </tr>\n",
              "  </tbody>\n",
              "</table>\n",
              "</div>\n",
              "      <button class=\"colab-df-convert\" onclick=\"convertToInteractive('df-68d108ba-6a74-4a51-ba43-b86ae9714bb9')\"\n",
              "              title=\"Convert this dataframe to an interactive table.\"\n",
              "              style=\"display:none;\">\n",
              "        \n",
              "  <svg xmlns=\"http://www.w3.org/2000/svg\" height=\"24px\"viewBox=\"0 0 24 24\"\n",
              "       width=\"24px\">\n",
              "    <path d=\"M0 0h24v24H0V0z\" fill=\"none\"/>\n",
              "    <path d=\"M18.56 5.44l.94 2.06.94-2.06 2.06-.94-2.06-.94-.94-2.06-.94 2.06-2.06.94zm-11 1L8.5 8.5l.94-2.06 2.06-.94-2.06-.94L8.5 2.5l-.94 2.06-2.06.94zm10 10l.94 2.06.94-2.06 2.06-.94-2.06-.94-.94-2.06-.94 2.06-2.06.94z\"/><path d=\"M17.41 7.96l-1.37-1.37c-.4-.4-.92-.59-1.43-.59-.52 0-1.04.2-1.43.59L10.3 9.45l-7.72 7.72c-.78.78-.78 2.05 0 2.83L4 21.41c.39.39.9.59 1.41.59.51 0 1.02-.2 1.41-.59l7.78-7.78 2.81-2.81c.8-.78.8-2.07 0-2.86zM5.41 20L4 18.59l7.72-7.72 1.47 1.35L5.41 20z\"/>\n",
              "  </svg>\n",
              "      </button>\n",
              "      \n",
              "  <style>\n",
              "    .colab-df-container {\n",
              "      display:flex;\n",
              "      flex-wrap:wrap;\n",
              "      gap: 12px;\n",
              "    }\n",
              "\n",
              "    .colab-df-convert {\n",
              "      background-color: #E8F0FE;\n",
              "      border: none;\n",
              "      border-radius: 50%;\n",
              "      cursor: pointer;\n",
              "      display: none;\n",
              "      fill: #1967D2;\n",
              "      height: 32px;\n",
              "      padding: 0 0 0 0;\n",
              "      width: 32px;\n",
              "    }\n",
              "\n",
              "    .colab-df-convert:hover {\n",
              "      background-color: #E2EBFA;\n",
              "      box-shadow: 0px 1px 2px rgba(60, 64, 67, 0.3), 0px 1px 3px 1px rgba(60, 64, 67, 0.15);\n",
              "      fill: #174EA6;\n",
              "    }\n",
              "\n",
              "    [theme=dark] .colab-df-convert {\n",
              "      background-color: #3B4455;\n",
              "      fill: #D2E3FC;\n",
              "    }\n",
              "\n",
              "    [theme=dark] .colab-df-convert:hover {\n",
              "      background-color: #434B5C;\n",
              "      box-shadow: 0px 1px 3px 1px rgba(0, 0, 0, 0.15);\n",
              "      filter: drop-shadow(0px 1px 2px rgba(0, 0, 0, 0.3));\n",
              "      fill: #FFFFFF;\n",
              "    }\n",
              "  </style>\n",
              "\n",
              "      <script>\n",
              "        const buttonEl =\n",
              "          document.querySelector('#df-68d108ba-6a74-4a51-ba43-b86ae9714bb9 button.colab-df-convert');\n",
              "        buttonEl.style.display =\n",
              "          google.colab.kernel.accessAllowed ? 'block' : 'none';\n",
              "\n",
              "        async function convertToInteractive(key) {\n",
              "          const element = document.querySelector('#df-68d108ba-6a74-4a51-ba43-b86ae9714bb9');\n",
              "          const dataTable =\n",
              "            await google.colab.kernel.invokeFunction('convertToInteractive',\n",
              "                                                     [key], {});\n",
              "          if (!dataTable) return;\n",
              "\n",
              "          const docLinkHtml = 'Like what you see? Visit the ' +\n",
              "            '<a target=\"_blank\" href=https://colab.research.google.com/notebooks/data_table.ipynb>data table notebook</a>'\n",
              "            + ' to learn more about interactive tables.';\n",
              "          element.innerHTML = '';\n",
              "          dataTable['output_type'] = 'display_data';\n",
              "          await google.colab.output.renderOutput(dataTable, element);\n",
              "          const docLink = document.createElement('div');\n",
              "          docLink.innerHTML = docLinkHtml;\n",
              "          element.appendChild(docLink);\n",
              "        }\n",
              "      </script>\n",
              "    </div>\n",
              "  </div>\n",
              "  "
            ]
          },
          "metadata": {},
          "execution_count": 33
        }
      ]
    },
    {
      "cell_type": "code",
      "source": [
        "tmp = df.groupby('label_group').posting_id.agg('unique').to_dict()\n",
        "df['target'] = df.label_group.map(tmp)\n",
        "df.tail()"
      ],
      "metadata": {
        "colab": {
          "base_uri": "https://localhost:8080/",
          "height": 372
        },
        "id": "uCLcmDKABFIU",
        "outputId": "e6fd2384-a4ab-40c9-b17b-0b815b08fec1"
      },
      "execution_count": null,
      "outputs": [
        {
          "output_type": "execute_result",
          "data": {
            "text/plain": [
              "             posting_id                                 image  \\\n",
              "34245  train_4028265689  fff1c07ceefc2c970a7964cfb81981c5.jpg   \n",
              "34246   train_769054909  fff401691371bdcb382a0d9075dfea6a.jpg   \n",
              "34247   train_614977732  fff421b78fa7284284724baf249f522e.jpg   \n",
              "34248  train_3630949769  fff51b87916dbfb6d0f8faa01bee67b8.jpg   \n",
              "34249  train_1792180725  ffffa0ab2ae542357671e96254fa7167.jpg   \n",
              "\n",
              "            image_phash                                              title  \\\n",
              "34245  e3cd72389f248f21  Masker Bahan Kain Spunbond Non Woven 75 gsm 3 ...   \n",
              "34246  be86851f72e2853c    MamyPoko Pants Royal Soft - S 70 - Popok Celana   \n",
              "34247  ad27f0d08c0fcbf0  KHANZAACC Robot RE101S 1.2mm Subwoofer Bass Me...   \n",
              "34248  e3b13bd1d896c05c  Kaldu NON MSG HALAL Mama Kamu Ayam Kampung , S...   \n",
              "34249  af8bc4b2d2cf9083  FLEX TAPE PELAPIS BOCOR / ISOLASI AJAIB / ANTI...   \n",
              "\n",
              "       label_group                                        title_clean  \\\n",
              "34245   3776555725  masker bahan kain spunbond non woven 75 gsm 3 ...   \n",
              "34246   2736479533           mamypoko pant royal soft 70 popok celana   \n",
              "34247   4101248785  khanzaacc robot re101s 12mm subwoofer bass met...   \n",
              "34248   1663538013  kaldu non msg halal mama kamu ayam kampung sap...   \n",
              "34249    459464107   flex tape pelapis bocor isolasi ajaib anti bocor   \n",
              "\n",
              "                                                   preds  \\\n",
              "34245                                 [train_4028265689]   \n",
              "34246                [train_1463059254, train_769054909]   \n",
              "34247  [train_1589074615, train_722555388, train_1490...   \n",
              "34248                                 [train_3630949769]   \n",
              "34249                                 [train_1792180725]   \n",
              "\n",
              "                                                  target  \\\n",
              "34245               [train_2829161572, train_4028265689]   \n",
              "34246                [train_1463059254, train_769054909]   \n",
              "34247  [train_4126022211, train_3926241003, train_232...   \n",
              "34248  [train_3419392575, train_1431563868, train_363...   \n",
              "34249                [train_795128312, train_1792180725]   \n",
              "\n",
              "                                                 matches        f1  \n",
              "34245  [train_178907621, train_1948840703, train_2344...  0.153846  \n",
              "34246                [train_1463059254, train_769054909]  1.000000  \n",
              "34247  [train_104387367, train_1073345113, train_1132...  0.067797  \n",
              "34248                                 [train_3630949769]  0.500000  \n",
              "34249                                 [train_1792180725]  0.666667  "
            ],
            "text/html": [
              "\n",
              "  <div id=\"df-609186e0-9915-4e72-8544-781f7c81aa14\">\n",
              "    <div class=\"colab-df-container\">\n",
              "      <div>\n",
              "<style scoped>\n",
              "    .dataframe tbody tr th:only-of-type {\n",
              "        vertical-align: middle;\n",
              "    }\n",
              "\n",
              "    .dataframe tbody tr th {\n",
              "        vertical-align: top;\n",
              "    }\n",
              "\n",
              "    .dataframe thead th {\n",
              "        text-align: right;\n",
              "    }\n",
              "</style>\n",
              "<table border=\"1\" class=\"dataframe\">\n",
              "  <thead>\n",
              "    <tr style=\"text-align: right;\">\n",
              "      <th></th>\n",
              "      <th>posting_id</th>\n",
              "      <th>image</th>\n",
              "      <th>image_phash</th>\n",
              "      <th>title</th>\n",
              "      <th>label_group</th>\n",
              "      <th>title_clean</th>\n",
              "      <th>preds</th>\n",
              "      <th>target</th>\n",
              "      <th>matches</th>\n",
              "      <th>f1</th>\n",
              "    </tr>\n",
              "  </thead>\n",
              "  <tbody>\n",
              "    <tr>\n",
              "      <th>34245</th>\n",
              "      <td>train_4028265689</td>\n",
              "      <td>fff1c07ceefc2c970a7964cfb81981c5.jpg</td>\n",
              "      <td>e3cd72389f248f21</td>\n",
              "      <td>Masker Bahan Kain Spunbond Non Woven 75 gsm 3 ...</td>\n",
              "      <td>3776555725</td>\n",
              "      <td>masker bahan kain spunbond non woven 75 gsm 3 ...</td>\n",
              "      <td>[train_4028265689]</td>\n",
              "      <td>[train_2829161572, train_4028265689]</td>\n",
              "      <td>[train_178907621, train_1948840703, train_2344...</td>\n",
              "      <td>0.153846</td>\n",
              "    </tr>\n",
              "    <tr>\n",
              "      <th>34246</th>\n",
              "      <td>train_769054909</td>\n",
              "      <td>fff401691371bdcb382a0d9075dfea6a.jpg</td>\n",
              "      <td>be86851f72e2853c</td>\n",
              "      <td>MamyPoko Pants Royal Soft - S 70 - Popok Celana</td>\n",
              "      <td>2736479533</td>\n",
              "      <td>mamypoko pant royal soft 70 popok celana</td>\n",
              "      <td>[train_1463059254, train_769054909]</td>\n",
              "      <td>[train_1463059254, train_769054909]</td>\n",
              "      <td>[train_1463059254, train_769054909]</td>\n",
              "      <td>1.000000</td>\n",
              "    </tr>\n",
              "    <tr>\n",
              "      <th>34247</th>\n",
              "      <td>train_614977732</td>\n",
              "      <td>fff421b78fa7284284724baf249f522e.jpg</td>\n",
              "      <td>ad27f0d08c0fcbf0</td>\n",
              "      <td>KHANZAACC Robot RE101S 1.2mm Subwoofer Bass Me...</td>\n",
              "      <td>4101248785</td>\n",
              "      <td>khanzaacc robot re101s 12mm subwoofer bass met...</td>\n",
              "      <td>[train_1589074615, train_722555388, train_1490...</td>\n",
              "      <td>[train_4126022211, train_3926241003, train_232...</td>\n",
              "      <td>[train_104387367, train_1073345113, train_1132...</td>\n",
              "      <td>0.067797</td>\n",
              "    </tr>\n",
              "    <tr>\n",
              "      <th>34248</th>\n",
              "      <td>train_3630949769</td>\n",
              "      <td>fff51b87916dbfb6d0f8faa01bee67b8.jpg</td>\n",
              "      <td>e3b13bd1d896c05c</td>\n",
              "      <td>Kaldu NON MSG HALAL Mama Kamu Ayam Kampung , S...</td>\n",
              "      <td>1663538013</td>\n",
              "      <td>kaldu non msg halal mama kamu ayam kampung sap...</td>\n",
              "      <td>[train_3630949769]</td>\n",
              "      <td>[train_3419392575, train_1431563868, train_363...</td>\n",
              "      <td>[train_3630949769]</td>\n",
              "      <td>0.500000</td>\n",
              "    </tr>\n",
              "    <tr>\n",
              "      <th>34249</th>\n",
              "      <td>train_1792180725</td>\n",
              "      <td>ffffa0ab2ae542357671e96254fa7167.jpg</td>\n",
              "      <td>af8bc4b2d2cf9083</td>\n",
              "      <td>FLEX TAPE PELAPIS BOCOR / ISOLASI AJAIB / ANTI...</td>\n",
              "      <td>459464107</td>\n",
              "      <td>flex tape pelapis bocor isolasi ajaib anti bocor</td>\n",
              "      <td>[train_1792180725]</td>\n",
              "      <td>[train_795128312, train_1792180725]</td>\n",
              "      <td>[train_1792180725]</td>\n",
              "      <td>0.666667</td>\n",
              "    </tr>\n",
              "  </tbody>\n",
              "</table>\n",
              "</div>\n",
              "      <button class=\"colab-df-convert\" onclick=\"convertToInteractive('df-609186e0-9915-4e72-8544-781f7c81aa14')\"\n",
              "              title=\"Convert this dataframe to an interactive table.\"\n",
              "              style=\"display:none;\">\n",
              "        \n",
              "  <svg xmlns=\"http://www.w3.org/2000/svg\" height=\"24px\"viewBox=\"0 0 24 24\"\n",
              "       width=\"24px\">\n",
              "    <path d=\"M0 0h24v24H0V0z\" fill=\"none\"/>\n",
              "    <path d=\"M18.56 5.44l.94 2.06.94-2.06 2.06-.94-2.06-.94-.94-2.06-.94 2.06-2.06.94zm-11 1L8.5 8.5l.94-2.06 2.06-.94-2.06-.94L8.5 2.5l-.94 2.06-2.06.94zm10 10l.94 2.06.94-2.06 2.06-.94-2.06-.94-.94-2.06-.94 2.06-2.06.94z\"/><path d=\"M17.41 7.96l-1.37-1.37c-.4-.4-.92-.59-1.43-.59-.52 0-1.04.2-1.43.59L10.3 9.45l-7.72 7.72c-.78.78-.78 2.05 0 2.83L4 21.41c.39.39.9.59 1.41.59.51 0 1.02-.2 1.41-.59l7.78-7.78 2.81-2.81c.8-.78.8-2.07 0-2.86zM5.41 20L4 18.59l7.72-7.72 1.47 1.35L5.41 20z\"/>\n",
              "  </svg>\n",
              "      </button>\n",
              "      \n",
              "  <style>\n",
              "    .colab-df-container {\n",
              "      display:flex;\n",
              "      flex-wrap:wrap;\n",
              "      gap: 12px;\n",
              "    }\n",
              "\n",
              "    .colab-df-convert {\n",
              "      background-color: #E8F0FE;\n",
              "      border: none;\n",
              "      border-radius: 50%;\n",
              "      cursor: pointer;\n",
              "      display: none;\n",
              "      fill: #1967D2;\n",
              "      height: 32px;\n",
              "      padding: 0 0 0 0;\n",
              "      width: 32px;\n",
              "    }\n",
              "\n",
              "    .colab-df-convert:hover {\n",
              "      background-color: #E2EBFA;\n",
              "      box-shadow: 0px 1px 2px rgba(60, 64, 67, 0.3), 0px 1px 3px 1px rgba(60, 64, 67, 0.15);\n",
              "      fill: #174EA6;\n",
              "    }\n",
              "\n",
              "    [theme=dark] .colab-df-convert {\n",
              "      background-color: #3B4455;\n",
              "      fill: #D2E3FC;\n",
              "    }\n",
              "\n",
              "    [theme=dark] .colab-df-convert:hover {\n",
              "      background-color: #434B5C;\n",
              "      box-shadow: 0px 1px 3px 1px rgba(0, 0, 0, 0.15);\n",
              "      filter: drop-shadow(0px 1px 2px rgba(0, 0, 0, 0.3));\n",
              "      fill: #FFFFFF;\n",
              "    }\n",
              "  </style>\n",
              "\n",
              "      <script>\n",
              "        const buttonEl =\n",
              "          document.querySelector('#df-609186e0-9915-4e72-8544-781f7c81aa14 button.colab-df-convert');\n",
              "        buttonEl.style.display =\n",
              "          google.colab.kernel.accessAllowed ? 'block' : 'none';\n",
              "\n",
              "        async function convertToInteractive(key) {\n",
              "          const element = document.querySelector('#df-609186e0-9915-4e72-8544-781f7c81aa14');\n",
              "          const dataTable =\n",
              "            await google.colab.kernel.invokeFunction('convertToInteractive',\n",
              "                                                     [key], {});\n",
              "          if (!dataTable) return;\n",
              "\n",
              "          const docLinkHtml = 'Like what you see? Visit the ' +\n",
              "            '<a target=\"_blank\" href=https://colab.research.google.com/notebooks/data_table.ipynb>data table notebook</a>'\n",
              "            + ' to learn more about interactive tables.';\n",
              "          element.innerHTML = '';\n",
              "          dataTable['output_type'] = 'display_data';\n",
              "          await google.colab.output.renderOutput(dataTable, element);\n",
              "          const docLink = document.createElement('div');\n",
              "          docLink.innerHTML = docLinkHtml;\n",
              "          element.appendChild(docLink);\n",
              "        }\n",
              "      </script>\n",
              "    </div>\n",
              "  </div>\n",
              "  "
            ]
          },
          "metadata": {},
          "execution_count": 34
        }
      ]
    },
    {
      "cell_type": "code",
      "source": [
        "def combine_for_sub(row):\n",
        "    x = np.concatenate([row.preds])\n",
        "    # return ' '.join(np.unique(x))\n",
        "    return np.unique(x)\n",
        "\n",
        "df['matches'] = df.apply(combine_for_sub,axis=1)"
      ],
      "metadata": {
        "id": "gujVrtY2Lqnr"
      },
      "execution_count": null,
      "outputs": []
    },
    {
      "cell_type": "code",
      "source": [
        "df.head()"
      ],
      "metadata": {
        "colab": {
          "base_uri": "https://localhost:8080/",
          "height": 337
        },
        "id": "Z9caipF4Lu3h",
        "outputId": "5c50ad49-3a4f-4fae-b296-adcb56478fb8"
      },
      "execution_count": null,
      "outputs": [
        {
          "output_type": "execute_result",
          "data": {
            "text/plain": [
              "         posting_id                                 image       image_phash  \\\n",
              "0   train_129225211  0000a68812bc7e98c42888dfb1c07da0.jpg  94974f937d4c2433   \n",
              "1  train_3386243561  00039780dfc94d01db8676fe789ecd05.jpg  af3f9460c2838f0f   \n",
              "2  train_2288590299  000a190fdd715a2a36faed16e2c65df7.jpg  b94cb00ed3e50f78   \n",
              "3  train_2406599165  00117e4fc239b1b641ff08340b429633.jpg  8514fc58eafea283   \n",
              "4  train_3369186413  00136d1cf4edede0203f32f05f660588.jpg  a6f319f924ad708c   \n",
              "\n",
              "                                               title  label_group  \\\n",
              "0                          Paper Bag Victoria Secret    249114794   \n",
              "1  Double Tape 3M VHB 12 mm x 4,5 m ORIGINAL / DO...   2937985045   \n",
              "2        Maling TTS Canned Pork Luncheon Meat 397 gr   2395904891   \n",
              "3  Daster Batik Lengan pendek - Motif Acak / Camp...   4093212188   \n",
              "4                  Nescafe \\xc3\\x89clair Latte 220ml   3648931069   \n",
              "\n",
              "                                         title_clean  \\\n",
              "0                          paper bag victoria secret   \n",
              "1  double tape 3m vhb 12 mm x 45 original double ...   \n",
              "2         maling tt canned pork luncheon meat 397 gr   \n",
              "3  daster batik lengan pendek motif acak campur l...   \n",
              "4                    nescafe xc3x89clair latte 220ml   \n",
              "\n",
              "                                               preds  \\\n",
              "0                [train_2278313361, train_129225211]   \n",
              "1               [train_3386243561, train_3355243346]   \n",
              "2  [train_1890689336, train_398427706, train_1163...   \n",
              "3  [train_997128436, train_1744956981, train_2406...   \n",
              "4  [train_682053892, train_1340876743, train_8135...   \n",
              "\n",
              "                                 target  \\\n",
              "0   [train_129225211, train_2278313361]   \n",
              "1  [train_3386243561, train_3423213080]   \n",
              "2  [train_2288590299, train_3803689425]   \n",
              "3  [train_2406599165, train_3342059966]   \n",
              "4   [train_3369186413, train_921438619]   \n",
              "\n",
              "                                             matches        f1  \n",
              "0                [train_129225211, train_2278313361]  1.000000  \n",
              "1               [train_3355243346, train_3386243561]  0.250000  \n",
              "2  [train_1163030354, train_1403240912, train_187...  0.181818  \n",
              "3  [train_1508100548, train_1744956981, train_196...  0.181818  \n",
              "4  [train_1008876697, train_1340876743, train_211...  0.086957  "
            ],
            "text/html": [
              "\n",
              "  <div id=\"df-a631a950-8ccf-42ed-bcc5-f42ccb93d80e\">\n",
              "    <div class=\"colab-df-container\">\n",
              "      <div>\n",
              "<style scoped>\n",
              "    .dataframe tbody tr th:only-of-type {\n",
              "        vertical-align: middle;\n",
              "    }\n",
              "\n",
              "    .dataframe tbody tr th {\n",
              "        vertical-align: top;\n",
              "    }\n",
              "\n",
              "    .dataframe thead th {\n",
              "        text-align: right;\n",
              "    }\n",
              "</style>\n",
              "<table border=\"1\" class=\"dataframe\">\n",
              "  <thead>\n",
              "    <tr style=\"text-align: right;\">\n",
              "      <th></th>\n",
              "      <th>posting_id</th>\n",
              "      <th>image</th>\n",
              "      <th>image_phash</th>\n",
              "      <th>title</th>\n",
              "      <th>label_group</th>\n",
              "      <th>title_clean</th>\n",
              "      <th>preds</th>\n",
              "      <th>target</th>\n",
              "      <th>matches</th>\n",
              "      <th>f1</th>\n",
              "    </tr>\n",
              "  </thead>\n",
              "  <tbody>\n",
              "    <tr>\n",
              "      <th>0</th>\n",
              "      <td>train_129225211</td>\n",
              "      <td>0000a68812bc7e98c42888dfb1c07da0.jpg</td>\n",
              "      <td>94974f937d4c2433</td>\n",
              "      <td>Paper Bag Victoria Secret</td>\n",
              "      <td>249114794</td>\n",
              "      <td>paper bag victoria secret</td>\n",
              "      <td>[train_2278313361, train_129225211]</td>\n",
              "      <td>[train_129225211, train_2278313361]</td>\n",
              "      <td>[train_129225211, train_2278313361]</td>\n",
              "      <td>1.000000</td>\n",
              "    </tr>\n",
              "    <tr>\n",
              "      <th>1</th>\n",
              "      <td>train_3386243561</td>\n",
              "      <td>00039780dfc94d01db8676fe789ecd05.jpg</td>\n",
              "      <td>af3f9460c2838f0f</td>\n",
              "      <td>Double Tape 3M VHB 12 mm x 4,5 m ORIGINAL / DO...</td>\n",
              "      <td>2937985045</td>\n",
              "      <td>double tape 3m vhb 12 mm x 45 original double ...</td>\n",
              "      <td>[train_3386243561, train_3355243346]</td>\n",
              "      <td>[train_3386243561, train_3423213080]</td>\n",
              "      <td>[train_3355243346, train_3386243561]</td>\n",
              "      <td>0.250000</td>\n",
              "    </tr>\n",
              "    <tr>\n",
              "      <th>2</th>\n",
              "      <td>train_2288590299</td>\n",
              "      <td>000a190fdd715a2a36faed16e2c65df7.jpg</td>\n",
              "      <td>b94cb00ed3e50f78</td>\n",
              "      <td>Maling TTS Canned Pork Luncheon Meat 397 gr</td>\n",
              "      <td>2395904891</td>\n",
              "      <td>maling tt canned pork luncheon meat 397 gr</td>\n",
              "      <td>[train_1890689336, train_398427706, train_1163...</td>\n",
              "      <td>[train_2288590299, train_3803689425]</td>\n",
              "      <td>[train_1163030354, train_1403240912, train_187...</td>\n",
              "      <td>0.181818</td>\n",
              "    </tr>\n",
              "    <tr>\n",
              "      <th>3</th>\n",
              "      <td>train_2406599165</td>\n",
              "      <td>00117e4fc239b1b641ff08340b429633.jpg</td>\n",
              "      <td>8514fc58eafea283</td>\n",
              "      <td>Daster Batik Lengan pendek - Motif Acak / Camp...</td>\n",
              "      <td>4093212188</td>\n",
              "      <td>daster batik lengan pendek motif acak campur l...</td>\n",
              "      <td>[train_997128436, train_1744956981, train_2406...</td>\n",
              "      <td>[train_2406599165, train_3342059966]</td>\n",
              "      <td>[train_1508100548, train_1744956981, train_196...</td>\n",
              "      <td>0.181818</td>\n",
              "    </tr>\n",
              "    <tr>\n",
              "      <th>4</th>\n",
              "      <td>train_3369186413</td>\n",
              "      <td>00136d1cf4edede0203f32f05f660588.jpg</td>\n",
              "      <td>a6f319f924ad708c</td>\n",
              "      <td>Nescafe \\xc3\\x89clair Latte 220ml</td>\n",
              "      <td>3648931069</td>\n",
              "      <td>nescafe xc3x89clair latte 220ml</td>\n",
              "      <td>[train_682053892, train_1340876743, train_8135...</td>\n",
              "      <td>[train_3369186413, train_921438619]</td>\n",
              "      <td>[train_1008876697, train_1340876743, train_211...</td>\n",
              "      <td>0.086957</td>\n",
              "    </tr>\n",
              "  </tbody>\n",
              "</table>\n",
              "</div>\n",
              "      <button class=\"colab-df-convert\" onclick=\"convertToInteractive('df-a631a950-8ccf-42ed-bcc5-f42ccb93d80e')\"\n",
              "              title=\"Convert this dataframe to an interactive table.\"\n",
              "              style=\"display:none;\">\n",
              "        \n",
              "  <svg xmlns=\"http://www.w3.org/2000/svg\" height=\"24px\"viewBox=\"0 0 24 24\"\n",
              "       width=\"24px\">\n",
              "    <path d=\"M0 0h24v24H0V0z\" fill=\"none\"/>\n",
              "    <path d=\"M18.56 5.44l.94 2.06.94-2.06 2.06-.94-2.06-.94-.94-2.06-.94 2.06-2.06.94zm-11 1L8.5 8.5l.94-2.06 2.06-.94-2.06-.94L8.5 2.5l-.94 2.06-2.06.94zm10 10l.94 2.06.94-2.06 2.06-.94-2.06-.94-.94-2.06-.94 2.06-2.06.94z\"/><path d=\"M17.41 7.96l-1.37-1.37c-.4-.4-.92-.59-1.43-.59-.52 0-1.04.2-1.43.59L10.3 9.45l-7.72 7.72c-.78.78-.78 2.05 0 2.83L4 21.41c.39.39.9.59 1.41.59.51 0 1.02-.2 1.41-.59l7.78-7.78 2.81-2.81c.8-.78.8-2.07 0-2.86zM5.41 20L4 18.59l7.72-7.72 1.47 1.35L5.41 20z\"/>\n",
              "  </svg>\n",
              "      </button>\n",
              "      \n",
              "  <style>\n",
              "    .colab-df-container {\n",
              "      display:flex;\n",
              "      flex-wrap:wrap;\n",
              "      gap: 12px;\n",
              "    }\n",
              "\n",
              "    .colab-df-convert {\n",
              "      background-color: #E8F0FE;\n",
              "      border: none;\n",
              "      border-radius: 50%;\n",
              "      cursor: pointer;\n",
              "      display: none;\n",
              "      fill: #1967D2;\n",
              "      height: 32px;\n",
              "      padding: 0 0 0 0;\n",
              "      width: 32px;\n",
              "    }\n",
              "\n",
              "    .colab-df-convert:hover {\n",
              "      background-color: #E2EBFA;\n",
              "      box-shadow: 0px 1px 2px rgba(60, 64, 67, 0.3), 0px 1px 3px 1px rgba(60, 64, 67, 0.15);\n",
              "      fill: #174EA6;\n",
              "    }\n",
              "\n",
              "    [theme=dark] .colab-df-convert {\n",
              "      background-color: #3B4455;\n",
              "      fill: #D2E3FC;\n",
              "    }\n",
              "\n",
              "    [theme=dark] .colab-df-convert:hover {\n",
              "      background-color: #434B5C;\n",
              "      box-shadow: 0px 1px 3px 1px rgba(0, 0, 0, 0.15);\n",
              "      filter: drop-shadow(0px 1px 2px rgba(0, 0, 0, 0.3));\n",
              "      fill: #FFFFFF;\n",
              "    }\n",
              "  </style>\n",
              "\n",
              "      <script>\n",
              "        const buttonEl =\n",
              "          document.querySelector('#df-a631a950-8ccf-42ed-bcc5-f42ccb93d80e button.colab-df-convert');\n",
              "        buttonEl.style.display =\n",
              "          google.colab.kernel.accessAllowed ? 'block' : 'none';\n",
              "\n",
              "        async function convertToInteractive(key) {\n",
              "          const element = document.querySelector('#df-a631a950-8ccf-42ed-bcc5-f42ccb93d80e');\n",
              "          const dataTable =\n",
              "            await google.colab.kernel.invokeFunction('convertToInteractive',\n",
              "                                                     [key], {});\n",
              "          if (!dataTable) return;\n",
              "\n",
              "          const docLinkHtml = 'Like what you see? Visit the ' +\n",
              "            '<a target=\"_blank\" href=https://colab.research.google.com/notebooks/data_table.ipynb>data table notebook</a>'\n",
              "            + ' to learn more about interactive tables.';\n",
              "          element.innerHTML = '';\n",
              "          dataTable['output_type'] = 'display_data';\n",
              "          await google.colab.output.renderOutput(dataTable, element);\n",
              "          const docLink = document.createElement('div');\n",
              "          docLink.innerHTML = docLinkHtml;\n",
              "          element.appendChild(docLink);\n",
              "        }\n",
              "      </script>\n",
              "    </div>\n",
              "  </div>\n",
              "  "
            ]
          },
          "metadata": {},
          "execution_count": 36
        }
      ]
    },
    {
      "cell_type": "code",
      "source": [
        "def getMetric(col):\n",
        "    def f1score(row):\n",
        "        n = len( np.intersect1d(row.target,row[col]) )\n",
        "        return 2*n / (len(row.target)+len(row[col]))\n",
        "    return f1score"
      ],
      "metadata": {
        "id": "zFtAcfYFJOo7"
      },
      "execution_count": null,
      "outputs": []
    },
    {
      "cell_type": "code",
      "source": [
        "df['f1'] = df.apply(getMetric('matches'),axis=1)\n",
        "print('CV score for w2v =',df.f1.mean())"
      ],
      "metadata": {
        "colab": {
          "base_uri": "https://localhost:8080/"
        },
        "id": "57WLemzWBFKX",
        "outputId": "ebb9ece4-0992-4fb6-9f96-7810fbeaf74c"
      },
      "execution_count": null,
      "outputs": [
        {
          "output_type": "stream",
          "name": "stdout",
          "text": [
            "CV score for w2v = 0.4171642970899288\n"
          ]
        }
      ]
    },
    {
      "cell_type": "code",
      "source": [],
      "metadata": {
        "id": "asimowJnBFMn"
      },
      "execution_count": null,
      "outputs": []
    },
    {
      "cell_type": "code",
      "source": [],
      "metadata": {
        "id": "buX7_8-hBFOh"
      },
      "execution_count": null,
      "outputs": []
    },
    {
      "cell_type": "code",
      "source": [],
      "metadata": {
        "id": "E8YSp6pYBFQP"
      },
      "execution_count": null,
      "outputs": []
    }
  ]
}